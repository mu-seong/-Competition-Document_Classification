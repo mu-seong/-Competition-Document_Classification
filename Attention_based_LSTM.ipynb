{
 "cells": [
  {
   "cell_type": "markdown",
   "id": "f799f66c",
   "metadata": {},
   "source": [
    "# Library Load"
   ]
  },
  {
   "cell_type": "code",
   "execution_count": 1,
   "id": "5dd642d1",
   "metadata": {},
   "outputs": [
    {
     "name": "stderr",
     "output_type": "stream",
     "text": [
      "Using TensorFlow backend.\n",
      "C:\\Users\\user\\.conda\\envs\\green\\lib\\site-packages\\gensim\\similarities\\__init__.py:15: UserWarning: The gensim.similarities.levenshtein submodule is disabled, because the optional Levenshtein package <https://pypi.org/project/python-Levenshtein/> is unavailable. Install Levenhstein (e.g. `pip install python-Levenshtein`) to suppress this warning.\n",
      "  warnings.warn(msg)\n"
     ]
    }
   ],
   "source": [
    "import pandas as pd\n",
    "import numpy as np\n",
    "\n",
    "from keras.preprocessing.text import Tokenizer, text_to_word_sequence\n",
    "from keras.preprocessing.sequence import pad_sequences\n",
    "from keras.engine.topology import Layer\n",
    "from keras.callbacks import Callback, ModelCheckpoint, EarlyStopping\n",
    "from keras.models import Model, load_model, save_model, Sequential\n",
    "from keras.layers import Embedding, Input, Dense, Conv1D, Dropout, Concatenate, Flatten, \\\n",
    "MaxPooling1D, Reshape, Bidirectional, LSTM, TimeDistributed, BatchNormalization\n",
    "\n",
    "from keras import backend as K\n",
    "from keras import optimizers\n",
    "from keras import initializers, regularizers, constraints\n",
    "from keras.utils.np_utils import to_categorical\n",
    "from keras.utils import CustomObjectScope\n",
    "\n",
    "import re\n",
    "import nltk\n",
    "from nltk import tokenize\n",
    "\n",
    "from gensim.models import Word2Vec, KeyedVectors\n",
    "\n",
    "from sklearn.preprocessing import MinMaxScaler\n",
    "\n",
    "import matplotlib.pyplot as plt\n",
    "import seaborn as sns\n",
    "\n",
    "from konlpy.tag import Mecab\n",
    "import pickle as pkl\n",
    "from tqdm import tqdm\n",
    "\n",
    "from IPython.display import SVG\n",
    "from keras.utils.vis_utils import model_to_dot\n",
    "from keras.utils import plot_model\n",
    "\n",
    "import warnings\n",
    "warnings.filterwarnings('ignore')"
   ]
  },
  {
   "cell_type": "code",
   "execution_count": 2,
   "id": "e690ad5a",
   "metadata": {},
   "outputs": [],
   "source": [
    "version = 'v2'"
   ]
  },
  {
   "cell_type": "markdown",
   "id": "28e69823",
   "metadata": {},
   "source": [
    "# Data Load"
   ]
  },
  {
   "cell_type": "code",
   "execution_count": 3,
   "id": "cfaee125",
   "metadata": {},
   "outputs": [],
   "source": [
    "train = pd.read_csv('./data/train.csv')"
   ]
  },
  {
   "cell_type": "code",
   "execution_count": 4,
   "id": "14a6f9f0",
   "metadata": {},
   "outputs": [
    {
     "data": {
      "text/html": [
       "<div>\n",
       "<style scoped>\n",
       "    .dataframe tbody tr th:only-of-type {\n",
       "        vertical-align: middle;\n",
       "    }\n",
       "\n",
       "    .dataframe tbody tr th {\n",
       "        vertical-align: top;\n",
       "    }\n",
       "\n",
       "    .dataframe thead th {\n",
       "        text-align: right;\n",
       "    }\n",
       "</style>\n",
       "<table border=\"1\" class=\"dataframe\">\n",
       "  <thead>\n",
       "    <tr style=\"text-align: right;\">\n",
       "      <th></th>\n",
       "      <th>index</th>\n",
       "      <th>제출년도</th>\n",
       "      <th>사업명</th>\n",
       "      <th>사업_부처명</th>\n",
       "      <th>계속과제여부</th>\n",
       "      <th>내역사업명</th>\n",
       "      <th>과제명</th>\n",
       "      <th>요약문_연구목표</th>\n",
       "      <th>요약문_연구내용</th>\n",
       "      <th>요약문_기대효과</th>\n",
       "      <th>요약문_한글키워드</th>\n",
       "      <th>요약문_영문키워드</th>\n",
       "      <th>label</th>\n",
       "    </tr>\n",
       "  </thead>\n",
       "  <tbody>\n",
       "    <tr>\n",
       "      <th>0</th>\n",
       "      <td>0</td>\n",
       "      <td>2016</td>\n",
       "      <td>농업기초기반연구</td>\n",
       "      <td>농촌진흥청</td>\n",
       "      <td>신규</td>\n",
       "      <td>농산물안전성연구</td>\n",
       "      <td>유전정보를 활용한 새로운 해충 분류군 동정기술 개발</td>\n",
       "      <td>○ 새로운 해충분류군의 동정기술 개발 및 유입확산 추적</td>\n",
       "      <td>(가) 외래 및 돌발해충의 발생조사 및 종 동정\\n\\n\\n    ○ 대상해충 : 최...</td>\n",
       "      <td>○ 새로운 돌발 및 외래해충의 신속, 정확한 동정법 향상\\n\\n\\n○ 돌발 및 외래...</td>\n",
       "      <td>뉴클레오티드 염기서열, 분자마커, 종 동정, 침샘, 전사체</td>\n",
       "      <td>nucleotide sequence, molecular marker, species...</td>\n",
       "      <td>24</td>\n",
       "    </tr>\n",
       "    <tr>\n",
       "      <th>1</th>\n",
       "      <td>1</td>\n",
       "      <td>2019</td>\n",
       "      <td>이공학학술연구기반구축(R&amp;D)</td>\n",
       "      <td>교육부</td>\n",
       "      <td>신규</td>\n",
       "      <td>지역대학우수과학자지원사업(1년~5년)</td>\n",
       "      <td>대장암의 TRAIL 내성 표적 인자 발굴 및 TRAIL 반응 예측 유전자 지도 구축...</td>\n",
       "      <td>최종목표:  TRAIL 감수성 표적 유전자를 발굴하고 내성제어 기전을 연구. 발굴된...</td>\n",
       "      <td>1차년도\\n1) Microarray를 통한 선천적 TRAIL 내성 표적 후보 유전자...</td>\n",
       "      <td>1) TRAIL 내성 특이적 표적분자를 발굴하고, 이를 이용한 TRAIL 효과 증진...</td>\n",
       "      <td>대장암,항암제 내성,세포사멸,유전자발굴</td>\n",
       "      <td>TRAIL,Colorectal cancer,TRAIL resistance,Apopt...</td>\n",
       "      <td>0</td>\n",
       "    </tr>\n",
       "    <tr>\n",
       "      <th>2</th>\n",
       "      <td>2</td>\n",
       "      <td>2016</td>\n",
       "      <td>중소기업기술혁신개발</td>\n",
       "      <td>중소기업청</td>\n",
       "      <td>신규</td>\n",
       "      <td>혁신기업기술개발</td>\n",
       "      <td>비목질계 셀룰로오스 식물자원을 활용한 기능성 부직포 및 고부가가치 뷰티케어 faci...</td>\n",
       "      <td>* 식물계자원 정련 및 최적 신서란 파이버 기초연구 개발\\n\\n\\n* 소비자 및 바...</td>\n",
       "      <td>* 식물계자원 정련 및 최적 신서란 파이버 기초연구 개발\\n\\n\\n- Tencel/...</td>\n",
       "      <td>* 국내 독자적인 비목질계 셀룰로오스 자원의 파이버 및 부직포 제조 등의 기술 확보...</td>\n",
       "      <td>기능성 샐룰로오스 파이버,천연섬유,기능성 부직포,뷰티&amp;amp;케어 제품,미용 솜</td>\n",
       "      <td>functional cellulose fiber,natural fiber,funct...</td>\n",
       "      <td>0</td>\n",
       "    </tr>\n",
       "    <tr>\n",
       "      <th>3</th>\n",
       "      <td>3</td>\n",
       "      <td>2018</td>\n",
       "      <td>창업성장기술개발(R&amp;D)</td>\n",
       "      <td>중소벤처기업부</td>\n",
       "      <td>신규</td>\n",
       "      <td>창업사업화연계과제</td>\n",
       "      <td>소화기 암 진단용 분자영상 형광프로브 개발</td>\n",
       "      <td>#  암특이적 바이오마커 발굴 및 바이오마커에 대한 프로브 개발\\n\\n\\n1) 소화...</td>\n",
       "      <td># 소화기 암 진단용 분자영상 형광프로브 개발\\n\\n\\n- 국소 도포형 소화기 암 ...</td>\n",
       "      <td># 암 진단기술의 차별성: 소화기 암 특이 프로브 개발\\n\\n\\n- 최근 체외진단시...</td>\n",
       "      <td>분자 진단,형광 조영제,프로브,항체,대장암</td>\n",
       "      <td>Molecular diagnosis,Fluorescence,probe,antibod...</td>\n",
       "      <td>0</td>\n",
       "    </tr>\n",
       "    <tr>\n",
       "      <th>4</th>\n",
       "      <td>4</td>\n",
       "      <td>2016</td>\n",
       "      <td>이공학개인기초연구지원</td>\n",
       "      <td>교육부</td>\n",
       "      <td>계속</td>\n",
       "      <td>기본연구지원</td>\n",
       "      <td>위암환자의 항암제반응예측을 위한 BRCA 발현검사</td>\n",
       "      <td>수술이 불가능한 위암환자는 생존기간은 10개월 안팎에 지나지 않고, 항암화학요법에 ...</td>\n",
       "      <td>-In situ hybridization 검사의 정확성을 확인하기 위해 위암세포주 ...</td>\n",
       "      <td>-본 연구는 파라핀보관조직에서 in situ hybridization로 mRNA 및...</td>\n",
       "      <td>BRCA,제자리부합법,조직미세배열,마이크로RNA,위암,항암제반응,젊은 연령/가족성 위암</td>\n",
       "      <td>BRCA,Insituhybridization,tissuemicroarray,micr...</td>\n",
       "      <td>0</td>\n",
       "    </tr>\n",
       "    <tr>\n",
       "      <th>...</th>\n",
       "      <td>...</td>\n",
       "      <td>...</td>\n",
       "      <td>...</td>\n",
       "      <td>...</td>\n",
       "      <td>...</td>\n",
       "      <td>...</td>\n",
       "      <td>...</td>\n",
       "      <td>...</td>\n",
       "      <td>...</td>\n",
       "      <td>...</td>\n",
       "      <td>...</td>\n",
       "      <td>...</td>\n",
       "      <td>...</td>\n",
       "    </tr>\n",
       "    <tr>\n",
       "      <th>174299</th>\n",
       "      <td>174299</td>\n",
       "      <td>2016</td>\n",
       "      <td>개인연구지원</td>\n",
       "      <td>미래창조과학부</td>\n",
       "      <td>신규</td>\n",
       "      <td>중견연구</td>\n",
       "      <td>혈관내막 증식을 치료하기 위한 표적분자 발굴</td>\n",
       "      <td>증식성 혈관질환과 염증반응과의 관련성이 높으나, 혈관평활근세포의 탈분화를 유도하는 ...</td>\n",
       "      <td>● 1차년: 혈관내막 증식과 관련된 표적분자 발굴 및 염증세포의 활성과 분화에 대한...</td>\n",
       "      <td>심혈관 질환 발생의 새로운 기전 규명뿐만 아니라  제어할 수 있는 새로운 방법을 탐...</td>\n",
       "      <td>혈관내막 증식,혈관 개조,혈관평활근세포,염증세포,혈관염증,혈관평활근세포 탈분화,표적분자</td>\n",
       "      <td>Intimahyperplasia,Vascularremodeling,Vasculars...</td>\n",
       "      <td>0</td>\n",
       "    </tr>\n",
       "    <tr>\n",
       "      <th>174300</th>\n",
       "      <td>174300</td>\n",
       "      <td>2016</td>\n",
       "      <td>개인연구지원</td>\n",
       "      <td>미래창조과학부</td>\n",
       "      <td>신규</td>\n",
       "      <td>중견연구</td>\n",
       "      <td>삼킴곤란 개선을 위한 물성조절 식품시스템에서의 유동층과립 복합소재의 유변물성 변화 ...</td>\n",
       "      <td>삼킴곤란을 겪고 있는 고령자의 안전한 식품섭취는 삼킴에 적합한 유변물성을 가진 물성...</td>\n",
       "      <td>본 연구에서는 여러 가지 유변물성 측정기술을 이용하여 고령자의 삼킴곤란 개선을 위해...</td>\n",
       "      <td>○ 그 동안 연구되지 않은 다양한 물성조절 검복합 소재의 과립제형 및 유변물성 연구...</td>\n",
       "      <td>삼킴곤란,유변물성,유동층과립,물리적 특성,검복합물</td>\n",
       "      <td>Swallowingdifficulty,Rheologicalproperty,Fludi...</td>\n",
       "      <td>0</td>\n",
       "    </tr>\n",
       "    <tr>\n",
       "      <th>174301</th>\n",
       "      <td>174301</td>\n",
       "      <td>2018</td>\n",
       "      <td>이공학학술연구기반구축(R&amp;D)</td>\n",
       "      <td>교육부</td>\n",
       "      <td>계속</td>\n",
       "      <td>이공분야학문후속세대양성_대통령POST_DOC펠로우쉽</td>\n",
       "      <td>식물 유전체 정보 고도화 및 핵심 유전자 군 진화연구</td>\n",
       "      <td>지난 10년여 동안 100여종에 대한 식물 유전체 정보가 완성되어 공개되었지만, 애...</td>\n",
       "      <td>○ 공개된 식물 유전체 정보 및 대상 유전자 군 선발\\n\\n   - 공개된 식물 유...</td>\n",
       "      <td>- 본 과제에서 개발한 annotation tool은 유전체 고도화 부분에서 가장 ...</td>\n",
       "      <td>유전자 정보 고도화,대상 유전자 군 재분석,비교 유전체 진화 분석,공개 식물 유전체...</td>\n",
       "      <td>Gene model improvement,Target gene family re-a...</td>\n",
       "      <td>0</td>\n",
       "    </tr>\n",
       "    <tr>\n",
       "      <th>174302</th>\n",
       "      <td>174302</td>\n",
       "      <td>2019</td>\n",
       "      <td>수요자맞춤형육종자원대량신속발굴기술개발(R&amp;D)</td>\n",
       "      <td>농촌진흥청</td>\n",
       "      <td>신규</td>\n",
       "      <td>유용형질 대량 특성평가를 통한 육종모본 발굴</td>\n",
       "      <td>콩 유전자원 내건성, 내습성 대량평가 체계구축 및 자원선발</td>\n",
       "      <td>1) 내건 및 내습성 유전자원 수집\\n\\n2) 내건성 자원평가 체계구축\\n\\n3) ...</td>\n",
       "      <td>[1차 년도(2019)] \\n\\n1) 내건 및 내습성 유전자원 수집\\n\\n○ 기존 ...</td>\n",
       "      <td>○ 내건성 및 내습성 특성평가 체계구축 및 우수자원 발굴로 내재해성 콩 품종육성 자...</td>\n",
       "      <td>콩, 가공적성, 병 저항성, 내재해성, 콩모자이크바이러스</td>\n",
       "      <td>soybean, food application, resistance, biotic-...</td>\n",
       "      <td>23</td>\n",
       "    </tr>\n",
       "    <tr>\n",
       "      <th>174303</th>\n",
       "      <td>174303</td>\n",
       "      <td>2019</td>\n",
       "      <td>이공학학술연구기반구축(R&amp;D)</td>\n",
       "      <td>교육부</td>\n",
       "      <td>신규</td>\n",
       "      <td>이공분야학문후속세대양성_박사후국내연수</td>\n",
       "      <td>광학적 위상 제어 기법을 적용한 디지털 홀로그래피 현미경 시스템 개발</td>\n",
       "      <td>본 연구의 목적은 이터븀이 도핑된 특수 광섬유를 이용하여 광학적인 방법으로 위상(P...</td>\n",
       "      <td>◦ 1차년도 연구개발 내용\\n   : 광섬유 비선형 굴절률 변화 효과를 이용한 광학...</td>\n",
       "      <td>본 연구를 통해 확보하고자 하는 안정적으로 위상 특성 제어를 통해 DHM 시스템을 ...</td>\n",
       "      <td>광섬유,위상장금,위상이동,간섭계,디지털홀로그래피,비축,복원,이터듐</td>\n",
       "      <td>fiber,phase locking,phase shift,interferometer...</td>\n",
       "      <td>0</td>\n",
       "    </tr>\n",
       "  </tbody>\n",
       "</table>\n",
       "<p>174304 rows × 13 columns</p>\n",
       "</div>"
      ],
      "text/plain": [
       "         index  제출년도                        사업명   사업_부처명 계속과제여부  \\\n",
       "0            0  2016                   농업기초기반연구    농촌진흥청     신규   \n",
       "1            1  2019           이공학학술연구기반구축(R&D)      교육부     신규   \n",
       "2            2  2016                 중소기업기술혁신개발    중소기업청     신규   \n",
       "3            3  2018              창업성장기술개발(R&D)  중소벤처기업부     신규   \n",
       "4            4  2016                이공학개인기초연구지원      교육부     계속   \n",
       "...        ...   ...                        ...      ...    ...   \n",
       "174299  174299  2016                     개인연구지원  미래창조과학부     신규   \n",
       "174300  174300  2016                     개인연구지원  미래창조과학부     신규   \n",
       "174301  174301  2018           이공학학술연구기반구축(R&D)      교육부     계속   \n",
       "174302  174302  2019  수요자맞춤형육종자원대량신속발굴기술개발(R&D)    농촌진흥청     신규   \n",
       "174303  174303  2019           이공학학술연구기반구축(R&D)      교육부     신규   \n",
       "\n",
       "                               내역사업명  \\\n",
       "0                           농산물안전성연구   \n",
       "1               지역대학우수과학자지원사업(1년~5년)   \n",
       "2                           혁신기업기술개발   \n",
       "3                          창업사업화연계과제   \n",
       "4                             기본연구지원   \n",
       "...                              ...   \n",
       "174299                          중견연구   \n",
       "174300                          중견연구   \n",
       "174301  이공분야학문후속세대양성_대통령POST_DOC펠로우쉽   \n",
       "174302      유용형질 대량 특성평가를 통한 육종모본 발굴   \n",
       "174303          이공분야학문후속세대양성_박사후국내연수   \n",
       "\n",
       "                                                      과제명  \\\n",
       "0                            유전정보를 활용한 새로운 해충 분류군 동정기술 개발   \n",
       "1       대장암의 TRAIL 내성 표적 인자 발굴 및 TRAIL 반응 예측 유전자 지도 구축...   \n",
       "2       비목질계 셀룰로오스 식물자원을 활용한 기능성 부직포 및 고부가가치 뷰티케어 faci...   \n",
       "3                                 소화기 암 진단용 분자영상 형광프로브 개발   \n",
       "4                             위암환자의 항암제반응예측을 위한 BRCA 발현검사   \n",
       "...                                                   ...   \n",
       "174299                           혈관내막 증식을 치료하기 위한 표적분자 발굴   \n",
       "174300  삼킴곤란 개선을 위한 물성조절 식품시스템에서의 유동층과립 복합소재의 유변물성 변화 ...   \n",
       "174301                      식물 유전체 정보 고도화 및 핵심 유전자 군 진화연구   \n",
       "174302                   콩 유전자원 내건성, 내습성 대량평가 체계구축 및 자원선발   \n",
       "174303             광학적 위상 제어 기법을 적용한 디지털 홀로그래피 현미경 시스템 개발   \n",
       "\n",
       "                                                 요약문_연구목표  \\\n",
       "0                          ○ 새로운 해충분류군의 동정기술 개발 및 유입확산 추적   \n",
       "1       최종목표:  TRAIL 감수성 표적 유전자를 발굴하고 내성제어 기전을 연구. 발굴된...   \n",
       "2       * 식물계자원 정련 및 최적 신서란 파이버 기초연구 개발\\n\\n\\n* 소비자 및 바...   \n",
       "3       #  암특이적 바이오마커 발굴 및 바이오마커에 대한 프로브 개발\\n\\n\\n1) 소화...   \n",
       "4       수술이 불가능한 위암환자는 생존기간은 10개월 안팎에 지나지 않고, 항암화학요법에 ...   \n",
       "...                                                   ...   \n",
       "174299  증식성 혈관질환과 염증반응과의 관련성이 높으나, 혈관평활근세포의 탈분화를 유도하는 ...   \n",
       "174300  삼킴곤란을 겪고 있는 고령자의 안전한 식품섭취는 삼킴에 적합한 유변물성을 가진 물성...   \n",
       "174301  지난 10년여 동안 100여종에 대한 식물 유전체 정보가 완성되어 공개되었지만, 애...   \n",
       "174302  1) 내건 및 내습성 유전자원 수집\\n\\n2) 내건성 자원평가 체계구축\\n\\n3) ...   \n",
       "174303  본 연구의 목적은 이터븀이 도핑된 특수 광섬유를 이용하여 광학적인 방법으로 위상(P...   \n",
       "\n",
       "                                                 요약문_연구내용  \\\n",
       "0       (가) 외래 및 돌발해충의 발생조사 및 종 동정\\n\\n\\n    ○ 대상해충 : 최...   \n",
       "1       1차년도\\n1) Microarray를 통한 선천적 TRAIL 내성 표적 후보 유전자...   \n",
       "2       * 식물계자원 정련 및 최적 신서란 파이버 기초연구 개발\\n\\n\\n- Tencel/...   \n",
       "3       # 소화기 암 진단용 분자영상 형광프로브 개발\\n\\n\\n- 국소 도포형 소화기 암 ...   \n",
       "4       -In situ hybridization 검사의 정확성을 확인하기 위해 위암세포주 ...   \n",
       "...                                                   ...   \n",
       "174299  ● 1차년: 혈관내막 증식과 관련된 표적분자 발굴 및 염증세포의 활성과 분화에 대한...   \n",
       "174300  본 연구에서는 여러 가지 유변물성 측정기술을 이용하여 고령자의 삼킴곤란 개선을 위해...   \n",
       "174301  ○ 공개된 식물 유전체 정보 및 대상 유전자 군 선발\\n\\n   - 공개된 식물 유...   \n",
       "174302  [1차 년도(2019)] \\n\\n1) 내건 및 내습성 유전자원 수집\\n\\n○ 기존 ...   \n",
       "174303  ◦ 1차년도 연구개발 내용\\n   : 광섬유 비선형 굴절률 변화 효과를 이용한 광학...   \n",
       "\n",
       "                                                 요약문_기대효과  \\\n",
       "0       ○ 새로운 돌발 및 외래해충의 신속, 정확한 동정법 향상\\n\\n\\n○ 돌발 및 외래...   \n",
       "1       1) TRAIL 내성 특이적 표적분자를 발굴하고, 이를 이용한 TRAIL 효과 증진...   \n",
       "2       * 국내 독자적인 비목질계 셀룰로오스 자원의 파이버 및 부직포 제조 등의 기술 확보...   \n",
       "3       # 암 진단기술의 차별성: 소화기 암 특이 프로브 개발\\n\\n\\n- 최근 체외진단시...   \n",
       "4       -본 연구는 파라핀보관조직에서 in situ hybridization로 mRNA 및...   \n",
       "...                                                   ...   \n",
       "174299  심혈관 질환 발생의 새로운 기전 규명뿐만 아니라  제어할 수 있는 새로운 방법을 탐...   \n",
       "174300  ○ 그 동안 연구되지 않은 다양한 물성조절 검복합 소재의 과립제형 및 유변물성 연구...   \n",
       "174301  - 본 과제에서 개발한 annotation tool은 유전체 고도화 부분에서 가장 ...   \n",
       "174302  ○ 내건성 및 내습성 특성평가 체계구축 및 우수자원 발굴로 내재해성 콩 품종육성 자...   \n",
       "174303  본 연구를 통해 확보하고자 하는 안정적으로 위상 특성 제어를 통해 DHM 시스템을 ...   \n",
       "\n",
       "                                                요약문_한글키워드  \\\n",
       "0                        뉴클레오티드 염기서열, 분자마커, 종 동정, 침샘, 전사체   \n",
       "1                                   대장암,항암제 내성,세포사멸,유전자발굴   \n",
       "2            기능성 샐룰로오스 파이버,천연섬유,기능성 부직포,뷰티&amp;케어 제품,미용 솜   \n",
       "3                                 분자 진단,형광 조영제,프로브,항체,대장암   \n",
       "4        BRCA,제자리부합법,조직미세배열,마이크로RNA,위암,항암제반응,젊은 연령/가족성 위암   \n",
       "...                                                   ...   \n",
       "174299   혈관내막 증식,혈관 개조,혈관평활근세포,염증세포,혈관염증,혈관평활근세포 탈분화,표적분자   \n",
       "174300                        삼킴곤란,유변물성,유동층과립,물리적 특성,검복합물   \n",
       "174301  유전자 정보 고도화,대상 유전자 군 재분석,비교 유전체 진화 분석,공개 식물 유전체...   \n",
       "174302                    콩, 가공적성, 병 저항성, 내재해성, 콩모자이크바이러스   \n",
       "174303               광섬유,위상장금,위상이동,간섭계,디지털홀로그래피,비축,복원,이터듐   \n",
       "\n",
       "                                                요약문_영문키워드  label  \n",
       "0       nucleotide sequence, molecular marker, species...     24  \n",
       "1       TRAIL,Colorectal cancer,TRAIL resistance,Apopt...      0  \n",
       "2       functional cellulose fiber,natural fiber,funct...      0  \n",
       "3       Molecular diagnosis,Fluorescence,probe,antibod...      0  \n",
       "4       BRCA,Insituhybridization,tissuemicroarray,micr...      0  \n",
       "...                                                   ...    ...  \n",
       "174299  Intimahyperplasia,Vascularremodeling,Vasculars...      0  \n",
       "174300  Swallowingdifficulty,Rheologicalproperty,Fludi...      0  \n",
       "174301  Gene model improvement,Target gene family re-a...      0  \n",
       "174302  soybean, food application, resistance, biotic-...     23  \n",
       "174303  fiber,phase locking,phase shift,interferometer...      0  \n",
       "\n",
       "[174304 rows x 13 columns]"
      ]
     },
     "execution_count": 4,
     "metadata": {},
     "output_type": "execute_result"
    }
   ],
   "source": [
    "# 과제명 -> title    요약문_연구내용 -> content     요약문_한글 키워드 -> keyword\n",
    "train"
   ]
  },
  {
   "cell_type": "markdown",
   "id": "1e091cab",
   "metadata": {},
   "source": [
    "# Preprocessing"
   ]
  },
  {
   "cell_type": "code",
   "execution_count": 5,
   "id": "78f7860a",
   "metadata": {},
   "outputs": [],
   "source": [
    "def text_preprocessing(text_list):\n",
    "    \n",
    "    stopwords = ['은','는','이','가', '하','아','것','들','의','있','되','수','보','주','등','한'] #불용어 설정\n",
    "    tokenizer = Mecab(dicpath=r'C:\\mecab\\mecab-ko-dic') #형태소 분석기 \n",
    "    token_list = []\n",
    "    \n",
    "    for text in tqdm(text_list):\n",
    "        text = re.sub(\"[^가-힣ㄱ-ㅎㅏ-ㅣ]\",\"\", text)\n",
    "        token = tokenizer.morphs(text) #형태소 분석\n",
    "        token = [t for t in token if t not in stopwords or type(t) != float] #형태소 분석 결과 중 stopwords에 해당하지 않는 것만 추출\n",
    "        token_list.append(token)\n",
    "        \n",
    "    return token_list"
   ]
  },
  {
   "cell_type": "code",
   "execution_count": 6,
   "id": "76537210",
   "metadata": {},
   "outputs": [
    {
     "data": {
      "text/plain": [
       "index           0\n",
       "제출년도            0\n",
       "사업명             0\n",
       "사업_부처명          0\n",
       "계속과제여부          0\n",
       "내역사업명           0\n",
       "과제명             0\n",
       "요약문_연구목표     3002\n",
       "요약문_연구내용     3001\n",
       "요약문_기대효과     3051\n",
       "요약문_한글키워드    3028\n",
       "요약문_영문키워드    3087\n",
       "label           0\n",
       "dtype: int64"
      ]
     },
     "execution_count": 6,
     "metadata": {},
     "output_type": "execute_result"
    }
   ],
   "source": [
    "train.isnull().sum()"
   ]
  },
  {
   "cell_type": "code",
   "execution_count": 7,
   "id": "bba91e21",
   "metadata": {},
   "outputs": [
    {
     "data": {
      "text/plain": [
       "index        0\n",
       "제출년도         0\n",
       "사업명          0\n",
       "사업_부처명       0\n",
       "계속과제여부       0\n",
       "내역사업명        0\n",
       "과제명          0\n",
       "요약문_연구목표     0\n",
       "요약문_연구내용     0\n",
       "요약문_기대효과     0\n",
       "요약문_한글키워드    0\n",
       "요약문_영문키워드    0\n",
       "label        0\n",
       "dtype: int64"
      ]
     },
     "execution_count": 7,
     "metadata": {},
     "output_type": "execute_result"
    }
   ],
   "source": [
    "train = train.fillna('NAN')\n",
    "train.isnull().sum()"
   ]
  },
  {
   "cell_type": "code",
   "execution_count": 8,
   "id": "9f765977",
   "metadata": {
    "scrolled": true
   },
   "outputs": [
    {
     "name": "stderr",
     "output_type": "stream",
     "text": [
      "100%|███████████████████████████████████████████████████████████████████████| 174304/174304 [00:06<00:00, 24952.10it/s]\n",
      "100%|████████████████████████████████████████████████████████████████████████| 174304/174304 [01:35<00:00, 1815.88it/s]\n",
      "100%|███████████████████████████████████████████████████████████████████████| 174304/174304 [00:07<00:00, 24268.38it/s]\n"
     ]
    }
   ],
   "source": [
    "train['tokenized_title'] = text_preprocessing(train['과제명'])\n",
    "train['tokenized_content'] = text_preprocessing(train['요약문_연구내용'])\n",
    "train['tokenized_keyword'] = text_preprocessing(train['요약문_한글키워드'])\n",
    "\n",
    "train.tokenized_title = train.tokenized_title.apply(lambda x: ' '.join(x))\n",
    "train.tokenized_content = train.tokenized_content.apply(lambda x: ' '.join(x))\n",
    "train.tokenized_keyword = train.tokenized_keyword.apply(lambda x: ' '.join(x))"
   ]
  },
  {
   "cell_type": "markdown",
   "id": "1ffe810d",
   "metadata": {},
   "source": [
    "## 과제명"
   ]
  },
  {
   "cell_type": "code",
   "execution_count": 9,
   "id": "ff117bfd",
   "metadata": {},
   "outputs": [
    {
     "name": "stderr",
     "output_type": "stream",
     "text": [
      "100%|██████████████████████████████████████████████████████████████████████| 174304/174304 [00:00<00:00, 413119.51it/s]\n"
     ]
    }
   ],
   "source": [
    "word_len = []\n",
    "\n",
    "for sentences in tqdm(train['tokenized_title']):\n",
    "    for sentence in sentences.split('. '):\n",
    "        word_len.append(sentence.split(' '))"
   ]
  },
  {
   "cell_type": "code",
   "execution_count": 11,
   "id": "5b5e01e8",
   "metadata": {},
   "outputs": [
    {
     "name": "stderr",
     "output_type": "stream",
     "text": [
      "100%|██████████████████████████████████████████████████████████████████████| 174304/174304 [00:00<00:00, 856443.28it/s]\n"
     ]
    }
   ],
   "source": [
    "sentence_num = []\n",
    "\n",
    "for sentences in tqdm(train['tokenized_title']):\n",
    "    sentence_num.append(sentences.split('. '))"
   ]
  },
  {
   "cell_type": "code",
   "execution_count": 13,
   "id": "220f1eab",
   "metadata": {},
   "outputs": [
    {
     "name": "stdout",
     "output_type": "stream",
     "text": [
      "문서 내의 최대 문장 개수:  1\n",
      "문서 내의 최소 문장 개수:  1\n",
      "문서 내의 평균 문장 개수 : 1.0\n",
      "문서 내의 문장 개수 중앙값 : 1.0\n"
     ]
    }
   ],
   "source": [
    "print('문서 내의 최대 문장 개수: ', max([len(i) for i in sentence_num]))\n",
    "print('문서 내의 최소 문장 개수: ', min([len(i) for i in sentence_num]))\n",
    "print('문서 내의 평균 문장 개수 :', sum(map(len, sentence_num))/len(sentence_num))\n",
    "print('문서 내의 문장 개수 중앙값 :', np.median([len(i) for i in sentence_num]))"
   ]
  },
  {
   "cell_type": "code",
   "execution_count": 14,
   "id": "411371b0",
   "metadata": {},
   "outputs": [
    {
     "name": "stdout",
     "output_type": "stream",
     "text": [
      "문장 내의 최대 단어 개수:  62\n",
      "문장 내의 최소 단어 개수:  1\n",
      "문장 내의 평균 단어 개수 : 12.847370111988251\n",
      "문장 내의 단어 개수 중앙값 : 12.0\n"
     ]
    }
   ],
   "source": [
    "print('문장 내의 최대 단어 개수: ', max([len(j) for j in word_len]))\n",
    "print('문장 내의 최소 단어 개수: ', min([len(j) for j in word_len]))\n",
    "print('문장 내의 평균 단어 개수 :', sum(map(len, word_len))/len(word_len))\n",
    "print('문장 내의 단어 개수 중앙값 :', np.median([len(j) for j in word_len]))"
   ]
  },
  {
   "cell_type": "markdown",
   "id": "597f6466",
   "metadata": {},
   "source": [
    "## 요약문_연구내용"
   ]
  },
  {
   "cell_type": "code",
   "execution_count": 15,
   "id": "1fa039f9",
   "metadata": {},
   "outputs": [
    {
     "name": "stderr",
     "output_type": "stream",
     "text": [
      "100%|███████████████████████████████████████████████████████████████████████| 174304/174304 [00:03<00:00, 45862.43it/s]\n"
     ]
    }
   ],
   "source": [
    "word_len = []\n",
    "\n",
    "for sentences in tqdm(train['tokenized_content']):\n",
    "    for sentence in sentences.split('. '):\n",
    "        word_len.append(sentence.split(' '))"
   ]
  },
  {
   "cell_type": "code",
   "execution_count": 16,
   "id": "66e6d2c6",
   "metadata": {},
   "outputs": [
    {
     "name": "stderr",
     "output_type": "stream",
     "text": [
      "100%|██████████████████████████████████████████████████████████████████████| 174304/174304 [00:00<00:00, 212803.90it/s]\n"
     ]
    }
   ],
   "source": [
    "sentence_num = []\n",
    "\n",
    "for sentences in tqdm(train['tokenized_content']):\n",
    "    sentence_num.append(sentences.split('. '))"
   ]
  },
  {
   "cell_type": "code",
   "execution_count": 17,
   "id": "0d6694ec",
   "metadata": {},
   "outputs": [
    {
     "name": "stdout",
     "output_type": "stream",
     "text": [
      "문서 내의 최대 문장 개수:  1\n",
      "문서 내의 최소 문장 개수:  1\n",
      "문서 내의 평균 문장 개수 : 1.0\n",
      "문서 내의 문장 개수 중앙값 : 1.0\n"
     ]
    }
   ],
   "source": [
    "print('문서 내의 최대 문장 개수: ', max([len(i) for i in sentence_num]))\n",
    "print('문서 내의 최소 문장 개수: ', min([len(i) for i in sentence_num]))\n",
    "print('문서 내의 평균 문장 개수 :', sum(map(len, sentence_num))/len(sentence_num))\n",
    "print('문서 내의 문장 개수 중앙값 :', np.median([len(i) for i in sentence_num]))"
   ]
  },
  {
   "cell_type": "code",
   "execution_count": 18,
   "id": "20f60ef7",
   "metadata": {},
   "outputs": [
    {
     "name": "stdout",
     "output_type": "stream",
     "text": [
      "문장 내의 최대 단어 개수:  1054\n",
      "문장 내의 최소 단어 개수:  1\n",
      "문장 내의 평균 단어 개수 : 221.70568661648613\n",
      "문장 내의 단어 개수 중앙값 : 185.0\n"
     ]
    }
   ],
   "source": [
    "print('문장 내의 최대 단어 개수: ', max([len(j) for j in word_len]))\n",
    "print('문장 내의 최소 단어 개수: ', min([len(j) for j in word_len]))\n",
    "print('문장 내의 평균 단어 개수 :', sum(map(len, word_len))/len(word_len))\n",
    "print('문장 내의 단어 개수 중앙값 :', np.median([len(j) for j in word_len]))"
   ]
  },
  {
   "cell_type": "markdown",
   "id": "717c227d",
   "metadata": {},
   "source": [
    "## 한글키워드"
   ]
  },
  {
   "cell_type": "code",
   "execution_count": 19,
   "id": "e31a4ef8",
   "metadata": {},
   "outputs": [
    {
     "name": "stderr",
     "output_type": "stream",
     "text": [
      "100%|██████████████████████████████████████████████████████████████████████| 174304/174304 [00:00<00:00, 493553.13it/s]\n"
     ]
    }
   ],
   "source": [
    "word_len = []\n",
    "\n",
    "for sentences in tqdm(train['tokenized_keyword']):\n",
    "    for sentence in sentences.split('. '):\n",
    "        word_len.append(sentence.split(' '))"
   ]
  },
  {
   "cell_type": "code",
   "execution_count": 20,
   "id": "e968fbbc",
   "metadata": {},
   "outputs": [
    {
     "name": "stderr",
     "output_type": "stream",
     "text": [
      "100%|██████████████████████████████████████████████████████████████████████| 174304/174304 [00:00<00:00, 604743.89it/s]\n"
     ]
    }
   ],
   "source": [
    "sentence_num = []\n",
    "\n",
    "for sentences in tqdm(train['tokenized_keyword']):\n",
    "    sentence_num.append(sentences.split('. '))"
   ]
  },
  {
   "cell_type": "code",
   "execution_count": 21,
   "id": "cc48ada2",
   "metadata": {},
   "outputs": [
    {
     "name": "stdout",
     "output_type": "stream",
     "text": [
      "문서 내의 최대 문장 개수:  1\n",
      "문서 내의 최소 문장 개수:  1\n",
      "문서 내의 평균 문장 개수 : 1.0\n",
      "문서 내의 문장 개수 중앙값 : 1.0\n"
     ]
    }
   ],
   "source": [
    "print('문서 내의 최대 문장 개수: ', max([len(i) for i in sentence_num]))\n",
    "print('문서 내의 최소 문장 개수: ', min([len(i) for i in sentence_num]))\n",
    "print('문서 내의 평균 문장 개수 :', sum(map(len, sentence_num))/len(sentence_num))\n",
    "print('문서 내의 문장 개수 중앙값 :', np.median([len(i) for i in sentence_num]))"
   ]
  },
  {
   "cell_type": "code",
   "execution_count": 22,
   "id": "2a40a8e9",
   "metadata": {},
   "outputs": [
    {
     "name": "stdout",
     "output_type": "stream",
     "text": [
      "문장 내의 최대 단어 개수:  96\n",
      "문장 내의 최소 단어 개수:  1\n",
      "문장 내의 평균 단어 개수 : 11.757102533504682\n",
      "문장 내의 단어 개수 중앙값 : 11.0\n"
     ]
    }
   ],
   "source": [
    "print('문장 내의 최대 단어 개수: ', max([len(j) for j in word_len]))\n",
    "print('문장 내의 최소 단어 개수: ', min([len(j) for j in word_len]))\n",
    "print('문장 내의 평균 단어 개수 :', sum(map(len, word_len))/len(word_len))\n",
    "print('문장 내의 단어 개수 중앙값 :', np.median([len(j) for j in word_len]))"
   ]
  },
  {
   "cell_type": "markdown",
   "id": "45d0db24",
   "metadata": {},
   "source": [
    "### Hyper-Parameter"
   ]
  },
  {
   "cell_type": "code",
   "execution_count": 23,
   "id": "2cc5285a",
   "metadata": {},
   "outputs": [],
   "source": [
    "#title_MAX_SENTENCES = 1\n",
    "title_MAX_SENTENCE_LENGTH = 65\n",
    "#content_MAX_SENTENCES = 1\n",
    "content_MAX_SENTENCE_LENGTH = 500\n",
    "#keyword_MAX_SENTENCES = 1\n",
    "keyword_MAX_SENTENCE_LENGTH = 100\n",
    "max_features = 200000"
   ]
  },
  {
   "cell_type": "markdown",
   "id": "fe553e11",
   "metadata": {},
   "source": [
    "# Integer Encoding"
   ]
  },
  {
   "cell_type": "code",
   "execution_count": 24,
   "id": "29fd5e9b",
   "metadata": {
    "id": "kMc5pmHvAK8p"
   },
   "outputs": [],
   "source": [
    "tokenizer = Tokenizer(num_words=max_features, oov_token=True)\n",
    "tokenizer.fit_on_texts(train['tokenized_title'] + ' ' + train['tokenized_content'] + ' ' + train['tokenized_keyword'])\n",
    "\n",
    "with open('./tokenizer/tokenizer_{}.pkl'.format(version),'wb') as f:\n",
    "    pkl.dump(tokenizer, f, protocol=pkl.HIGHEST_PROTOCOL)"
   ]
  },
  {
   "cell_type": "code",
   "execution_count": 25,
   "id": "3b24a16b",
   "metadata": {},
   "outputs": [
    {
     "name": "stderr",
     "output_type": "stream",
     "text": [
      "174304it [00:02, 65219.34it/s]"
     ]
    },
    {
     "name": "stdout",
     "output_type": "stream",
     "text": [
      "(174304, 65)\n"
     ]
    },
    {
     "name": "stderr",
     "output_type": "stream",
     "text": [
      "\n"
     ]
    }
   ],
   "source": [
    "data_title_x = np.zeros((len(train['tokenized_title']), title_MAX_SENTENCE_LENGTH), dtype='int32')\n",
    "\n",
    "for i, doc in tqdm(enumerate(train['tokenized_title'])):\n",
    "    wordTokens = text_to_word_sequence(doc)\n",
    "    k=0\n",
    "    for _, word in enumerate(wordTokens):\n",
    "        if k < title_MAX_SENTENCE_LENGTH and tokenizer.word_index[word] < max_features:\n",
    "            data_title_x[i,k] = tokenizer.word_index[word]\n",
    "            k = k+1\n",
    "            \n",
    "print(data_title_x.shape)"
   ]
  },
  {
   "cell_type": "code",
   "execution_count": 26,
   "id": "12016337",
   "metadata": {},
   "outputs": [
    {
     "name": "stderr",
     "output_type": "stream",
     "text": [
      "174304it [00:48, 3557.63it/s]"
     ]
    },
    {
     "name": "stdout",
     "output_type": "stream",
     "text": [
      "(174304, 500)\n",
      "(174304, 500)\n"
     ]
    },
    {
     "name": "stderr",
     "output_type": "stream",
     "text": [
      "\n"
     ]
    }
   ],
   "source": [
    "data_content_x = np.zeros((len(train['tokenized_content']), content_MAX_SENTENCE_LENGTH), dtype='int32')\n",
    "data_content_reverse_x = np.zeros((len(train['tokenized_content']), content_MAX_SENTENCE_LENGTH), dtype='int32')\n",
    "\n",
    "for i, doc in tqdm(enumerate(train['tokenized_content'])):\n",
    "    wordTokens = text_to_word_sequence(doc)\n",
    "    k=0\n",
    "    for _, word in enumerate(wordTokens):\n",
    "        try:\n",
    "            if k < content_MAX_SENTENCE_LENGTH and tokenizer.word_index[word] < max_features:\n",
    "                data_content_x[i,k] = tokenizer.word_index[word]\n",
    "                k = k+1\n",
    "        except:\n",
    "            pass\n",
    "    k=0\n",
    "    for _, word in enumerate(reversed(wordTokens)):\n",
    "        try:\n",
    "            if k < content_MAX_SENTENCE_LENGTH and tokenizer.word_index[word] < max_features:\n",
    "                data_content_reverse_x[i,k] = tokenizer.word_index[word]\n",
    "                k = k+1\n",
    "        except:\n",
    "            pass\n",
    "        \n",
    "print(data_content_x.shape)\n",
    "print(data_content_reverse_x.shape)"
   ]
  },
  {
   "cell_type": "code",
   "execution_count": 27,
   "id": "6b008921",
   "metadata": {},
   "outputs": [
    {
     "name": "stderr",
     "output_type": "stream",
     "text": [
      "174304it [00:02, 67874.37it/s]"
     ]
    },
    {
     "name": "stdout",
     "output_type": "stream",
     "text": [
      "(174304, 100)\n"
     ]
    },
    {
     "name": "stderr",
     "output_type": "stream",
     "text": [
      "\n"
     ]
    }
   ],
   "source": [
    "data_keyword_x = np.zeros((len(train['tokenized_keyword']), keyword_MAX_SENTENCE_LENGTH), dtype='int32')\n",
    "\n",
    "for i, doc in tqdm(enumerate(train['tokenized_keyword'])):\n",
    "    wordTokens = text_to_word_sequence(doc)\n",
    "    k=0\n",
    "    for _, word in enumerate(wordTokens):\n",
    "        if k < keyword_MAX_SENTENCE_LENGTH and tokenizer.word_index[word] < max_features:\n",
    "            data_keyword_x[i,k] = tokenizer.word_index[word]\n",
    "            k = k+1\n",
    "            \n",
    "print(data_keyword_x.shape)"
   ]
  },
  {
   "cell_type": "code",
   "execution_count": 28,
   "id": "23c6337d",
   "metadata": {
    "scrolled": false
   },
   "outputs": [
    {
     "name": "stdout",
     "output_type": "stream",
     "text": [
      "Total 104635 unique tokens.\n"
     ]
    }
   ],
   "source": [
    "word_index = tokenizer.word_index\n",
    "print('Total %s unique tokens.' % len(word_index))"
   ]
  },
  {
   "cell_type": "markdown",
   "id": "43a7bf35",
   "metadata": {
    "id": "7CKMy_r-AK8w"
   },
   "source": [
    "# Word2Vec"
   ]
  },
  {
   "cell_type": "code",
   "execution_count": 29,
   "id": "1620afc3",
   "metadata": {},
   "outputs": [],
   "source": [
    "embed_size = 100"
   ]
  },
  {
   "cell_type": "code",
   "execution_count": 30,
   "id": "253f092c",
   "metadata": {},
   "outputs": [],
   "source": [
    "emb_model = Word2Vec.load('./data/word2vec_mecab.model')\n",
    "embedding_matrix = np.zeros((len(word_index) + 1, embed_size))"
   ]
  },
  {
   "cell_type": "code",
   "execution_count": 31,
   "id": "854b6369",
   "metadata": {},
   "outputs": [],
   "source": [
    "def get_vector(word):\n",
    "    if word == True:\n",
    "        return None\n",
    "    elif word in emb_model.wv:\n",
    "        return emb_model.wv[word]\n",
    "    else:\n",
    "        return None"
   ]
  },
  {
   "cell_type": "code",
   "execution_count": 32,
   "id": "041afe47",
   "metadata": {},
   "outputs": [
    {
     "name": "stdout",
     "output_type": "stream",
     "text": [
      "Total absent words are 1 which is 0.00 % of total words\n"
     ]
    }
   ],
   "source": [
    "absent_words = 0\n",
    "\n",
    "for word, i in word_index.items(): \n",
    "    temp = get_vector(word) \n",
    "    if temp is not None:\n",
    "        embedding_matrix[i] = temp\n",
    "    else:\n",
    "        absent_words += 1\n",
    "        \n",
    "print('Total absent words are', absent_words, 'which is', \"%0.2f\" % (absent_words * 100 / len(word_index)), '% of total words')"
   ]
  },
  {
   "cell_type": "code",
   "execution_count": 33,
   "id": "5e3437c0",
   "metadata": {
    "id": "9MeeJlb4AK8x"
   },
   "outputs": [],
   "source": [
    "title_embedding_layer = Embedding(len(word_index) + 1, \n",
    "                                    embed_size,\n",
    "                                    weights = [embedding_matrix],\n",
    "                                    input_length = title_MAX_SENTENCE_LENGTH,\n",
    "                                    trainable=False)"
   ]
  },
  {
   "cell_type": "code",
   "execution_count": 34,
   "id": "6aeba7ae",
   "metadata": {},
   "outputs": [],
   "source": [
    "content_embedding_layer = Embedding(len(word_index) + 1, \n",
    "                                    embed_size,\n",
    "                                    weights = [embedding_matrix],\n",
    "                                    input_length = content_MAX_SENTENCE_LENGTH,\n",
    "                                    trainable=False)"
   ]
  },
  {
   "cell_type": "code",
   "execution_count": 35,
   "id": "87abd18b",
   "metadata": {},
   "outputs": [],
   "source": [
    "keyword_embedding_layer = Embedding(len(word_index) + 1, \n",
    "                                    embed_size,\n",
    "                                    weights = [embedding_matrix],\n",
    "                                    input_length = keyword_MAX_SENTENCE_LENGTH,\n",
    "                                    trainable=False)"
   ]
  },
  {
   "cell_type": "markdown",
   "id": "c243cfe6",
   "metadata": {},
   "source": [
    "# Feature Encoding"
   ]
  },
  {
   "cell_type": "markdown",
   "id": "9e5ece1d",
   "metadata": {},
   "source": [
    "train_dum = train[['제출년도', '사업_부처명', '계속과제여부']]\n",
    "train_dum"
   ]
  },
  {
   "cell_type": "markdown",
   "id": "28c8eee2",
   "metadata": {},
   "source": [
    "train_dum.dtypes"
   ]
  },
  {
   "cell_type": "markdown",
   "id": "c2884a13",
   "metadata": {},
   "source": [
    "train_dum_v1 = train_dum.astype('category')\n",
    "train_dum_v1"
   ]
  },
  {
   "cell_type": "markdown",
   "id": "2a870056",
   "metadata": {},
   "source": [
    "train_dum_v1.dtypes"
   ]
  },
  {
   "cell_type": "markdown",
   "id": "34baabdb",
   "metadata": {},
   "source": [
    "train_dum_v1['제출년도'] = train_dum_v1['제출년도'].cat.codes\n",
    "train_dum_v1['사업_부처명'] = train_dum_v1['사업_부처명'].cat.codes\n",
    "train_dum_v1['계속과제여부'] = train_dum_v1['계속과제여부'].cat.codes\n",
    "train_dum_v1"
   ]
  },
  {
   "cell_type": "markdown",
   "id": "6f19671d",
   "metadata": {},
   "source": [
    "scaler = MinMaxScaler()"
   ]
  },
  {
   "cell_type": "markdown",
   "id": "3025c1c4",
   "metadata": {},
   "source": [
    "train_dum_v1_scale = scaler.fit_transform(train_dum_v1)\n",
    "train_dum_v1_scale"
   ]
  },
  {
   "cell_type": "markdown",
   "id": "e73eb60a",
   "metadata": {},
   "source": [
    "# Label Encoding"
   ]
  },
  {
   "cell_type": "code",
   "execution_count": 36,
   "id": "9c0144be",
   "metadata": {},
   "outputs": [
    {
     "name": "stdout",
     "output_type": "stream",
     "text": [
      "Shape of label tensor: (174304, 46)\n"
     ]
    }
   ],
   "source": [
    "Y = pd.get_dummies(train['label']).values\n",
    "print('Shape of label tensor:', Y.shape)"
   ]
  },
  {
   "cell_type": "code",
   "execution_count": 37,
   "id": "849eeb33",
   "metadata": {},
   "outputs": [
    {
     "data": {
      "text/plain": [
       "array([[0, 0, 0, ..., 0, 0, 0],\n",
       "       [1, 0, 0, ..., 0, 0, 0],\n",
       "       [1, 0, 0, ..., 0, 0, 0],\n",
       "       ...,\n",
       "       [1, 0, 0, ..., 0, 0, 0],\n",
       "       [0, 0, 0, ..., 0, 0, 0],\n",
       "       [1, 0, 0, ..., 0, 0, 0]], dtype=uint8)"
      ]
     },
     "execution_count": 37,
     "metadata": {},
     "output_type": "execute_result"
    }
   ],
   "source": [
    "Y"
   ]
  },
  {
   "cell_type": "markdown",
   "id": "72226e9f",
   "metadata": {},
   "source": [
    "# Data Split"
   ]
  },
  {
   "cell_type": "code",
   "execution_count": 38,
   "id": "9eb3e30d",
   "metadata": {},
   "outputs": [],
   "source": [
    "VALIDATION_SPLIT = 0.4"
   ]
  },
  {
   "cell_type": "code",
   "execution_count": 39,
   "id": "8c92d5ec",
   "metadata": {},
   "outputs": [
    {
     "name": "stdout",
     "output_type": "stream",
     "text": [
      "Number of positive and negative reviews in traing and validation set\n",
      "[85594, 777, 176, 86, 35, 998, 39, 72, 203, 71, 380, 107, 161, 346, 1016, 102, 313, 86, 906, 2996, 626, 287, 102, 1105, 2081, 488, 193, 365, 251, 622, 130, 570, 146, 327, 316, 172, 590, 168, 153, 128, 276, 37, 31, 206, 52, 697]\n",
      "[56977, 484, 99, 57, 22, 700, 39, 41, 136, 35, 278, 93, 107, 229, 656, 63, 193, 68, 644, 1942, 433, 209, 46, 735, 1439, 322, 123, 255, 198, 406, 104, 352, 114, 206, 207, 119, 470, 98, 109, 74, 165, 30, 20, 145, 39, 440]\n"
     ]
    }
   ],
   "source": [
    "indices = np.arange(data_title_x.shape[0])\n",
    "np.random.shuffle(indices)\n",
    "data_title = data_title_x[indices]\n",
    "data_content = data_content_x[indices]\n",
    "data_content_reverse = data_content_reverse_x[indices]\n",
    "data_keyword = data_keyword_x[indices]\n",
    "#train_dum = train_dum_v1_scale[indices]\n",
    "\n",
    "Y = Y[indices]\n",
    "nb_validation_samples = int(VALIDATION_SPLIT * data_title_x.shape[0])\n",
    "\n",
    "x_train_title = data_title[:-nb_validation_samples]\n",
    "x_train_content = data_content[:-nb_validation_samples]\n",
    "x_train_content_reverse = data_content_reverse[:-nb_validation_samples]\n",
    "x_train_keyword = data_keyword[:-nb_validation_samples]\n",
    "#x_train_cat = train_dum_v1_scale[:-nb_validation_samples]\n",
    "y_train = Y[:-nb_validation_samples]\n",
    "\n",
    "x_val_title = data_title[-nb_validation_samples:]\n",
    "x_val_content = data_content[-nb_validation_samples:]\n",
    "x_val_content_reverse = data_content_reverse[-nb_validation_samples:]\n",
    "x_val_keyword = data_keyword[-nb_validation_samples:]\n",
    "#x_val_cat = train_dum_v1_scale[-nb_validation_samples:]\n",
    "y_val = Y[-nb_validation_samples:]\n",
    "\n",
    "print('Number of positive and negative reviews in traing and validation set')\n",
    "print(y_train.sum(axis=0).tolist())\n",
    "print(y_val.sum(axis=0).tolist())"
   ]
  },
  {
   "cell_type": "code",
   "execution_count": 40,
   "id": "dab85791",
   "metadata": {},
   "outputs": [],
   "source": [
    "from sklearn.utils import class_weight"
   ]
  },
  {
   "cell_type": "code",
   "execution_count": 41,
   "id": "35955123",
   "metadata": {},
   "outputs": [],
   "source": [
    "class_weights = class_weight.compute_class_weight('balanced', np.unique(train['label']), np.array(train['label']))"
   ]
  },
  {
   "cell_type": "markdown",
   "id": "995f9439",
   "metadata": {
    "id": "-f5T4pBfAK8y"
   },
   "source": [
    "# LSTM"
   ]
  },
  {
   "cell_type": "code",
   "execution_count": 42,
   "id": "0ec11ca0",
   "metadata": {
    "id": "809Is1P_AK8y"
   },
   "outputs": [],
   "source": [
    "class AttentionWithContext(Layer):\n",
    "    \"\"\"\n",
    "    Attention operation, with a context/query vector, for temporal data.\n",
    "    Supports Masking.\n",
    "    Follows the work of Yang et al. [https://www.cs.cmu.edu/~diyiy/docs/naacl16.pdf]\n",
    "    \"Hierarchical Attention Networks for Document Classification\"\n",
    "    by using a context vector to assist the attention\n",
    "    # Input shape\n",
    "        3D tensor with shape: `(samples, steps, features)`.\n",
    "    # Output shape\n",
    "        2D tensor with shape: `(samples, features)`.\n",
    "    How to use:\n",
    "    Just put it on top of an RNN Layer (GRU/LSTM/SimpleRNN) with return_sequences=True.\n",
    "    The dimensions are inferred based on the output shape of the RNN.\n",
    "    Note: The layer has been tested with Keras 2.0.6\n",
    "    Example:\n",
    "        model.add(LSTM(64, return_sequences=True))\n",
    "        model.add(AttentionWithContext())\n",
    "        # next add a Dense layer (for classification/regression) or whatever...\n",
    "    \"\"\"\n",
    "\n",
    "    def __init__(self,\n",
    "                 W_regularizer=None, u_regularizer=None, b_regularizer=None,\n",
    "                 W_constraint=None, u_constraint=None, b_constraint=None,\n",
    "                 bias=True, **kwargs):\n",
    "\n",
    "        self.supports_masking = True\n",
    "        self.init = initializers.get('glorot_uniform')\n",
    "\n",
    "        self.W_regularizer = regularizers.get(W_regularizer)\n",
    "        self.u_regularizer = regularizers.get(u_regularizer)\n",
    "        self.b_regularizer = regularizers.get(b_regularizer)\n",
    "\n",
    "        self.W_constraint = constraints.get(W_constraint)\n",
    "        self.u_constraint = constraints.get(u_constraint)\n",
    "        self.b_constraint = constraints.get(b_constraint)\n",
    "\n",
    "        self.bias = bias\n",
    "        super(AttentionWithContext, self).__init__(**kwargs)\n",
    "\n",
    "    def get_config(self):\n",
    "\n",
    "        config = super().get_config().copy()\n",
    "        config.update({\n",
    "            'W_regularizer': self.W_regularizer,\n",
    "            'u_regularizer': self.u_regularizer,\n",
    "            'b_regularizer': self.b_regularizer,\n",
    "            'W_constraint': self.W_constraint,\n",
    "            'u_constraint': self.u_constraint,\n",
    "            'b_constraint': self.b_constraint,\n",
    "            'bias': self.bias\n",
    "        })\n",
    "        return config\n",
    "\n",
    "    def build(self, input_shape):\n",
    "        assert len(input_shape) == 3\n",
    "\n",
    "        self.W = self.add_weight(shape=(input_shape[-1], input_shape[-1],),\n",
    "                                 initializer=self.init,\n",
    "                                 name='{}_W'.format(self.name),\n",
    "                                 regularizer=self.W_regularizer,\n",
    "                                 constraint=self.W_constraint)\n",
    "        if self.bias:\n",
    "            self.b = self.add_weight(shape=(input_shape[-1],),\n",
    "                                     initializer='zero',\n",
    "                                     name='{}_b'.format(self.name),\n",
    "                                     regularizer=self.b_regularizer,\n",
    "                                     constraint=self.b_constraint)\n",
    "\n",
    "        self.u = self.add_weight(shape=(input_shape[-1],),\n",
    "                                 initializer=self.init,\n",
    "                                 name='{}_u'.format(self.name),\n",
    "                                 regularizer=self.u_regularizer,\n",
    "                                 constraint=self.u_constraint)\n",
    "\n",
    "        super(AttentionWithContext, self).build(input_shape)\n",
    "\n",
    "    def compute_mask(self, input, input_mask=None):\n",
    "        # do not pass the mask to the next layers\n",
    "        return None\n",
    "\n",
    "    def call(self, x, mask=None):\n",
    "        uit = dot_product(x, self.W)\n",
    "\n",
    "        if self.bias:\n",
    "            uit += self.b\n",
    "\n",
    "        uit = K.tanh(uit)\n",
    "        ait = dot_product(uit, self.u)\n",
    "\n",
    "        a = K.exp(ait)\n",
    "\n",
    "        # apply mask after the exp. will be re-normalized next\n",
    "        if mask is not None:\n",
    "            # Cast the mask to floatX to avoid float64 upcasting in theano\n",
    "            a *= K.cast(mask, K.floatx())\n",
    "\n",
    "        # in some cases especially in the early stages of training the sum may be almost zero\n",
    "        # and this results in NaN's. A workaround is to add a very small positive number ε to the sum.\n",
    "        # a /= K.cast(K.sum(a, axis=1, keepdims=True), K.floatx())\n",
    "        a /= K.cast(K.sum(a, axis=1, keepdims=True) + K.epsilon(), K.floatx())\n",
    "\n",
    "        a = K.expand_dims(a)\n",
    "        weighted_input = x * a\n",
    "        return K.sum(weighted_input, axis=1)\n",
    "\n",
    "    def compute_output_shape(self, input_shape):\n",
    "        return input_shape[0], input_shape[-1]"
   ]
  },
  {
   "cell_type": "code",
   "execution_count": 43,
   "id": "b831abf5",
   "metadata": {},
   "outputs": [],
   "source": [
    "class AttentionWithContext_1(Layer):\n",
    "    \"\"\"\n",
    "    Attention operation, with a context/query vector, for temporal data.\n",
    "    Supports Masking.\n",
    "    Follows the work of Yang et al. [https://www.cs.cmu.edu/~diyiy/docs/naacl16.pdf]\n",
    "    \"Hierarchical Attention Networks for Document Classification\"\n",
    "    by using a context vector to assist the attention\n",
    "    # Input shape\n",
    "        3D tensor with shape: `(samples, steps, features)`.\n",
    "    # Output shape\n",
    "        2D tensor with shape: `(samples, features)`.\n",
    "    How to use:\n",
    "    Just put it on top of an RNN Layer (GRU/LSTM/SimpleRNN) with return_sequences=True.\n",
    "    The dimensions are inferred based on the output shape of the RNN.\n",
    "    Note: The layer has been tested with Keras 2.0.6\n",
    "    Example:\n",
    "        model.add(LSTM(64, return_sequences=True))\n",
    "        model.add(AttentionWithContext_1())\n",
    "        # next add a Dense layer (for classification/regression) or whatever...\n",
    "    \"\"\"\n",
    "\n",
    "    def __init__(self,\n",
    "                 W_regularizer=None, u_regularizer=None, b_regularizer=None,\n",
    "                 W_constraint=None, u_constraint=None, b_constraint=None,\n",
    "                 bias=True, **kwargs):\n",
    "\n",
    "        self.supports_masking = True\n",
    "        self.init = initializers.get('glorot_uniform')\n",
    "\n",
    "        self.W_regularizer = regularizers.get(W_regularizer)\n",
    "        self.u_regularizer = regularizers.get(u_regularizer)\n",
    "        self.b_regularizer = regularizers.get(b_regularizer)\n",
    "\n",
    "        self.W_constraint = constraints.get(W_constraint)\n",
    "        self.u_constraint = constraints.get(u_constraint)\n",
    "        self.b_constraint = constraints.get(b_constraint)\n",
    "\n",
    "        self.bias = bias\n",
    "        super(AttentionWithContext_1, self).__init__(**kwargs)\n",
    "\n",
    "    def get_config(self):\n",
    "\n",
    "        config = super().get_config().copy()\n",
    "        config.update({\n",
    "            'W_regularizer': self.W_regularizer,\n",
    "            'u_regularizer': self.u_regularizer,\n",
    "            'b_regularizer': self.b_regularizer,\n",
    "            'W_constraint': self.W_constraint,\n",
    "            'u_constraint': self.u_constraint,\n",
    "            'b_constraint': self.b_constraint,\n",
    "            'bias': self.bias\n",
    "        })\n",
    "        return config\n",
    "\n",
    "    def build(self, input_shape):\n",
    "        assert len(input_shape) == 3\n",
    "\n",
    "        self.W = self.add_weight(shape=(input_shape[-1], input_shape[-1],),\n",
    "                                 initializer=self.init,\n",
    "                                 name='{}_W'.format(self.name),\n",
    "                                 regularizer=self.W_regularizer,\n",
    "                                 constraint=self.W_constraint)\n",
    "        if self.bias:\n",
    "            self.b = self.add_weight(shape=(input_shape[-1],),\n",
    "                                     initializer='zero',\n",
    "                                     name='{}_b'.format(self.name),\n",
    "                                     regularizer=self.b_regularizer,\n",
    "                                     constraint=self.b_constraint)\n",
    "\n",
    "        self.u = self.add_weight(shape=(input_shape[-1],),\n",
    "                                 initializer=self.init,\n",
    "                                 name='{}_u'.format(self.name),\n",
    "                                 regularizer=self.u_regularizer,\n",
    "                                 constraint=self.u_constraint)\n",
    "\n",
    "        super(AttentionWithContext_1, self).build(input_shape)\n",
    "\n",
    "    def compute_mask(self, input, input_mask=None):\n",
    "        # do not pass the mask to the next layers\n",
    "        return None\n",
    "\n",
    "    def call(self, x, mask=None):\n",
    "        uit = dot_product(x, self.W)\n",
    "\n",
    "        if self.bias:\n",
    "            uit += self.b\n",
    "\n",
    "        uit = K.tanh(uit)\n",
    "        ait = dot_product(uit, self.u)\n",
    "\n",
    "        a = K.exp(ait)\n",
    "\n",
    "        # apply mask after the exp. will be re-normalized next\n",
    "        if mask is not None:\n",
    "            # Cast the mask to floatX to avoid float64 upcasting in theano\n",
    "            a *= K.cast(mask, K.floatx())\n",
    "\n",
    "        # in some cases especially in the early stages of training the sum may be almost zero\n",
    "        # and this results in NaN's. A workaround is to add a very small positive number ε to the sum.\n",
    "        # a /= K.cast(K.sum(a, axis=1, keepdims=True), K.floatx())\n",
    "        a /= K.cast(K.sum(a, axis=1, keepdims=True) + K.epsilon(), K.floatx())\n",
    "\n",
    "        a = K.expand_dims(a)\n",
    "        weighted_input = x * a\n",
    "        return K.sum(weighted_input, axis=1)\n",
    "\n",
    "    def compute_output_shape(self, input_shape):\n",
    "        return input_shape[0], input_shape[-1]"
   ]
  },
  {
   "cell_type": "code",
   "execution_count": 44,
   "id": "6e2c2035",
   "metadata": {},
   "outputs": [],
   "source": [
    "class AttentionWithContext_2(Layer):\n",
    "    \"\"\"\n",
    "    Attention operation, with a context/query vector, for temporal data.\n",
    "    Supports Masking.\n",
    "    Follows the work of Yang et al. [https://www.cs.cmu.edu/~diyiy/docs/naacl16.pdf]\n",
    "    \"Hierarchical Attention Networks for Document Classification\"\n",
    "    by using a context vector to assist the attention\n",
    "    # Input shape\n",
    "        3D tensor with shape: `(samples, steps, features)`.\n",
    "    # Output shape\n",
    "        2D tensor with shape: `(samples, features)`.\n",
    "    How to use:\n",
    "    Just put it on top of an RNN Layer (GRU/LSTM/SimpleRNN) with return_sequences=True.\n",
    "    The dimensions are inferred based on the output shape of the RNN.\n",
    "    Note: The layer has been tested with Keras 2.0.6\n",
    "    Example:\n",
    "        model.add(LSTM(64, return_sequences=True))\n",
    "        model.add(AttentionWithContext_2())\n",
    "        # next add a Dense layer (for classification/regression) or whatever...\n",
    "    \"\"\"\n",
    "\n",
    "    def __init__(self,\n",
    "                 W_regularizer=None, u_regularizer=None, b_regularizer=None,\n",
    "                 W_constraint=None, u_constraint=None, b_constraint=None,\n",
    "                 bias=True, **kwargs):\n",
    "\n",
    "        self.supports_masking = True\n",
    "        self.init = initializers.get('glorot_uniform')\n",
    "\n",
    "        self.W_regularizer = regularizers.get(W_regularizer)\n",
    "        self.u_regularizer = regularizers.get(u_regularizer)\n",
    "        self.b_regularizer = regularizers.get(b_regularizer)\n",
    "\n",
    "        self.W_constraint = constraints.get(W_constraint)\n",
    "        self.u_constraint = constraints.get(u_constraint)\n",
    "        self.b_constraint = constraints.get(b_constraint)\n",
    "\n",
    "        self.bias = bias\n",
    "        super(AttentionWithContext_2, self).__init__(**kwargs)\n",
    "\n",
    "    def get_config(self):\n",
    "\n",
    "        config = super().get_config().copy()\n",
    "        config.update({\n",
    "            'W_regularizer': self.W_regularizer,\n",
    "            'u_regularizer': self.u_regularizer,\n",
    "            'b_regularizer': self.b_regularizer,\n",
    "            'W_constraint': self.W_constraint,\n",
    "            'u_constraint': self.u_constraint,\n",
    "            'b_constraint': self.b_constraint,\n",
    "            'bias': self.bias\n",
    "        })\n",
    "        return config\n",
    "\n",
    "    def build(self, input_shape):\n",
    "        assert len(input_shape) == 3\n",
    "\n",
    "        self.W = self.add_weight(shape=(input_shape[-1], input_shape[-1],),\n",
    "                                 initializer=self.init,\n",
    "                                 name='{}_W'.format(self.name),\n",
    "                                 regularizer=self.W_regularizer,\n",
    "                                 constraint=self.W_constraint)\n",
    "        if self.bias:\n",
    "            self.b = self.add_weight(shape=(input_shape[-1],),\n",
    "                                     initializer='zero',\n",
    "                                     name='{}_b'.format(self.name),\n",
    "                                     regularizer=self.b_regularizer,\n",
    "                                     constraint=self.b_constraint)\n",
    "\n",
    "        self.u = self.add_weight(shape=(input_shape[-1],),\n",
    "                                 initializer=self.init,\n",
    "                                 name='{}_u'.format(self.name),\n",
    "                                 regularizer=self.u_regularizer,\n",
    "                                 constraint=self.u_constraint)\n",
    "\n",
    "        super(AttentionWithContext_2, self).build(input_shape)\n",
    "\n",
    "    def compute_mask(self, input, input_mask=None):\n",
    "        # do not pass the mask to the next layers\n",
    "        return None\n",
    "\n",
    "    def call(self, x, mask=None):\n",
    "        uit = dot_product(x, self.W)\n",
    "\n",
    "        if self.bias:\n",
    "            uit += self.b\n",
    "\n",
    "        uit = K.tanh(uit)\n",
    "        ait = dot_product(uit, self.u)\n",
    "\n",
    "        a = K.exp(ait)\n",
    "\n",
    "        # apply mask after the exp. will be re-normalized next\n",
    "        if mask is not None:\n",
    "            # Cast the mask to floatX to avoid float64 upcasting in theano\n",
    "            a *= K.cast(mask, K.floatx())\n",
    "\n",
    "        # in some cases especially in the early stages of training the sum may be almost zero\n",
    "        # and this results in NaN's. A workaround is to add a very small positive number ε to the sum.\n",
    "        # a /= K.cast(K.sum(a, axis=1, keepdims=True), K.floatx())\n",
    "        a /= K.cast(K.sum(a, axis=1, keepdims=True) + K.epsilon(), K.floatx())\n",
    "\n",
    "        a = K.expand_dims(a)\n",
    "        weighted_input = x * a\n",
    "        return K.sum(weighted_input, axis=1)\n",
    "\n",
    "    def compute_output_shape(self, input_shape):\n",
    "        return input_shape[0], input_shape[-1]"
   ]
  },
  {
   "cell_type": "code",
   "execution_count": 45,
   "id": "255656c8",
   "metadata": {},
   "outputs": [],
   "source": [
    "class AttentionWithContext_3(Layer):\n",
    "    \"\"\"\n",
    "    Attention operation, with a context/query vector, for temporal data.\n",
    "    Supports Masking.\n",
    "    Follows the work of Yang et al. [https://www.cs.cmu.edu/~diyiy/docs/naacl16.pdf]\n",
    "    \"Hierarchical Attention Networks for Document Classification\"\n",
    "    by using a context vector to assist the attention\n",
    "    # Input shape\n",
    "        3D tensor with shape: `(samples, steps, features)`.\n",
    "    # Output shape\n",
    "        2D tensor with shape: `(samples, features)`.\n",
    "    How to use:\n",
    "    Just put it on top of an RNN Layer (GRU/LSTM/SimpleRNN) with return_sequences=True.\n",
    "    The dimensions are inferred based on the output shape of the RNN.\n",
    "    Note: The layer has been tested with Keras 2.0.6\n",
    "    Example:\n",
    "        model.add(LSTM(64, return_sequences=True))\n",
    "        model.add(AttentionWithContext_3())\n",
    "        # next add a Dense layer (for classification/regression) or whatever...\n",
    "    \"\"\"\n",
    "\n",
    "    def __init__(self,\n",
    "                 W_regularizer=None, u_regularizer=None, b_regularizer=None,\n",
    "                 W_constraint=None, u_constraint=None, b_constraint=None,\n",
    "                 bias=True, **kwargs):\n",
    "\n",
    "        self.supports_masking = True\n",
    "        self.init = initializers.get('glorot_uniform')\n",
    "\n",
    "        self.W_regularizer = regularizers.get(W_regularizer)\n",
    "        self.u_regularizer = regularizers.get(u_regularizer)\n",
    "        self.b_regularizer = regularizers.get(b_regularizer)\n",
    "\n",
    "        self.W_constraint = constraints.get(W_constraint)\n",
    "        self.u_constraint = constraints.get(u_constraint)\n",
    "        self.b_constraint = constraints.get(b_constraint)\n",
    "\n",
    "        self.bias = bias\n",
    "        super(AttentionWithContext_3, self).__init__(**kwargs)\n",
    "\n",
    "    def get_config(self):\n",
    "\n",
    "        config = super().get_config().copy()\n",
    "        config.update({\n",
    "            'W_regularizer': self.W_regularizer,\n",
    "            'u_regularizer': self.u_regularizer,\n",
    "            'b_regularizer': self.b_regularizer,\n",
    "            'W_constraint': self.W_constraint,\n",
    "            'u_constraint': self.u_constraint,\n",
    "            'b_constraint': self.b_constraint,\n",
    "            'bias': self.bias\n",
    "        })\n",
    "        return config\n",
    "\n",
    "    def build(self, input_shape):\n",
    "        assert len(input_shape) == 3\n",
    "\n",
    "        self.W = self.add_weight(shape=(input_shape[-1], input_shape[-1],),\n",
    "                                 initializer=self.init,\n",
    "                                 name='{}_W'.format(self.name),\n",
    "                                 regularizer=self.W_regularizer,\n",
    "                                 constraint=self.W_constraint)\n",
    "        if self.bias:\n",
    "            self.b = self.add_weight(shape=(input_shape[-1],),\n",
    "                                     initializer='zero',\n",
    "                                     name='{}_b'.format(self.name),\n",
    "                                     regularizer=self.b_regularizer,\n",
    "                                     constraint=self.b_constraint)\n",
    "\n",
    "        self.u = self.add_weight(shape=(input_shape[-1],),\n",
    "                                 initializer=self.init,\n",
    "                                 name='{}_u'.format(self.name),\n",
    "                                 regularizer=self.u_regularizer,\n",
    "                                 constraint=self.u_constraint)\n",
    "\n",
    "        super(AttentionWithContext_3, self).build(input_shape)\n",
    "\n",
    "    def compute_mask(self, input, input_mask=None):\n",
    "        # do not pass the mask to the next layers\n",
    "        return None\n",
    "\n",
    "    def call(self, x, mask=None):\n",
    "        uit = dot_product(x, self.W)\n",
    "\n",
    "        if self.bias:\n",
    "            uit += self.b\n",
    "\n",
    "        uit = K.tanh(uit)\n",
    "        ait = dot_product(uit, self.u)\n",
    "\n",
    "        a = K.exp(ait)\n",
    "\n",
    "        # apply mask after the exp. will be re-normalized next\n",
    "        if mask is not None:\n",
    "            # Cast the mask to floatX to avoid float64 upcasting in theano\n",
    "            a *= K.cast(mask, K.floatx())\n",
    "\n",
    "        # in some cases especially in the early stages of training the sum may be almost zero\n",
    "        # and this results in NaN's. A workaround is to add a very small positive number ε to the sum.\n",
    "        # a /= K.cast(K.sum(a, axis=1, keepdims=True), K.floatx())\n",
    "        a /= K.cast(K.sum(a, axis=1, keepdims=True) + K.epsilon(), K.floatx())\n",
    "\n",
    "        a = K.expand_dims(a)\n",
    "        weighted_input = x * a\n",
    "        return K.sum(weighted_input, axis=1)\n",
    "\n",
    "    def compute_output_shape(self, input_shape):\n",
    "        return input_shape[0], input_shape[-1]"
   ]
  },
  {
   "cell_type": "code",
   "execution_count": 46,
   "id": "46e1be2f",
   "metadata": {
    "id": "k4RmOw6wAK8z"
   },
   "outputs": [],
   "source": [
    "def dot_product(x, kernel):\n",
    "    \"\"\"\n",
    "    Wrapper for dot product operation, in order to be compatibl|e with both\n",
    "    Theano and Tensorflow\n",
    "    Args:\n",
    "        x (): input\n",
    "        kernel (): weights\n",
    "    Returns:\n",
    "    \"\"\"\n",
    "    if K.backend() == 'tensorflow':\n",
    "        return K.squeeze(K.dot(x, K.expand_dims(kernel)), axis=-1)\n",
    "    else:\n",
    "        return K.dot(x, kernel)"
   ]
  },
  {
   "cell_type": "code",
   "execution_count": 47,
   "id": "43a8c756",
   "metadata": {
    "id": "iSrfi34kAK8z"
   },
   "outputs": [],
   "source": [
    "REG_PARAM = 1e-13\n",
    "l2_reg = regularizers.l2(REG_PARAM)"
   ]
  },
  {
   "cell_type": "code",
   "execution_count": 48,
   "id": "7c610eaf",
   "metadata": {
    "scrolled": true
   },
   "outputs": [
    {
     "name": "stdout",
     "output_type": "stream",
     "text": [
      "Model: \"model_1\"\n",
      "__________________________________________________________________________________________________\n",
      "Layer (type)                    Output Shape         Param #     Connected to                     \n",
      "==================================================================================================\n",
      "input_1 (InputLayer)            (None, 65)           0                                            \n",
      "__________________________________________________________________________________________________\n",
      "input_2 (InputLayer)            (None, 500)          0                                            \n",
      "__________________________________________________________________________________________________\n",
      "input_3 (InputLayer)            (None, 500)          0                                            \n",
      "__________________________________________________________________________________________________\n",
      "input_4 (InputLayer)            (None, 100)          0                                            \n",
      "__________________________________________________________________________________________________\n",
      "embedding_1 (Embedding)         (None, 65, 100)      10463600    input_1[0][0]                    \n",
      "__________________________________________________________________________________________________\n",
      "embedding_2 (Embedding)         (None, 500, 100)     10463600    input_2[0][0]                    \n",
      "                                                                 input_3[0][0]                    \n",
      "__________________________________________________________________________________________________\n",
      "embedding_3 (Embedding)         (None, 100, 100)     10463600    input_4[0][0]                    \n",
      "__________________________________________________________________________________________________\n",
      "bidirectional_1 (Bidirectional) (None, 65, 256)      234496      embedding_1[0][0]                \n",
      "__________________________________________________________________________________________________\n",
      "bidirectional_2 (Bidirectional) (None, 500, 256)     234496      embedding_2[0][0]                \n",
      "__________________________________________________________________________________________________\n",
      "bidirectional_3 (Bidirectional) (None, 500, 256)     234496      embedding_2[1][0]                \n",
      "__________________________________________________________________________________________________\n",
      "bidirectional_4 (Bidirectional) (None, 100, 256)     234496      embedding_3[0][0]                \n",
      "__________________________________________________________________________________________________\n",
      "time_distributed_1 (TimeDistrib (None, 65, 128)      32896       bidirectional_1[0][0]            \n",
      "__________________________________________________________________________________________________\n",
      "time_distributed_2 (TimeDistrib (None, 500, 128)     32896       bidirectional_2[0][0]            \n",
      "__________________________________________________________________________________________________\n",
      "time_distributed_3 (TimeDistrib (None, 500, 128)     32896       bidirectional_3[0][0]            \n",
      "__________________________________________________________________________________________________\n",
      "time_distributed_4 (TimeDistrib (None, 100, 128)     32896       bidirectional_4[0][0]            \n",
      "__________________________________________________________________________________________________\n",
      "attention_with_context_1 (Atten (None, 128)          16640       time_distributed_1[0][0]         \n",
      "__________________________________________________________________________________________________\n",
      "attention_with_context_1_1 (Att (None, 128)          16640       time_distributed_2[0][0]         \n",
      "__________________________________________________________________________________________________\n",
      "attention_with_context_2_1 (Att (None, 128)          16640       time_distributed_3[0][0]         \n",
      "__________________________________________________________________________________________________\n",
      "attention_with_context_3_1 (Att (None, 128)          16640       time_distributed_4[0][0]         \n",
      "__________________________________________________________________________________________________\n",
      "batch_normalization_1 (BatchNor (None, 128)          512         attention_with_context_1[0][0]   \n",
      "__________________________________________________________________________________________________\n",
      "batch_normalization_2 (BatchNor (None, 128)          512         attention_with_context_1_1[0][0] \n",
      "__________________________________________________________________________________________________\n",
      "batch_normalization_3 (BatchNor (None, 128)          512         attention_with_context_2_1[0][0] \n",
      "__________________________________________________________________________________________________\n",
      "batch_normalization_4 (BatchNor (None, 128)          512         attention_with_context_3_1[0][0] \n",
      "__________________________________________________________________________________________________\n",
      "dense_2 (Dense)                 (None, 128)          16512       batch_normalization_1[0][0]      \n",
      "__________________________________________________________________________________________________\n",
      "dense_4 (Dense)                 (None, 128)          16512       batch_normalization_2[0][0]      \n",
      "__________________________________________________________________________________________________\n",
      "dense_6 (Dense)                 (None, 128)          16512       batch_normalization_3[0][0]      \n",
      "__________________________________________________________________________________________________\n",
      "dense_8 (Dense)                 (None, 128)          16512       batch_normalization_4[0][0]      \n",
      "__________________________________________________________________________________________________\n",
      "concatenate_1 (Concatenate)     (None, 512)          0           dense_2[0][0]                    \n",
      "                                                                 dense_4[0][0]                    \n",
      "                                                                 dense_6[0][0]                    \n",
      "                                                                 dense_8[0][0]                    \n",
      "__________________________________________________________________________________________________\n",
      "dense_9 (Dense)                 (None, 256)          131328      concatenate_1[0][0]              \n",
      "__________________________________________________________________________________________________\n",
      "dropout_1 (Dropout)             (None, 256)          0           dense_9[0][0]                    \n",
      "__________________________________________________________________________________________________\n",
      "dense_10 (Dense)                (None, 46)           11822       dropout_1[0][0]                  \n",
      "==================================================================================================\n",
      "Total params: 32,738,174\n",
      "Trainable params: 1,346,350\n",
      "Non-trainable params: 31,391,824\n",
      "__________________________________________________________________________________________________\n"
     ]
    }
   ],
   "source": [
    "# title\n",
    "word_input1 = Input(shape=(title_MAX_SENTENCE_LENGTH,), dtype='float32')\n",
    "word_sequences = title_embedding_layer(word_input1)\n",
    "word_lstm = Bidirectional(LSTM(128, return_sequences=True, kernel_regularizer=l2_reg))(word_sequences)\n",
    "word_dense = TimeDistributed(Dense(128, kernel_regularizer=l2_reg))(word_lstm)\n",
    "word_att = AttentionWithContext()(word_dense)\n",
    "x1 = BatchNormalization()(word_att)\n",
    "x1 = Dense(128, activation='relu')(x1)\n",
    "\n",
    "\n",
    "# content1\n",
    "word_input2 = Input(shape=(content_MAX_SENTENCE_LENGTH,), dtype='float32')\n",
    "word_sequences = content_embedding_layer(word_input2)\n",
    "word_lstm = Bidirectional(LSTM(128, return_sequences=True, kernel_regularizer=l2_reg))(word_sequences)\n",
    "word_dense = TimeDistributed(Dense(128, kernel_regularizer=l2_reg))(word_lstm)\n",
    "word_att = AttentionWithContext_1()(word_dense)\n",
    "x2 = BatchNormalization()(word_att)\n",
    "x2 = Dense(128, activation='relu')(x2)\n",
    "\n",
    "\n",
    "# content2\n",
    "word_input3 = Input(shape=(content_MAX_SENTENCE_LENGTH,), dtype='float32')\n",
    "word_sequences = content_embedding_layer(word_input3)\n",
    "word_lstm = Bidirectional(LSTM(128, return_sequences=True, kernel_regularizer=l2_reg))(word_sequences)\n",
    "word_dense = TimeDistributed(Dense(128, kernel_regularizer=l2_reg))(word_lstm)\n",
    "word_att = AttentionWithContext_2()(word_dense)\n",
    "x3 = BatchNormalization()(word_att)\n",
    "x3 = Dense(128, activation='relu')(x3)\n",
    "\n",
    "\n",
    "# keyword\n",
    "word_input4 = Input(shape=(keyword_MAX_SENTENCE_LENGTH,), dtype='float32')\n",
    "word_sequences = keyword_embedding_layer(word_input4)\n",
    "word_lstm = Bidirectional(LSTM(128, return_sequences=True, kernel_regularizer=l2_reg))(word_sequences)\n",
    "word_dense = TimeDistributed(Dense(128, kernel_regularizer=l2_reg))(word_lstm)\n",
    "word_att = AttentionWithContext_3()(word_dense)\n",
    "x4 = BatchNormalization()(word_att)\n",
    "x4 = Dense(128, activation='relu')(x4)\n",
    "\n",
    "\n",
    "# feature1, 2, 3\n",
    "#scaled_input = Input(shape=(3,), dtype='float32')\n",
    "#x3 = Dense(30, activation='relu')(scaled_input)\n",
    "\n",
    "\n",
    "# Classifier\n",
    "concat = Concatenate()([x1, x2, x3, x4])\n",
    "dense = Dropout(0.5)(Dense(256, activation= 'relu', kernel_regularizer=l2_reg)(concat))\n",
    "preds = Dense(46, activation='softmax')(dense)\n",
    "\n",
    "\n",
    "model = Model(inputs = [word_input1, word_input2, word_input3, word_input4], outputs = preds)\n",
    "\n",
    "\n",
    "model.summary()"
   ]
  },
  {
   "cell_type": "code",
   "execution_count": 49,
   "id": "ccd39abc",
   "metadata": {},
   "outputs": [
    {
     "data": {
      "image/png": "[encoded data removed]",
      "text/plain": [
       "<IPython.core.display.Image object>"
      ]
     },
     "execution_count": 49,
     "metadata": {},
     "output_type": "execute_result"
    }
   ],
   "source": [
    "%matplotlib inline\n",
    "\n",
    "SVG(model_to_dot(model, show_shapes=True, dpi=100).create(prog='dot', format='svg'))\n",
    "\n",
    "plot_model(model, show_shapes=True, to_file='./img/att_lstm_{}.png'.format(version))"
   ]
  },
  {
   "cell_type": "code",
   "execution_count": 50,
   "id": "45c133fb",
   "metadata": {},
   "outputs": [],
   "source": [
    "def recall_m(y_true, y_pred):\n",
    "    true_positives = K.sum(K.round(K.clip(y_true * y_pred, 0, 1)))\n",
    "    possible_positives = K.sum(K.round(K.clip(y_true, 0, 1)))\n",
    "    recall = true_positives / (possible_positives + K.epsilon())\n",
    "    return recall\n",
    "\n",
    "def precision_m(y_true, y_pred):\n",
    "    true_positives = K.sum(K.round(K.clip(y_true * y_pred, 0, 1)))\n",
    "    predicted_positives = K.sum(K.round(K.clip(y_pred, 0, 1)))\n",
    "    precision = true_positives / (predicted_positives + K.epsilon())\n",
    "    return precision\n",
    "\n",
    "def f1_m(y_true, y_pred):\n",
    "    precision = precision_m(y_true, y_pred)\n",
    "    recall = recall_m(y_true, y_pred)\n",
    "    return 2*((precision*recall)/(precision+recall+K.epsilon()))"
   ]
  },
  {
   "cell_type": "code",
   "execution_count": 51,
   "id": "a8c9b46f",
   "metadata": {},
   "outputs": [],
   "source": [
    "def weighted_categorical_crossentropy(weights):\n",
    "    \"\"\"\n",
    "    A weighted version of keras.objectives.categorical_crossentropy\n",
    "    \n",
    "    Variables:\n",
    "        weights: numpy array of shape (C,) where C is the number of classes\n",
    "    \n",
    "    Usage:\n",
    "        weights = np.array([0.5,2,10]) # Class one at 0.5, class 2 twice the normal weights, class 3 10x.\n",
    "        loss = weighted_categorical_crossentropy(weights)\n",
    "        model.compile(loss=loss,optimizer='adam')\n",
    "    \"\"\"\n",
    "    \n",
    "    weights = K.variable(weights)\n",
    "        \n",
    "    def loss(y_true, y_pred):\n",
    "        # scale predictions so that the class probas of each sample sum to 1\n",
    "        y_pred /= K.sum(y_pred, axis=-1, keepdims=True)\n",
    "        # clip to prevent NaN's and Inf's\n",
    "        y_pred = K.clip(y_pred, K.epsilon(), 1 - K.epsilon())\n",
    "        # calc\n",
    "        loss = y_true * K.log(y_pred) * weights\n",
    "        loss = -K.sum(loss, -1)\n",
    "        return loss\n",
    "    \n",
    "    return loss"
   ]
  },
  {
   "cell_type": "code",
   "execution_count": 52,
   "id": "f62ee4a6",
   "metadata": {
    "id": "_vkKUuGDAK80",
    "scrolled": true
   },
   "outputs": [],
   "source": [
    "es = EarlyStopping(monitor='val_loss', patience=20)\n",
    "\n",
    "mc = ModelCheckpoint('D:/0. dacon/green/att_lstm_{}'.format(version) + '_{epoch:02d}_{val_f1_m:.4f}_{val_loss:.4f}.h5',\n",
    "                             verbose=0,\n",
    "                             monitor='val_loss',\n",
    "                             save_best_only=False,\n",
    "                             mode='auto')\n",
    "\n",
    "#model.compile(loss=weighted_categorical_crossentropy(class_weights), optimizer='adam', metrics=[f1_m])\n",
    "model.compile(loss='categorical_crossentropy', optimizer='adam', metrics=[f1_m])"
   ]
  },
  {
   "cell_type": "code",
   "execution_count": 53,
   "id": "46f3059a",
   "metadata": {
    "colab": {
     "base_uri": "https://localhost:8080/",
     "height": 1000
    },
    "id": "6QHeP9XDAK80",
    "outputId": "538f5009-d13e-4450-c3c0-b562ef692928",
    "scrolled": true
   },
   "outputs": [
    {
     "name": "stdout",
     "output_type": "stream",
     "text": [
      "Train on 104583 samples, validate on 69721 samples\n",
      "Epoch 1/100\n",
      "104583/104583 [==============================] - 5812s 56ms/step - loss: 0.5907 - f1_m: 0.8392 - val_loss: 1.3021 - val_f1_m: 0.8328\n",
      "Epoch 2/100\n",
      "104583/104583 [==============================] - 5755s 55ms/step - loss: 0.4527 - f1_m: 0.8634 - val_loss: 0.5413 - val_f1_m: 0.8584\n",
      "Epoch 3/100\n",
      "104583/104583 [==============================] - 5748s 55ms/step - loss: 0.4098 - f1_m: 0.8714 - val_loss: 0.6381 - val_f1_m: 0.8526\n",
      "Epoch 4/100\n",
      "104583/104583 [==============================] - 5750s 55ms/step - loss: 0.3735 - f1_m: 0.8804 - val_loss: 0.8957 - val_f1_m: 0.5831\n",
      "Epoch 5/100\n",
      "104583/104583 [==============================] - 5716s 55ms/step - loss: 0.3473 - f1_m: 0.8870 - val_loss: 0.3809 - val_f1_m: 0.8822\n",
      "Epoch 6/100\n",
      "104583/104583 [==============================] - 5792s 55ms/step - loss: 0.3171 - f1_m: 0.8939 - val_loss: 0.5723 - val_f1_m: 0.8718\n",
      "Epoch 7/100\n",
      "104583/104583 [==============================] - 5817s 56ms/step - loss: 0.2931 - f1_m: 0.9017 - val_loss: 0.8127 - val_f1_m: 0.8487\n",
      "Epoch 8/100\n",
      "104583/104583 [==============================] - 5865s 56ms/step - loss: 0.2655 - f1_m: 0.9085 - val_loss: 0.6910 - val_f1_m: 0.8612\n",
      "Epoch 9/100\n",
      "  9216/104583 [=>............................] - ETA: 1:23:23 - loss: 0.2408 - f1_m: 0.9161"
     ]
    },
    {
     "ename": "KeyboardInterrupt",
     "evalue": "",
     "output_type": "error",
     "traceback": [
      "\u001b[1;31m---------------------------------------------------------------------------\u001b[0m",
      "\u001b[1;31mKeyboardInterrupt\u001b[0m                         Traceback (most recent call last)",
      "\u001b[1;32m<ipython-input-53-b6c3fda7c102>\u001b[0m in \u001b[0;36m<module>\u001b[1;34m\u001b[0m\n\u001b[0;32m      4\u001b[0m                     \u001b[0mepochs\u001b[0m \u001b[1;33m=\u001b[0m \u001b[1;36m100\u001b[0m\u001b[1;33m,\u001b[0m\u001b[1;33m\u001b[0m\u001b[1;33m\u001b[0m\u001b[0m\n\u001b[0;32m      5\u001b[0m                     \u001b[0mbatch_size\u001b[0m \u001b[1;33m=\u001b[0m \u001b[1;36m64\u001b[0m\u001b[1;33m,\u001b[0m\u001b[1;33m\u001b[0m\u001b[1;33m\u001b[0m\u001b[0m\n\u001b[1;32m----> 6\u001b[1;33m                     callbacks = [es, mc])\n\u001b[0m",
      "\u001b[1;32m~\\.conda\\envs\\green\\lib\\site-packages\\keras\\engine\\training.py\u001b[0m in \u001b[0;36mfit\u001b[1;34m(self, x, y, batch_size, epochs, verbose, callbacks, validation_split, validation_data, shuffle, class_weight, sample_weight, initial_epoch, steps_per_epoch, validation_steps, validation_freq, max_queue_size, workers, use_multiprocessing, **kwargs)\u001b[0m\n\u001b[0;32m   1237\u001b[0m                                         \u001b[0msteps_per_epoch\u001b[0m\u001b[1;33m=\u001b[0m\u001b[0msteps_per_epoch\u001b[0m\u001b[1;33m,\u001b[0m\u001b[1;33m\u001b[0m\u001b[1;33m\u001b[0m\u001b[0m\n\u001b[0;32m   1238\u001b[0m                                         \u001b[0mvalidation_steps\u001b[0m\u001b[1;33m=\u001b[0m\u001b[0mvalidation_steps\u001b[0m\u001b[1;33m,\u001b[0m\u001b[1;33m\u001b[0m\u001b[1;33m\u001b[0m\u001b[0m\n\u001b[1;32m-> 1239\u001b[1;33m                                         validation_freq=validation_freq)\n\u001b[0m\u001b[0;32m   1240\u001b[0m \u001b[1;33m\u001b[0m\u001b[0m\n\u001b[0;32m   1241\u001b[0m     def evaluate(self,\n",
      "\u001b[1;32m~\\.conda\\envs\\green\\lib\\site-packages\\keras\\engine\\training_arrays.py\u001b[0m in \u001b[0;36mfit_loop\u001b[1;34m(model, fit_function, fit_inputs, out_labels, batch_size, epochs, verbose, callbacks, val_function, val_inputs, shuffle, initial_epoch, steps_per_epoch, validation_steps, validation_freq)\u001b[0m\n\u001b[0;32m    194\u001b[0m                     \u001b[0mins_batch\u001b[0m\u001b[1;33m[\u001b[0m\u001b[0mi\u001b[0m\u001b[1;33m]\u001b[0m \u001b[1;33m=\u001b[0m \u001b[0mins_batch\u001b[0m\u001b[1;33m[\u001b[0m\u001b[0mi\u001b[0m\u001b[1;33m]\u001b[0m\u001b[1;33m.\u001b[0m\u001b[0mtoarray\u001b[0m\u001b[1;33m(\u001b[0m\u001b[1;33m)\u001b[0m\u001b[1;33m\u001b[0m\u001b[1;33m\u001b[0m\u001b[0m\n\u001b[0;32m    195\u001b[0m \u001b[1;33m\u001b[0m\u001b[0m\n\u001b[1;32m--> 196\u001b[1;33m                 \u001b[0mouts\u001b[0m \u001b[1;33m=\u001b[0m \u001b[0mfit_function\u001b[0m\u001b[1;33m(\u001b[0m\u001b[0mins_batch\u001b[0m\u001b[1;33m)\u001b[0m\u001b[1;33m\u001b[0m\u001b[1;33m\u001b[0m\u001b[0m\n\u001b[0m\u001b[0;32m    197\u001b[0m                 \u001b[0mouts\u001b[0m \u001b[1;33m=\u001b[0m \u001b[0mto_list\u001b[0m\u001b[1;33m(\u001b[0m\u001b[0mouts\u001b[0m\u001b[1;33m)\u001b[0m\u001b[1;33m\u001b[0m\u001b[1;33m\u001b[0m\u001b[0m\n\u001b[0;32m    198\u001b[0m                 \u001b[1;32mfor\u001b[0m \u001b[0ml\u001b[0m\u001b[1;33m,\u001b[0m \u001b[0mo\u001b[0m \u001b[1;32min\u001b[0m \u001b[0mzip\u001b[0m\u001b[1;33m(\u001b[0m\u001b[0mout_labels\u001b[0m\u001b[1;33m,\u001b[0m \u001b[0mouts\u001b[0m\u001b[1;33m)\u001b[0m\u001b[1;33m:\u001b[0m\u001b[1;33m\u001b[0m\u001b[1;33m\u001b[0m\u001b[0m\n",
      "\u001b[1;32m~\\.conda\\envs\\green\\lib\\site-packages\\tensorflow\\python\\keras\\backend.py\u001b[0m in \u001b[0;36m__call__\u001b[1;34m(self, inputs)\u001b[0m\n\u001b[0;32m   3790\u001b[0m         \u001b[0mvalue\u001b[0m \u001b[1;33m=\u001b[0m \u001b[0mmath_ops\u001b[0m\u001b[1;33m.\u001b[0m\u001b[0mcast\u001b[0m\u001b[1;33m(\u001b[0m\u001b[0mvalue\u001b[0m\u001b[1;33m,\u001b[0m \u001b[0mtensor\u001b[0m\u001b[1;33m.\u001b[0m\u001b[0mdtype\u001b[0m\u001b[1;33m)\u001b[0m\u001b[1;33m\u001b[0m\u001b[1;33m\u001b[0m\u001b[0m\n\u001b[0;32m   3791\u001b[0m       \u001b[0mconverted_inputs\u001b[0m\u001b[1;33m.\u001b[0m\u001b[0mappend\u001b[0m\u001b[1;33m(\u001b[0m\u001b[0mvalue\u001b[0m\u001b[1;33m)\u001b[0m\u001b[1;33m\u001b[0m\u001b[1;33m\u001b[0m\u001b[0m\n\u001b[1;32m-> 3792\u001b[1;33m     \u001b[0moutputs\u001b[0m \u001b[1;33m=\u001b[0m \u001b[0mself\u001b[0m\u001b[1;33m.\u001b[0m\u001b[0m_graph_fn\u001b[0m\u001b[1;33m(\u001b[0m\u001b[1;33m*\u001b[0m\u001b[0mconverted_inputs\u001b[0m\u001b[1;33m)\u001b[0m\u001b[1;33m\u001b[0m\u001b[1;33m\u001b[0m\u001b[0m\n\u001b[0m\u001b[0;32m   3793\u001b[0m \u001b[1;33m\u001b[0m\u001b[0m\n\u001b[0;32m   3794\u001b[0m     \u001b[1;31m# EagerTensor.numpy() will often make a copy to ensure memory safety.\u001b[0m\u001b[1;33m\u001b[0m\u001b[1;33m\u001b[0m\u001b[1;33m\u001b[0m\u001b[0m\n",
      "\u001b[1;32m~\\.conda\\envs\\green\\lib\\site-packages\\tensorflow\\python\\eager\\function.py\u001b[0m in \u001b[0;36m__call__\u001b[1;34m(self, *args, **kwargs)\u001b[0m\n\u001b[0;32m   1603\u001b[0m       \u001b[0mTypeError\u001b[0m\u001b[1;33m:\u001b[0m \u001b[0mFor\u001b[0m \u001b[0minvalid\u001b[0m \u001b[0mpositional\u001b[0m\u001b[1;33m/\u001b[0m\u001b[0mkeyword\u001b[0m \u001b[0margument\u001b[0m \u001b[0mcombinations\u001b[0m\u001b[1;33m.\u001b[0m\u001b[1;33m\u001b[0m\u001b[1;33m\u001b[0m\u001b[0m\n\u001b[0;32m   1604\u001b[0m     \"\"\"\n\u001b[1;32m-> 1605\u001b[1;33m     \u001b[1;32mreturn\u001b[0m \u001b[0mself\u001b[0m\u001b[1;33m.\u001b[0m\u001b[0m_call_impl\u001b[0m\u001b[1;33m(\u001b[0m\u001b[0margs\u001b[0m\u001b[1;33m,\u001b[0m \u001b[0mkwargs\u001b[0m\u001b[1;33m)\u001b[0m\u001b[1;33m\u001b[0m\u001b[1;33m\u001b[0m\u001b[0m\n\u001b[0m\u001b[0;32m   1606\u001b[0m \u001b[1;33m\u001b[0m\u001b[0m\n\u001b[0;32m   1607\u001b[0m   \u001b[1;32mdef\u001b[0m \u001b[0m_call_impl\u001b[0m\u001b[1;33m(\u001b[0m\u001b[0mself\u001b[0m\u001b[1;33m,\u001b[0m \u001b[0margs\u001b[0m\u001b[1;33m,\u001b[0m \u001b[0mkwargs\u001b[0m\u001b[1;33m,\u001b[0m \u001b[0mcancellation_manager\u001b[0m\u001b[1;33m=\u001b[0m\u001b[1;32mNone\u001b[0m\u001b[1;33m)\u001b[0m\u001b[1;33m:\u001b[0m\u001b[1;33m\u001b[0m\u001b[1;33m\u001b[0m\u001b[0m\n",
      "\u001b[1;32m~\\.conda\\envs\\green\\lib\\site-packages\\tensorflow\\python\\eager\\function.py\u001b[0m in \u001b[0;36m_call_impl\u001b[1;34m(self, args, kwargs, cancellation_manager)\u001b[0m\n\u001b[0;32m   1643\u001b[0m       raise TypeError(\"Keyword arguments {} unknown. Expected {}.\".format(\n\u001b[0;32m   1644\u001b[0m           list(kwargs.keys()), list(self._arg_keywords)))\n\u001b[1;32m-> 1645\u001b[1;33m     \u001b[1;32mreturn\u001b[0m \u001b[0mself\u001b[0m\u001b[1;33m.\u001b[0m\u001b[0m_call_flat\u001b[0m\u001b[1;33m(\u001b[0m\u001b[0margs\u001b[0m\u001b[1;33m,\u001b[0m \u001b[0mself\u001b[0m\u001b[1;33m.\u001b[0m\u001b[0mcaptured_inputs\u001b[0m\u001b[1;33m,\u001b[0m \u001b[0mcancellation_manager\u001b[0m\u001b[1;33m)\u001b[0m\u001b[1;33m\u001b[0m\u001b[1;33m\u001b[0m\u001b[0m\n\u001b[0m\u001b[0;32m   1646\u001b[0m \u001b[1;33m\u001b[0m\u001b[0m\n\u001b[0;32m   1647\u001b[0m   \u001b[1;32mdef\u001b[0m \u001b[0m_filtered_call\u001b[0m\u001b[1;33m(\u001b[0m\u001b[0mself\u001b[0m\u001b[1;33m,\u001b[0m \u001b[0margs\u001b[0m\u001b[1;33m,\u001b[0m \u001b[0mkwargs\u001b[0m\u001b[1;33m)\u001b[0m\u001b[1;33m:\u001b[0m\u001b[1;33m\u001b[0m\u001b[1;33m\u001b[0m\u001b[0m\n",
      "\u001b[1;32m~\\.conda\\envs\\green\\lib\\site-packages\\tensorflow\\python\\eager\\function.py\u001b[0m in \u001b[0;36m_call_flat\u001b[1;34m(self, args, captured_inputs, cancellation_manager)\u001b[0m\n\u001b[0;32m   1744\u001b[0m       \u001b[1;31m# No tape is watching; skip to running the function.\u001b[0m\u001b[1;33m\u001b[0m\u001b[1;33m\u001b[0m\u001b[1;33m\u001b[0m\u001b[0m\n\u001b[0;32m   1745\u001b[0m       return self._build_call_outputs(self._inference_function.call(\n\u001b[1;32m-> 1746\u001b[1;33m           ctx, args, cancellation_manager=cancellation_manager))\n\u001b[0m\u001b[0;32m   1747\u001b[0m     forward_backward = self._select_forward_and_backward_functions(\n\u001b[0;32m   1748\u001b[0m         \u001b[0margs\u001b[0m\u001b[1;33m,\u001b[0m\u001b[1;33m\u001b[0m\u001b[1;33m\u001b[0m\u001b[0m\n",
      "\u001b[1;32m~\\.conda\\envs\\green\\lib\\site-packages\\tensorflow\\python\\eager\\function.py\u001b[0m in \u001b[0;36mcall\u001b[1;34m(self, ctx, args, cancellation_manager)\u001b[0m\n\u001b[0;32m    596\u001b[0m               \u001b[0minputs\u001b[0m\u001b[1;33m=\u001b[0m\u001b[0margs\u001b[0m\u001b[1;33m,\u001b[0m\u001b[1;33m\u001b[0m\u001b[1;33m\u001b[0m\u001b[0m\n\u001b[0;32m    597\u001b[0m               \u001b[0mattrs\u001b[0m\u001b[1;33m=\u001b[0m\u001b[0mattrs\u001b[0m\u001b[1;33m,\u001b[0m\u001b[1;33m\u001b[0m\u001b[1;33m\u001b[0m\u001b[0m\n\u001b[1;32m--> 598\u001b[1;33m               ctx=ctx)\n\u001b[0m\u001b[0;32m    599\u001b[0m         \u001b[1;32melse\u001b[0m\u001b[1;33m:\u001b[0m\u001b[1;33m\u001b[0m\u001b[1;33m\u001b[0m\u001b[0m\n\u001b[0;32m    600\u001b[0m           outputs = execute.execute_with_cancellation(\n",
      "\u001b[1;32m~\\.conda\\envs\\green\\lib\\site-packages\\tensorflow\\python\\eager\\execute.py\u001b[0m in \u001b[0;36mquick_execute\u001b[1;34m(op_name, num_outputs, inputs, attrs, ctx, name)\u001b[0m\n\u001b[0;32m     58\u001b[0m     \u001b[0mctx\u001b[0m\u001b[1;33m.\u001b[0m\u001b[0mensure_initialized\u001b[0m\u001b[1;33m(\u001b[0m\u001b[1;33m)\u001b[0m\u001b[1;33m\u001b[0m\u001b[1;33m\u001b[0m\u001b[0m\n\u001b[0;32m     59\u001b[0m     tensors = pywrap_tfe.TFE_Py_Execute(ctx._handle, device_name, op_name,\n\u001b[1;32m---> 60\u001b[1;33m                                         inputs, attrs, num_outputs)\n\u001b[0m\u001b[0;32m     61\u001b[0m   \u001b[1;32mexcept\u001b[0m \u001b[0mcore\u001b[0m\u001b[1;33m.\u001b[0m\u001b[0m_NotOkStatusException\u001b[0m \u001b[1;32mas\u001b[0m \u001b[0me\u001b[0m\u001b[1;33m:\u001b[0m\u001b[1;33m\u001b[0m\u001b[1;33m\u001b[0m\u001b[0m\n\u001b[0;32m     62\u001b[0m     \u001b[1;32mif\u001b[0m \u001b[0mname\u001b[0m \u001b[1;32mis\u001b[0m \u001b[1;32mnot\u001b[0m \u001b[1;32mNone\u001b[0m\u001b[1;33m:\u001b[0m\u001b[1;33m\u001b[0m\u001b[1;33m\u001b[0m\u001b[0m\n",
      "\u001b[1;31mKeyboardInterrupt\u001b[0m: "
     ]
    }
   ],
   "source": [
    "history = model.fit([x_train_title, x_train_content, x_train_content_reverse, x_train_keyword], y_train,\n",
    "                    validation_data = ([x_val_title, x_val_content, x_val_content_reverse, x_val_keyword], y_val),\n",
    "                    #class_weight = class_weights,\n",
    "                    epochs = 100,\n",
    "                    batch_size = 64,\n",
    "                    callbacks = [es, mc])"
   ]
  },
  {
   "cell_type": "code",
   "execution_count": null,
   "id": "be422cd3",
   "metadata": {
    "id": "cUowA52SAK81"
   },
   "outputs": [],
   "source": [
    "print(history.history.keys())"
   ]
  },
  {
   "cell_type": "code",
   "execution_count": null,
   "id": "bc2280d9",
   "metadata": {
    "id": "VmEj192eAK81"
   },
   "outputs": [],
   "source": [
    "# summarize history for accuracy\n",
    "plt.plot(history.history['f1_m'])\n",
    "plt.plot(history.history['val_f1_m'])\n",
    "plt.title('model f1_m')\n",
    "plt.ylabel('f1_m')\n",
    "plt.xlabel('epoch')\n",
    "plt.legend(['train', 'val'], loc='upper left')\n",
    "plt.show()"
   ]
  },
  {
   "cell_type": "code",
   "execution_count": null,
   "id": "186068e7",
   "metadata": {
    "id": "r81GVf7YAK81"
   },
   "outputs": [],
   "source": [
    "# summarize history for loss\n",
    "plt.plot(history.history['loss'])\n",
    "plt.plot(history.history['val_loss'])\n",
    "plt.title('model loss')\n",
    "plt.ylabel('loss')\n",
    "plt.xlabel('epoch')\n",
    "plt.legend(['train', 'val'], loc='upper left')\n",
    "plt.show()"
   ]
  },
  {
   "cell_type": "markdown",
   "id": "35c7a2a4",
   "metadata": {
    "id": "0JvYIAkbAK82"
   },
   "source": [
    "# Inference"
   ]
  },
  {
   "cell_type": "code",
   "execution_count": 55,
   "id": "f868bf6b",
   "metadata": {},
   "outputs": [],
   "source": [
    "test = pd.read_csv('./data/test.csv')"
   ]
  },
  {
   "cell_type": "code",
   "execution_count": 56,
   "id": "e9fb5e60",
   "metadata": {},
   "outputs": [],
   "source": [
    "test = test.fillna('NAN')"
   ]
  },
  {
   "cell_type": "code",
   "execution_count": 54,
   "id": "dd57b22e",
   "metadata": {
    "scrolled": true
   },
   "outputs": [],
   "source": [
    "with CustomObjectScope({'AttentionWithContext': AttentionWithContext, 'AttentionWithContext_1': AttentionWithContext_1,\n",
    "                        'AttentionWithContext_2': AttentionWithContext_2, 'AttentionWithContext_3': AttentionWithContext_3,\n",
    "                        'f1_m': f1_m}):\n",
    "    model = load_model('D:/0. dacon/green/att_lstm_v2_05_0.8822_0.3809.h5')"
   ]
  },
  {
   "cell_type": "code",
   "execution_count": 57,
   "id": "0a95fd68",
   "metadata": {},
   "outputs": [],
   "source": [
    "with open('./tokenizer/tokenizer_{}.pkl'.format(version),'rb') as f:\n",
    "    han_tokenizer = pkl.load(f)\n",
    "    \n",
    "f.close()"
   ]
  },
  {
   "cell_type": "code",
   "execution_count": 58,
   "id": "1e45ad20",
   "metadata": {},
   "outputs": [
    {
     "name": "stderr",
     "output_type": "stream",
     "text": [
      "[nltk_data] Downloading package punkt to\n",
      "[nltk_data]     C:\\Users\\user\\AppData\\Roaming\\nltk_data...\n",
      "[nltk_data]   Package punkt is already up-to-date!\n"
     ]
    },
    {
     "data": {
      "text/plain": [
       "True"
      ]
     },
     "execution_count": 58,
     "metadata": {},
     "output_type": "execute_result"
    }
   ],
   "source": [
    "nltk.download('punkt')"
   ]
  },
  {
   "cell_type": "code",
   "execution_count": 59,
   "id": "7614e1c3",
   "metadata": {},
   "outputs": [
    {
     "name": "stderr",
     "output_type": "stream",
     "text": [
      "100%|█████████████████████████████████████████████████████████████████████████| 43576/43576 [00:01<00:00, 24172.55it/s]\n",
      "100%|██████████████████████████████████████████████████████████████████████████| 43576/43576 [00:24<00:00, 1784.35it/s]\n",
      "100%|█████████████████████████████████████████████████████████████████████████| 43576/43576 [00:01<00:00, 21997.81it/s]\n"
     ]
    }
   ],
   "source": [
    "test['tokenized_title'] = text_preprocessing(test['과제명'])\n",
    "test['tokenized_content'] = text_preprocessing(test['요약문_연구내용'])\n",
    "test['tokenized_keyword'] = text_preprocessing(test['요약문_한글키워드'])\n",
    "\n",
    "test.tokenized_title = test.tokenized_title.apply(lambda x: ' '.join(x))\n",
    "test.tokenized_content = test.tokenized_content.apply(lambda x: ' '.join(x))\n",
    "test.tokenized_keyword = test.tokenized_keyword.apply(lambda x: ' '.join(x))"
   ]
  },
  {
   "cell_type": "markdown",
   "id": "409df48a",
   "metadata": {},
   "source": [
    "## LSTM"
   ]
  },
  {
   "cell_type": "code",
   "execution_count": 60,
   "id": "2c37555b",
   "metadata": {},
   "outputs": [
    {
     "name": "stderr",
     "output_type": "stream",
     "text": [
      "43576it [00:00, 66490.20it/s]"
     ]
    },
    {
     "name": "stdout",
     "output_type": "stream",
     "text": [
      "(43576, 65)\n"
     ]
    },
    {
     "name": "stderr",
     "output_type": "stream",
     "text": [
      "\n"
     ]
    }
   ],
   "source": [
    "data_title_x = np.zeros((len(test['tokenized_title']), title_MAX_SENTENCE_LENGTH), dtype='int32')\n",
    "\n",
    "for i, doc in tqdm(enumerate(test['tokenized_title'])):\n",
    "    wordTokens = text_to_word_sequence(doc)\n",
    "    k=0\n",
    "    for _, word in enumerate(wordTokens):\n",
    "        try:\n",
    "            if k < title_MAX_SENTENCE_LENGTH and tokenizer.word_index[word] < max_features:\n",
    "                data_title_x[i,k] = tokenizer.word_index[word]\n",
    "                k = k+1\n",
    "        except:\n",
    "            pass\n",
    "        \n",
    "print(data_title_x.shape)"
   ]
  },
  {
   "cell_type": "code",
   "execution_count": 61,
   "id": "c25825b7",
   "metadata": {},
   "outputs": [
    {
     "name": "stderr",
     "output_type": "stream",
     "text": [
      "43576it [00:11, 3717.72it/s]"
     ]
    },
    {
     "name": "stdout",
     "output_type": "stream",
     "text": [
      "(43576, 500)\n",
      "(43576, 500)\n"
     ]
    },
    {
     "name": "stderr",
     "output_type": "stream",
     "text": [
      "\n"
     ]
    }
   ],
   "source": [
    "data_content_x = np.zeros((len(test['tokenized_content']), content_MAX_SENTENCE_LENGTH), dtype='int32')\n",
    "data_content_reverse_x = np.zeros((len(test['tokenized_content']), content_MAX_SENTENCE_LENGTH), dtype='int32')\n",
    "\n",
    "for i, doc in tqdm(enumerate(test['tokenized_content'])):\n",
    "    wordTokens = text_to_word_sequence(doc)\n",
    "    k=0\n",
    "    for _, word in enumerate(wordTokens):\n",
    "        try:\n",
    "            if k < content_MAX_SENTENCE_LENGTH and tokenizer.word_index[word] < max_features:\n",
    "                data_content_x[i,k] = tokenizer.word_index[word]\n",
    "                k = k+1\n",
    "        except:\n",
    "            pass\n",
    "    k=0\n",
    "    for _, word in enumerate(reversed(wordTokens)):\n",
    "        try:\n",
    "            if k < content_MAX_SENTENCE_LENGTH and tokenizer.word_index[word] < max_features:\n",
    "                data_content_reverse_x[i,k] = tokenizer.word_index[word]\n",
    "                k = k+1\n",
    "        except:\n",
    "            pass\n",
    "        \n",
    "print(data_content_x.shape)\n",
    "print(data_content_reverse_x.shape)"
   ]
  },
  {
   "cell_type": "code",
   "execution_count": 62,
   "id": "0a9242f8",
   "metadata": {},
   "outputs": [
    {
     "name": "stderr",
     "output_type": "stream",
     "text": [
      "43576it [00:00, 66981.81it/s]"
     ]
    },
    {
     "name": "stdout",
     "output_type": "stream",
     "text": [
      "(43576, 100)\n"
     ]
    },
    {
     "name": "stderr",
     "output_type": "stream",
     "text": [
      "\n"
     ]
    }
   ],
   "source": [
    "data_keyword_x = np.zeros((len(test['tokenized_keyword']), keyword_MAX_SENTENCE_LENGTH), dtype='int32')\n",
    "\n",
    "for i, doc in tqdm(enumerate(test['tokenized_keyword'])):\n",
    "    wordTokens = text_to_word_sequence(doc)\n",
    "    k=0\n",
    "    for _, word in enumerate(wordTokens):\n",
    "        try:\n",
    "            if k < keyword_MAX_SENTENCE_LENGTH and tokenizer.word_index[word] < max_features:\n",
    "                data_keyword_x[i,k] = tokenizer.word_index[word]\n",
    "                k = k+1\n",
    "        except:\n",
    "            pass\n",
    "        \n",
    "print(data_keyword_x.shape)"
   ]
  },
  {
   "cell_type": "code",
   "execution_count": 63,
   "id": "8c4d247e",
   "metadata": {},
   "outputs": [
    {
     "name": "stdout",
     "output_type": "stream",
     "text": [
      "Total 104635 unique tokens.\n"
     ]
    }
   ],
   "source": [
    "word_index = tokenizer.word_index\n",
    "print('Total %s unique tokens.' % len(word_index))"
   ]
  },
  {
   "cell_type": "markdown",
   "id": "c214f6e4",
   "metadata": {},
   "source": [
    "test_dum = test[['제출년도', '사업_부처명', '계속과제여부']]\n",
    "test_dum"
   ]
  },
  {
   "cell_type": "markdown",
   "id": "609d4ec8",
   "metadata": {},
   "source": [
    "test_dum.dtypes"
   ]
  },
  {
   "cell_type": "markdown",
   "id": "23723e15",
   "metadata": {},
   "source": [
    "test_dum_v1 = test_dum.astype('category')\n",
    "test_dum_v1"
   ]
  },
  {
   "cell_type": "markdown",
   "id": "69008771",
   "metadata": {},
   "source": [
    "test_dum_v1.dtypes"
   ]
  },
  {
   "cell_type": "markdown",
   "id": "c7318d13",
   "metadata": {},
   "source": [
    "test_dum_v1['제출년도'] = test_dum_v1['제출년도'].cat.codes\n",
    "test_dum_v1['사업_부처명'] = test_dum_v1['사업_부처명'].cat.codes\n",
    "test_dum_v1['계속과제여부'] = test_dum_v1['계속과제여부'].cat.codes\n",
    "test_dum_v1"
   ]
  },
  {
   "cell_type": "markdown",
   "id": "5870953c",
   "metadata": {},
   "source": [
    "test_dum_v1_scale = scaler.transform(test_dum_v1)\n",
    "test_dum_v1_scale"
   ]
  },
  {
   "cell_type": "markdown",
   "id": "6793a04b",
   "metadata": {},
   "source": [
    "## Prediction"
   ]
  },
  {
   "cell_type": "code",
   "execution_count": 64,
   "id": "4cce7645",
   "metadata": {
    "id": "loc8Yt9CAK83"
   },
   "outputs": [],
   "source": [
    "pred_test = model.predict([data_title_x, data_content_x, data_content_reverse_x, data_keyword_x], batch_size = 64)"
   ]
  },
  {
   "cell_type": "code",
   "execution_count": 65,
   "id": "7883602b",
   "metadata": {},
   "outputs": [
    {
     "data": {
      "text/plain": [
       "(43576, 46)"
      ]
     },
     "execution_count": 65,
     "metadata": {},
     "output_type": "execute_result"
    }
   ],
   "source": [
    "pred_test.shape"
   ]
  },
  {
   "cell_type": "code",
   "execution_count": 66,
   "id": "7c4c3a4f",
   "metadata": {},
   "outputs": [],
   "source": [
    "pred = np.argmax(pred_test, axis=1)"
   ]
  },
  {
   "cell_type": "code",
   "execution_count": 67,
   "id": "fd411d11",
   "metadata": {},
   "outputs": [
    {
     "data": {
      "text/plain": [
       "(43576,)"
      ]
     },
     "execution_count": 67,
     "metadata": {},
     "output_type": "execute_result"
    }
   ],
   "source": [
    "pred.shape"
   ]
  },
  {
   "cell_type": "markdown",
   "id": "acd78646",
   "metadata": {},
   "source": [
    "# Submission"
   ]
  },
  {
   "cell_type": "code",
   "execution_count": 68,
   "id": "f2b85fed",
   "metadata": {},
   "outputs": [],
   "source": [
    "sample_submission = pd.read_csv('./submission/sample_submission.csv')"
   ]
  },
  {
   "cell_type": "code",
   "execution_count": 69,
   "id": "162eb2ee",
   "metadata": {},
   "outputs": [],
   "source": [
    "sample_submission['label'] = pred\n",
    "sample_submission.to_csv('./submission/att_lstm_{}.csv'.format(version), index=False)"
   ]
  },
  {
   "cell_type": "code",
   "execution_count": 70,
   "id": "07f98092",
   "metadata": {},
   "outputs": [
    {
     "data": {
      "text/plain": [
       "0     38198\n",
       "19      601\n",
       "24      501\n",
       "14      437\n",
       "5       366\n",
       "36      344\n",
       "1       276\n",
       "31      252\n",
       "29      234\n",
       "18      226\n",
       "23      220\n",
       "45      175\n",
       "28      155\n",
       "13      152\n",
       "27      141\n",
       "40      119\n",
       "16      112\n",
       "34       98\n",
       "33       87\n",
       "21       78\n",
       "8        75\n",
       "15       74\n",
       "10       72\n",
       "43       67\n",
       "35       63\n",
       "30       55\n",
       "12       51\n",
       "2        48\n",
       "37       41\n",
       "20       40\n",
       "25       33\n",
       "39       30\n",
       "7        30\n",
       "9        22\n",
       "32       19\n",
       "11       17\n",
       "22       16\n",
       "38       12\n",
       "3        12\n",
       "6        11\n",
       "44        8\n",
       "4         7\n",
       "41        1\n",
       "Name: label, dtype: int64"
      ]
     },
     "execution_count": 70,
     "metadata": {},
     "output_type": "execute_result"
    }
   ],
   "source": [
    "sample_submission['label'].value_counts()"
   ]
  },
  {
   "cell_type": "code",
   "execution_count": null,
   "id": "d26cd5ea",
   "metadata": {},
   "outputs": [],
   "source": []
  }
 ],
 "metadata": {
  "kernelspec": {
   "display_name": "Python 3",
   "language": "python",
   "name": "python3"
  },
  "language_info": {
   "codemirror_mode": {
    "name": "ipython",
    "version": 3
   },
   "file_extension": ".py",
   "mimetype": "text/x-python",
   "name": "python",
   "nbconvert_exporter": "python",
   "pygments_lexer": "ipython3",
   "version": "3.7.10"
  }
 },
 "nbformat": 4,
 "nbformat_minor": 5
}
