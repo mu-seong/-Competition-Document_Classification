{
 "cells": [
  {
   "cell_type": "code",
   "execution_count": 1,
   "id": "5dd642d1",
   "metadata": {},
   "outputs": [
    {
     "name": "stderr",
     "output_type": "stream",
     "text": [
      "Using TensorFlow backend.\n"
     ]
    }
   ],
   "source": [
    "import pandas as pd\n",
    "import numpy as np\n",
    "from keras.preprocessing.text import Tokenizer, text_to_word_sequence\n",
    "from keras.engine.topology import Layer\n",
    "from keras import initializers as initializers, regularizers, constraints\n",
    "from keras.callbacks import Callback, ModelCheckpoint\n",
    "#from keras.utils.np_utils import to_categorical\n",
    "from keras.layers import Embedding, Input, Dense, Conv1D, Dropout, Concatenate, Flatten, MaxPooling1D, Reshape, Bidirectional, GRU, LSTM, TimeDistributed\n",
    "from keras import backend as K\n",
    "from keras import optimizers\n",
    "from keras.models import Model, load_model, save_model, Sequential\n",
    "import nltk\n",
    "import re\n",
    "import matplotlib.pyplot as plt\n",
    "#import sys\n",
    "#from sklearn.metrics import roc_auc_score\n",
    "from nltk import tokenize\n",
    "import seaborn as sns\n",
    "\n",
    "from konlpy.tag import Mecab\n",
    "import pickle as pkl\n",
    "from tqdm import tqdm\n",
    "#from sklearn import preprocessing\n",
    "\n",
    "import warnings\n",
    "warnings.filterwarnings('ignore')\n",
    "\n",
    "from sklearn.model_selection import train_test_split"
   ]
  },
  {
   "cell_type": "code",
   "execution_count": null,
   "id": "107e0fa0",
   "metadata": {},
   "outputs": [],
   "source": []
  },
  {
   "cell_type": "code",
   "execution_count": 2,
   "id": "cfaee125",
   "metadata": {},
   "outputs": [],
   "source": [
    "train = pd.read_csv('./data/train.csv')"
   ]
  },
  {
   "cell_type": "code",
   "execution_count": 3,
   "id": "14a6f9f0",
   "metadata": {},
   "outputs": [
    {
     "data": {
      "text/html": [
       "<div>\n",
       "<style scoped>\n",
       "    .dataframe tbody tr th:only-of-type {\n",
       "        vertical-align: middle;\n",
       "    }\n",
       "\n",
       "    .dataframe tbody tr th {\n",
       "        vertical-align: top;\n",
       "    }\n",
       "\n",
       "    .dataframe thead th {\n",
       "        text-align: right;\n",
       "    }\n",
       "</style>\n",
       "<table border=\"1\" class=\"dataframe\">\n",
       "  <thead>\n",
       "    <tr style=\"text-align: right;\">\n",
       "      <th></th>\n",
       "      <th>index</th>\n",
       "      <th>제출년도</th>\n",
       "      <th>사업명</th>\n",
       "      <th>사업_부처명</th>\n",
       "      <th>계속과제여부</th>\n",
       "      <th>내역사업명</th>\n",
       "      <th>과제명</th>\n",
       "      <th>요약문_연구목표</th>\n",
       "      <th>요약문_연구내용</th>\n",
       "      <th>요약문_기대효과</th>\n",
       "      <th>요약문_한글키워드</th>\n",
       "      <th>요약문_영문키워드</th>\n",
       "      <th>label</th>\n",
       "    </tr>\n",
       "  </thead>\n",
       "  <tbody>\n",
       "    <tr>\n",
       "      <th>0</th>\n",
       "      <td>0</td>\n",
       "      <td>2016</td>\n",
       "      <td>농업기초기반연구</td>\n",
       "      <td>농촌진흥청</td>\n",
       "      <td>신규</td>\n",
       "      <td>농산물안전성연구</td>\n",
       "      <td>유전정보를 활용한 새로운 해충 분류군 동정기술 개발</td>\n",
       "      <td>○ 새로운 해충분류군의 동정기술 개발 및 유입확산 추적</td>\n",
       "      <td>(가) 외래 및 돌발해충의 발생조사 및 종 동정\\n\\n\\n    ○ 대상해충 : 최...</td>\n",
       "      <td>○ 새로운 돌발 및 외래해충의 신속, 정확한 동정법 향상\\n\\n\\n○ 돌발 및 외래...</td>\n",
       "      <td>뉴클레오티드 염기서열, 분자마커, 종 동정, 침샘, 전사체</td>\n",
       "      <td>nucleotide sequence, molecular marker, species...</td>\n",
       "      <td>24</td>\n",
       "    </tr>\n",
       "    <tr>\n",
       "      <th>1</th>\n",
       "      <td>1</td>\n",
       "      <td>2019</td>\n",
       "      <td>이공학학술연구기반구축(R&amp;D)</td>\n",
       "      <td>교육부</td>\n",
       "      <td>신규</td>\n",
       "      <td>지역대학우수과학자지원사업(1년~5년)</td>\n",
       "      <td>대장암의 TRAIL 내성 표적 인자 발굴 및 TRAIL 반응 예측 유전자 지도 구축...</td>\n",
       "      <td>최종목표:  TRAIL 감수성 표적 유전자를 발굴하고 내성제어 기전을 연구. 발굴된...</td>\n",
       "      <td>1차년도\\n1) Microarray를 통한 선천적 TRAIL 내성 표적 후보 유전자...</td>\n",
       "      <td>1) TRAIL 내성 특이적 표적분자를 발굴하고, 이를 이용한 TRAIL 효과 증진...</td>\n",
       "      <td>대장암,항암제 내성,세포사멸,유전자발굴</td>\n",
       "      <td>TRAIL,Colorectal cancer,TRAIL resistance,Apopt...</td>\n",
       "      <td>0</td>\n",
       "    </tr>\n",
       "    <tr>\n",
       "      <th>2</th>\n",
       "      <td>2</td>\n",
       "      <td>2016</td>\n",
       "      <td>중소기업기술혁신개발</td>\n",
       "      <td>중소기업청</td>\n",
       "      <td>신규</td>\n",
       "      <td>혁신기업기술개발</td>\n",
       "      <td>비목질계 셀룰로오스 식물자원을 활용한 기능성 부직포 및 고부가가치 뷰티케어 faci...</td>\n",
       "      <td>* 식물계자원 정련 및 최적 신서란 파이버 기초연구 개발\\n\\n\\n* 소비자 및 바...</td>\n",
       "      <td>* 식물계자원 정련 및 최적 신서란 파이버 기초연구 개발\\n\\n\\n- Tencel/...</td>\n",
       "      <td>* 국내 독자적인 비목질계 셀룰로오스 자원의 파이버 및 부직포 제조 등의 기술 확보...</td>\n",
       "      <td>기능성 샐룰로오스 파이버,천연섬유,기능성 부직포,뷰티&amp;amp;케어 제품,미용 솜</td>\n",
       "      <td>functional cellulose fiber,natural fiber,funct...</td>\n",
       "      <td>0</td>\n",
       "    </tr>\n",
       "    <tr>\n",
       "      <th>3</th>\n",
       "      <td>3</td>\n",
       "      <td>2018</td>\n",
       "      <td>창업성장기술개발(R&amp;D)</td>\n",
       "      <td>중소벤처기업부</td>\n",
       "      <td>신규</td>\n",
       "      <td>창업사업화연계과제</td>\n",
       "      <td>소화기 암 진단용 분자영상 형광프로브 개발</td>\n",
       "      <td>#  암특이적 바이오마커 발굴 및 바이오마커에 대한 프로브 개발\\n\\n\\n1) 소화...</td>\n",
       "      <td># 소화기 암 진단용 분자영상 형광프로브 개발\\n\\n\\n- 국소 도포형 소화기 암 ...</td>\n",
       "      <td># 암 진단기술의 차별성: 소화기 암 특이 프로브 개발\\n\\n\\n- 최근 체외진단시...</td>\n",
       "      <td>분자 진단,형광 조영제,프로브,항체,대장암</td>\n",
       "      <td>Molecular diagnosis,Fluorescence,probe,antibod...</td>\n",
       "      <td>0</td>\n",
       "    </tr>\n",
       "    <tr>\n",
       "      <th>4</th>\n",
       "      <td>4</td>\n",
       "      <td>2016</td>\n",
       "      <td>이공학개인기초연구지원</td>\n",
       "      <td>교육부</td>\n",
       "      <td>계속</td>\n",
       "      <td>기본연구지원</td>\n",
       "      <td>위암환자의 항암제반응예측을 위한 BRCA 발현검사</td>\n",
       "      <td>수술이 불가능한 위암환자는 생존기간은 10개월 안팎에 지나지 않고, 항암화학요법에 ...</td>\n",
       "      <td>-In situ hybridization 검사의 정확성을 확인하기 위해 위암세포주 ...</td>\n",
       "      <td>-본 연구는 파라핀보관조직에서 in situ hybridization로 mRNA 및...</td>\n",
       "      <td>BRCA,제자리부합법,조직미세배열,마이크로RNA,위암,항암제반응,젊은 연령/가족성 위암</td>\n",
       "      <td>BRCA,Insituhybridization,tissuemicroarray,micr...</td>\n",
       "      <td>0</td>\n",
       "    </tr>\n",
       "    <tr>\n",
       "      <th>...</th>\n",
       "      <td>...</td>\n",
       "      <td>...</td>\n",
       "      <td>...</td>\n",
       "      <td>...</td>\n",
       "      <td>...</td>\n",
       "      <td>...</td>\n",
       "      <td>...</td>\n",
       "      <td>...</td>\n",
       "      <td>...</td>\n",
       "      <td>...</td>\n",
       "      <td>...</td>\n",
       "      <td>...</td>\n",
       "      <td>...</td>\n",
       "    </tr>\n",
       "    <tr>\n",
       "      <th>174299</th>\n",
       "      <td>174299</td>\n",
       "      <td>2016</td>\n",
       "      <td>개인연구지원</td>\n",
       "      <td>미래창조과학부</td>\n",
       "      <td>신규</td>\n",
       "      <td>중견연구</td>\n",
       "      <td>혈관내막 증식을 치료하기 위한 표적분자 발굴</td>\n",
       "      <td>증식성 혈관질환과 염증반응과의 관련성이 높으나, 혈관평활근세포의 탈분화를 유도하는 ...</td>\n",
       "      <td>● 1차년: 혈관내막 증식과 관련된 표적분자 발굴 및 염증세포의 활성과 분화에 대한...</td>\n",
       "      <td>심혈관 질환 발생의 새로운 기전 규명뿐만 아니라  제어할 수 있는 새로운 방법을 탐...</td>\n",
       "      <td>혈관내막 증식,혈관 개조,혈관평활근세포,염증세포,혈관염증,혈관평활근세포 탈분화,표적분자</td>\n",
       "      <td>Intimahyperplasia,Vascularremodeling,Vasculars...</td>\n",
       "      <td>0</td>\n",
       "    </tr>\n",
       "    <tr>\n",
       "      <th>174300</th>\n",
       "      <td>174300</td>\n",
       "      <td>2016</td>\n",
       "      <td>개인연구지원</td>\n",
       "      <td>미래창조과학부</td>\n",
       "      <td>신규</td>\n",
       "      <td>중견연구</td>\n",
       "      <td>삼킴곤란 개선을 위한 물성조절 식품시스템에서의 유동층과립 복합소재의 유변물성 변화 ...</td>\n",
       "      <td>삼킴곤란을 겪고 있는 고령자의 안전한 식품섭취는 삼킴에 적합한 유변물성을 가진 물성...</td>\n",
       "      <td>본 연구에서는 여러 가지 유변물성 측정기술을 이용하여 고령자의 삼킴곤란 개선을 위해...</td>\n",
       "      <td>○ 그 동안 연구되지 않은 다양한 물성조절 검복합 소재의 과립제형 및 유변물성 연구...</td>\n",
       "      <td>삼킴곤란,유변물성,유동층과립,물리적 특성,검복합물</td>\n",
       "      <td>Swallowingdifficulty,Rheologicalproperty,Fludi...</td>\n",
       "      <td>0</td>\n",
       "    </tr>\n",
       "    <tr>\n",
       "      <th>174301</th>\n",
       "      <td>174301</td>\n",
       "      <td>2018</td>\n",
       "      <td>이공학학술연구기반구축(R&amp;D)</td>\n",
       "      <td>교육부</td>\n",
       "      <td>계속</td>\n",
       "      <td>이공분야학문후속세대양성_대통령POST_DOC펠로우쉽</td>\n",
       "      <td>식물 유전체 정보 고도화 및 핵심 유전자 군 진화연구</td>\n",
       "      <td>지난 10년여 동안 100여종에 대한 식물 유전체 정보가 완성되어 공개되었지만, 애...</td>\n",
       "      <td>○ 공개된 식물 유전체 정보 및 대상 유전자 군 선발\\n\\n   - 공개된 식물 유...</td>\n",
       "      <td>- 본 과제에서 개발한 annotation tool은 유전체 고도화 부분에서 가장 ...</td>\n",
       "      <td>유전자 정보 고도화,대상 유전자 군 재분석,비교 유전체 진화 분석,공개 식물 유전체...</td>\n",
       "      <td>Gene model improvement,Target gene family re-a...</td>\n",
       "      <td>0</td>\n",
       "    </tr>\n",
       "    <tr>\n",
       "      <th>174302</th>\n",
       "      <td>174302</td>\n",
       "      <td>2019</td>\n",
       "      <td>수요자맞춤형육종자원대량신속발굴기술개발(R&amp;D)</td>\n",
       "      <td>농촌진흥청</td>\n",
       "      <td>신규</td>\n",
       "      <td>유용형질 대량 특성평가를 통한 육종모본 발굴</td>\n",
       "      <td>콩 유전자원 내건성, 내습성 대량평가 체계구축 및 자원선발</td>\n",
       "      <td>1) 내건 및 내습성 유전자원 수집\\n\\n2) 내건성 자원평가 체계구축\\n\\n3) ...</td>\n",
       "      <td>[1차 년도(2019)] \\n\\n1) 내건 및 내습성 유전자원 수집\\n\\n○ 기존 ...</td>\n",
       "      <td>○ 내건성 및 내습성 특성평가 체계구축 및 우수자원 발굴로 내재해성 콩 품종육성 자...</td>\n",
       "      <td>콩, 가공적성, 병 저항성, 내재해성, 콩모자이크바이러스</td>\n",
       "      <td>soybean, food application, resistance, biotic-...</td>\n",
       "      <td>23</td>\n",
       "    </tr>\n",
       "    <tr>\n",
       "      <th>174303</th>\n",
       "      <td>174303</td>\n",
       "      <td>2019</td>\n",
       "      <td>이공학학술연구기반구축(R&amp;D)</td>\n",
       "      <td>교육부</td>\n",
       "      <td>신규</td>\n",
       "      <td>이공분야학문후속세대양성_박사후국내연수</td>\n",
       "      <td>광학적 위상 제어 기법을 적용한 디지털 홀로그래피 현미경 시스템 개발</td>\n",
       "      <td>본 연구의 목적은 이터븀이 도핑된 특수 광섬유를 이용하여 광학적인 방법으로 위상(P...</td>\n",
       "      <td>◦ 1차년도 연구개발 내용\\n   : 광섬유 비선형 굴절률 변화 효과를 이용한 광학...</td>\n",
       "      <td>본 연구를 통해 확보하고자 하는 안정적으로 위상 특성 제어를 통해 DHM 시스템을 ...</td>\n",
       "      <td>광섬유,위상장금,위상이동,간섭계,디지털홀로그래피,비축,복원,이터듐</td>\n",
       "      <td>fiber,phase locking,phase shift,interferometer...</td>\n",
       "      <td>0</td>\n",
       "    </tr>\n",
       "  </tbody>\n",
       "</table>\n",
       "<p>174304 rows × 13 columns</p>\n",
       "</div>"
      ],
      "text/plain": [
       "         index  제출년도                        사업명   사업_부처명 계속과제여부  \\\n",
       "0            0  2016                   농업기초기반연구    농촌진흥청     신규   \n",
       "1            1  2019           이공학학술연구기반구축(R&D)      교육부     신규   \n",
       "2            2  2016                 중소기업기술혁신개발    중소기업청     신규   \n",
       "3            3  2018              창업성장기술개발(R&D)  중소벤처기업부     신규   \n",
       "4            4  2016                이공학개인기초연구지원      교육부     계속   \n",
       "...        ...   ...                        ...      ...    ...   \n",
       "174299  174299  2016                     개인연구지원  미래창조과학부     신규   \n",
       "174300  174300  2016                     개인연구지원  미래창조과학부     신규   \n",
       "174301  174301  2018           이공학학술연구기반구축(R&D)      교육부     계속   \n",
       "174302  174302  2019  수요자맞춤형육종자원대량신속발굴기술개발(R&D)    농촌진흥청     신규   \n",
       "174303  174303  2019           이공학학술연구기반구축(R&D)      교육부     신규   \n",
       "\n",
       "                               내역사업명  \\\n",
       "0                           농산물안전성연구   \n",
       "1               지역대학우수과학자지원사업(1년~5년)   \n",
       "2                           혁신기업기술개발   \n",
       "3                          창업사업화연계과제   \n",
       "4                             기본연구지원   \n",
       "...                              ...   \n",
       "174299                          중견연구   \n",
       "174300                          중견연구   \n",
       "174301  이공분야학문후속세대양성_대통령POST_DOC펠로우쉽   \n",
       "174302      유용형질 대량 특성평가를 통한 육종모본 발굴   \n",
       "174303          이공분야학문후속세대양성_박사후국내연수   \n",
       "\n",
       "                                                      과제명  \\\n",
       "0                            유전정보를 활용한 새로운 해충 분류군 동정기술 개발   \n",
       "1       대장암의 TRAIL 내성 표적 인자 발굴 및 TRAIL 반응 예측 유전자 지도 구축...   \n",
       "2       비목질계 셀룰로오스 식물자원을 활용한 기능성 부직포 및 고부가가치 뷰티케어 faci...   \n",
       "3                                 소화기 암 진단용 분자영상 형광프로브 개발   \n",
       "4                             위암환자의 항암제반응예측을 위한 BRCA 발현검사   \n",
       "...                                                   ...   \n",
       "174299                           혈관내막 증식을 치료하기 위한 표적분자 발굴   \n",
       "174300  삼킴곤란 개선을 위한 물성조절 식품시스템에서의 유동층과립 복합소재의 유변물성 변화 ...   \n",
       "174301                      식물 유전체 정보 고도화 및 핵심 유전자 군 진화연구   \n",
       "174302                   콩 유전자원 내건성, 내습성 대량평가 체계구축 및 자원선발   \n",
       "174303             광학적 위상 제어 기법을 적용한 디지털 홀로그래피 현미경 시스템 개발   \n",
       "\n",
       "                                                 요약문_연구목표  \\\n",
       "0                          ○ 새로운 해충분류군의 동정기술 개발 및 유입확산 추적   \n",
       "1       최종목표:  TRAIL 감수성 표적 유전자를 발굴하고 내성제어 기전을 연구. 발굴된...   \n",
       "2       * 식물계자원 정련 및 최적 신서란 파이버 기초연구 개발\\n\\n\\n* 소비자 및 바...   \n",
       "3       #  암특이적 바이오마커 발굴 및 바이오마커에 대한 프로브 개발\\n\\n\\n1) 소화...   \n",
       "4       수술이 불가능한 위암환자는 생존기간은 10개월 안팎에 지나지 않고, 항암화학요법에 ...   \n",
       "...                                                   ...   \n",
       "174299  증식성 혈관질환과 염증반응과의 관련성이 높으나, 혈관평활근세포의 탈분화를 유도하는 ...   \n",
       "174300  삼킴곤란을 겪고 있는 고령자의 안전한 식품섭취는 삼킴에 적합한 유변물성을 가진 물성...   \n",
       "174301  지난 10년여 동안 100여종에 대한 식물 유전체 정보가 완성되어 공개되었지만, 애...   \n",
       "174302  1) 내건 및 내습성 유전자원 수집\\n\\n2) 내건성 자원평가 체계구축\\n\\n3) ...   \n",
       "174303  본 연구의 목적은 이터븀이 도핑된 특수 광섬유를 이용하여 광학적인 방법으로 위상(P...   \n",
       "\n",
       "                                                 요약문_연구내용  \\\n",
       "0       (가) 외래 및 돌발해충의 발생조사 및 종 동정\\n\\n\\n    ○ 대상해충 : 최...   \n",
       "1       1차년도\\n1) Microarray를 통한 선천적 TRAIL 내성 표적 후보 유전자...   \n",
       "2       * 식물계자원 정련 및 최적 신서란 파이버 기초연구 개발\\n\\n\\n- Tencel/...   \n",
       "3       # 소화기 암 진단용 분자영상 형광프로브 개발\\n\\n\\n- 국소 도포형 소화기 암 ...   \n",
       "4       -In situ hybridization 검사의 정확성을 확인하기 위해 위암세포주 ...   \n",
       "...                                                   ...   \n",
       "174299  ● 1차년: 혈관내막 증식과 관련된 표적분자 발굴 및 염증세포의 활성과 분화에 대한...   \n",
       "174300  본 연구에서는 여러 가지 유변물성 측정기술을 이용하여 고령자의 삼킴곤란 개선을 위해...   \n",
       "174301  ○ 공개된 식물 유전체 정보 및 대상 유전자 군 선발\\n\\n   - 공개된 식물 유...   \n",
       "174302  [1차 년도(2019)] \\n\\n1) 내건 및 내습성 유전자원 수집\\n\\n○ 기존 ...   \n",
       "174303  ◦ 1차년도 연구개발 내용\\n   : 광섬유 비선형 굴절률 변화 효과를 이용한 광학...   \n",
       "\n",
       "                                                 요약문_기대효과  \\\n",
       "0       ○ 새로운 돌발 및 외래해충의 신속, 정확한 동정법 향상\\n\\n\\n○ 돌발 및 외래...   \n",
       "1       1) TRAIL 내성 특이적 표적분자를 발굴하고, 이를 이용한 TRAIL 효과 증진...   \n",
       "2       * 국내 독자적인 비목질계 셀룰로오스 자원의 파이버 및 부직포 제조 등의 기술 확보...   \n",
       "3       # 암 진단기술의 차별성: 소화기 암 특이 프로브 개발\\n\\n\\n- 최근 체외진단시...   \n",
       "4       -본 연구는 파라핀보관조직에서 in situ hybridization로 mRNA 및...   \n",
       "...                                                   ...   \n",
       "174299  심혈관 질환 발생의 새로운 기전 규명뿐만 아니라  제어할 수 있는 새로운 방법을 탐...   \n",
       "174300  ○ 그 동안 연구되지 않은 다양한 물성조절 검복합 소재의 과립제형 및 유변물성 연구...   \n",
       "174301  - 본 과제에서 개발한 annotation tool은 유전체 고도화 부분에서 가장 ...   \n",
       "174302  ○ 내건성 및 내습성 특성평가 체계구축 및 우수자원 발굴로 내재해성 콩 품종육성 자...   \n",
       "174303  본 연구를 통해 확보하고자 하는 안정적으로 위상 특성 제어를 통해 DHM 시스템을 ...   \n",
       "\n",
       "                                                요약문_한글키워드  \\\n",
       "0                        뉴클레오티드 염기서열, 분자마커, 종 동정, 침샘, 전사체   \n",
       "1                                   대장암,항암제 내성,세포사멸,유전자발굴   \n",
       "2            기능성 샐룰로오스 파이버,천연섬유,기능성 부직포,뷰티&amp;케어 제품,미용 솜   \n",
       "3                                 분자 진단,형광 조영제,프로브,항체,대장암   \n",
       "4        BRCA,제자리부합법,조직미세배열,마이크로RNA,위암,항암제반응,젊은 연령/가족성 위암   \n",
       "...                                                   ...   \n",
       "174299   혈관내막 증식,혈관 개조,혈관평활근세포,염증세포,혈관염증,혈관평활근세포 탈분화,표적분자   \n",
       "174300                        삼킴곤란,유변물성,유동층과립,물리적 특성,검복합물   \n",
       "174301  유전자 정보 고도화,대상 유전자 군 재분석,비교 유전체 진화 분석,공개 식물 유전체...   \n",
       "174302                    콩, 가공적성, 병 저항성, 내재해성, 콩모자이크바이러스   \n",
       "174303               광섬유,위상장금,위상이동,간섭계,디지털홀로그래피,비축,복원,이터듐   \n",
       "\n",
       "                                                요약문_영문키워드  label  \n",
       "0       nucleotide sequence, molecular marker, species...     24  \n",
       "1       TRAIL,Colorectal cancer,TRAIL resistance,Apopt...      0  \n",
       "2       functional cellulose fiber,natural fiber,funct...      0  \n",
       "3       Molecular diagnosis,Fluorescence,probe,antibod...      0  \n",
       "4       BRCA,Insituhybridization,tissuemicroarray,micr...      0  \n",
       "...                                                   ...    ...  \n",
       "174299  Intimahyperplasia,Vascularremodeling,Vasculars...      0  \n",
       "174300  Swallowingdifficulty,Rheologicalproperty,Fludi...      0  \n",
       "174301  Gene model improvement,Target gene family re-a...      0  \n",
       "174302  soybean, food application, resistance, biotic-...     23  \n",
       "174303  fiber,phase locking,phase shift,interferometer...      0  \n",
       "\n",
       "[174304 rows x 13 columns]"
      ]
     },
     "execution_count": 3,
     "metadata": {},
     "output_type": "execute_result"
    }
   ],
   "source": [
    "train\n",
    "# 과제명 -> title    요약문_연구내용 -> content     요약문_한글 키워드 -> keyword"
   ]
  },
  {
   "cell_type": "code",
   "execution_count": null,
   "id": "bd4a7899",
   "metadata": {},
   "outputs": [],
   "source": []
  },
  {
   "cell_type": "code",
   "execution_count": 4,
   "id": "e80973be",
   "metadata": {},
   "outputs": [],
   "source": [
    "def text_preprocessing(text_list):\n",
    "    \n",
    "    stopwords = ['을', '를', '이', '가', '은', '는', 'null'] #불용어 설정\n",
    "    tokenizer = Mecab(dicpath=r'C:\\mecab\\mecab-ko-dic') #형태소 분석기 \n",
    "    token_list = []\n",
    "    \n",
    "    for text in tqdm(text_list):\n",
    "        token = tokenizer.morphs(text) #형태소 분석\n",
    "        token = [t for t in token if t not in stopwords or type(t) != float] #형태소 분석 결과 중 stopwords에 해당하지 않는 것만 추출\n",
    "        token_list.append(token)\n",
    "        \n",
    "    return token_list"
   ]
  },
  {
   "cell_type": "code",
   "execution_count": 5,
   "id": "76537210",
   "metadata": {},
   "outputs": [
    {
     "data": {
      "text/plain": [
       "index           0\n",
       "제출년도            0\n",
       "사업명             0\n",
       "사업_부처명          0\n",
       "계속과제여부          0\n",
       "내역사업명           0\n",
       "과제명             0\n",
       "요약문_연구목표     3002\n",
       "요약문_연구내용     3001\n",
       "요약문_기대효과     3051\n",
       "요약문_한글키워드    3028\n",
       "요약문_영문키워드    3087\n",
       "label           0\n",
       "dtype: int64"
      ]
     },
     "execution_count": 5,
     "metadata": {},
     "output_type": "execute_result"
    }
   ],
   "source": [
    "train.isnull().sum()"
   ]
  },
  {
   "cell_type": "code",
   "execution_count": 7,
   "id": "bba91e21",
   "metadata": {},
   "outputs": [
    {
     "data": {
      "text/plain": [
       "index        0\n",
       "제출년도         0\n",
       "사업명          0\n",
       "사업_부처명       0\n",
       "계속과제여부       0\n",
       "내역사업명        0\n",
       "과제명          0\n",
       "요약문_연구목표     0\n",
       "요약문_연구내용     0\n",
       "요약문_기대효과     0\n",
       "요약문_한글키워드    0\n",
       "요약문_영문키워드    0\n",
       "label        0\n",
       "dtype: int64"
      ]
     },
     "execution_count": 7,
     "metadata": {},
     "output_type": "execute_result"
    }
   ],
   "source": [
    "train = train.fillna('na')\n",
    "train.isnull().sum()"
   ]
  },
  {
   "cell_type": "code",
   "execution_count": 8,
   "id": "9f765977",
   "metadata": {
    "scrolled": true
   },
   "outputs": [
    {
     "name": "stderr",
     "output_type": "stream",
     "text": [
      "100%|███████████████████████████████████████████████████████████████████████| 174304/174304 [00:07<00:00, 24871.42it/s]\n",
      "100%|████████████████████████████████████████████████████████████████████████| 174304/174304 [01:41<00:00, 1713.07it/s]\n",
      "100%|███████████████████████████████████████████████████████████████████████| 174304/174304 [00:07<00:00, 24834.03it/s]\n"
     ]
    }
   ],
   "source": [
    "train['tokenized_title'] = text_preprocessing(train['과제명'])\n",
    "train['tokenized_content'] = text_preprocessing(train['요약문_연구내용'])\n",
    "train['tokenized_keyword'] = text_preprocessing(train['요약문_한글키워드'])\n",
    "\n",
    "train.tokenized_title = train.tokenized_title.apply(lambda x: ' '.join(x))\n",
    "train.tokenized_content = train.tokenized_content.apply(lambda x: ' '.join(x))\n",
    "train.tokenized_keyword = train.tokenized_keyword.apply(lambda x: ' '.join(x))"
   ]
  },
  {
   "cell_type": "code",
   "execution_count": 9,
   "id": "b70dfd1a",
   "metadata": {
    "scrolled": true
   },
   "outputs": [],
   "source": [
    "train['tokenized_title_len'] = train['tokenized_title'].apply(lambda x: len(x))\n",
    "train['tokenized_content_len'] = train['tokenized_content'].apply(lambda x: len(x))\n",
    "train['tokenized_keyword_len'] = train['tokenized_keyword'].apply(lambda x: len(x))"
   ]
  },
  {
   "cell_type": "code",
   "execution_count": 10,
   "id": "4405a141",
   "metadata": {},
   "outputs": [
    {
     "data": {
      "text/plain": [
       "<AxesSubplot:xlabel='tokenized_title_len', ylabel='Density'>"
      ]
     },
     "execution_count": 10,
     "metadata": {},
     "output_type": "execute_result"
    },
    {
     "data": {
      "image/png": "[encoded data removed]",
      "text/plain": [
       "<Figure size 720x360 with 1 Axes>"
      ]
     },
     "metadata": {
      "needs_background": "light"
     },
     "output_type": "display_data"
    }
   ],
   "source": [
    "plt.figure(figsize=(10, 5))\n",
    "sns.distplot(train['tokenized_title_len'], color='r')"
   ]
  },
  {
   "cell_type": "code",
   "execution_count": 11,
   "id": "6ca8f0d8",
   "metadata": {},
   "outputs": [
    {
     "data": {
      "text/plain": [
       "count    174304.000000\n",
       "mean         41.825695\n",
       "std          17.751998\n",
       "min           2.000000\n",
       "25%          30.000000\n",
       "50%          39.000000\n",
       "75%          51.000000\n",
       "max         232.000000\n",
       "Name: tokenized_title_len, dtype: float64"
      ]
     },
     "execution_count": 11,
     "metadata": {},
     "output_type": "execute_result"
    }
   ],
   "source": [
    "train['tokenized_title_len'].describe()"
   ]
  },
  {
   "cell_type": "code",
   "execution_count": 12,
   "id": "8b53ac98",
   "metadata": {},
   "outputs": [
    {
     "data": {
      "text/plain": [
       "<AxesSubplot:xlabel='tokenized_content_len', ylabel='Density'>"
      ]
     },
     "execution_count": 12,
     "metadata": {},
     "output_type": "execute_result"
    },
    {
     "data": {
      "image/png": "[encoded data removed]",
      "text/plain": [
       "<Figure size 720x360 with 1 Axes>"
      ]
     },
     "metadata": {
      "needs_background": "light"
     },
     "output_type": "display_data"
    }
   ],
   "source": [
    "plt.figure(figsize=(10, 5))\n",
    "sns.distplot(train['tokenized_content_len'], color='r')"
   ]
  },
  {
   "cell_type": "code",
   "execution_count": 13,
   "id": "03fc4793",
   "metadata": {},
   "outputs": [
    {
     "data": {
      "text/plain": [
       "count    174304.000000\n",
       "mean        789.124868\n",
       "std         541.200253\n",
       "min           1.000000\n",
       "25%         366.000000\n",
       "50%         672.000000\n",
       "75%        1092.000000\n",
       "max        4705.000000\n",
       "Name: tokenized_content_len, dtype: float64"
      ]
     },
     "execution_count": 13,
     "metadata": {},
     "output_type": "execute_result"
    }
   ],
   "source": [
    "train['tokenized_content_len'].describe()"
   ]
  },
  {
   "cell_type": "code",
   "execution_count": 14,
   "id": "ee713169",
   "metadata": {
    "scrolled": true
   },
   "outputs": [
    {
     "data": {
      "text/plain": [
       "<AxesSubplot:xlabel='tokenized_keyword_len', ylabel='Density'>"
      ]
     },
     "execution_count": 14,
     "metadata": {},
     "output_type": "execute_result"
    },
    {
     "data": {
      "image/png": "[encoded data removed]",
      "text/plain": [
       "<Figure size 720x360 with 1 Axes>"
      ]
     },
     "metadata": {
      "needs_background": "light"
     },
     "output_type": "display_data"
    }
   ],
   "source": [
    "plt.figure(figsize=(10, 5))\n",
    "sns.distplot(train['tokenized_keyword_len'], color='r')"
   ]
  },
  {
   "cell_type": "code",
   "execution_count": 15,
   "id": "e817b293",
   "metadata": {},
   "outputs": [
    {
     "data": {
      "text/plain": [
       "count    174304.000000\n",
       "mean         46.053739\n",
       "std          19.889750\n",
       "min           1.000000\n",
       "25%          33.000000\n",
       "50%          43.000000\n",
       "75%          57.000000\n",
       "max         354.000000\n",
       "Name: tokenized_keyword_len, dtype: float64"
      ]
     },
     "execution_count": 15,
     "metadata": {},
     "output_type": "execute_result"
    }
   ],
   "source": [
    "train['tokenized_keyword_len'].describe()"
   ]
  },
  {
   "cell_type": "code",
   "execution_count": null,
   "id": "b1799b1b",
   "metadata": {},
   "outputs": [],
   "source": []
  },
  {
   "cell_type": "code",
   "execution_count": 20,
   "id": "5aaeb9e4",
   "metadata": {},
   "outputs": [],
   "source": [
    "max_features = 200000\n",
    "max_title_len = 300\n",
    "max_content_len = 1000\n",
    "max_keyword_len = 300\n",
    "embed_size = 100\n",
    "VALIDATION_SPLIT = 0.4\n",
    "version = 'v2'"
   ]
  },
  {
   "cell_type": "code",
   "execution_count": null,
   "id": "9a6dea61",
   "metadata": {},
   "outputs": [],
   "source": []
  },
  {
   "cell_type": "code",
   "execution_count": 19,
   "id": "fc4702c2",
   "metadata": {
    "id": "E_ZTsFCvAK8l"
   },
   "outputs": [],
   "source": [
    "train['doc'] = train['tokenized_title'] +'. '+ train['tokenized_content'] +'. '+ train['tokenized_keyword']"
   ]
  },
  {
   "cell_type": "code",
   "execution_count": null,
   "id": "990349f5",
   "metadata": {},
   "outputs": [],
   "source": []
  },
  {
   "cell_type": "code",
   "execution_count": 21,
   "id": "57dba021",
   "metadata": {
    "id": "GqGUGUISAK8p"
   },
   "outputs": [],
   "source": [
    "tokenizer = Tokenizer(num_words=max_features, oov_token=True)\n",
    "tokenizer.fit_on_texts(train['doc'])"
   ]
  },
  {
   "cell_type": "code",
   "execution_count": 22,
   "id": "29fd5e9b",
   "metadata": {
    "id": "kMc5pmHvAK8p"
   },
   "outputs": [],
   "source": [
    "with open('./tokenizer/{}_tokenizer.pkl'.format(version),'wb') as f:\n",
    "    pkl.dump(tokenizer, f, protocol=pkl.HIGHEST_PROTOCOL)"
   ]
  },
  {
   "cell_type": "code",
   "execution_count": 21,
   "id": "36e7b9df",
   "metadata": {
    "id": "5soQKiVEAK8p"
   },
   "outputs": [],
   "source": []
  },
  {
   "cell_type": "code",
   "execution_count": 23,
   "id": "aedc7fcd",
   "metadata": {
    "id": "w-CZIk53AK8r"
   },
   "outputs": [
    {
     "name": "stderr",
     "output_type": "stream",
     "text": [
      "174304it [00:02, 61295.61it/s]\n"
     ]
    }
   ],
   "source": [
    "data_title = np.zeros((len(train['tokenized_title']), max_title_len), dtype='int32')\n",
    "\n",
    "for i, doc in tqdm(enumerate(train['tokenized_title'])):\n",
    "    wordTokens = text_to_word_sequence(doc)\n",
    "    k=0\n",
    "    for _, word in enumerate(wordTokens):\n",
    "        if k < max_title_len and tokenizer.word_index[word] < max_features:\n",
    "            data_title[i,k] = tokenizer.word_index[word]\n",
    "            k = k+1"
   ]
  },
  {
   "cell_type": "code",
   "execution_count": 24,
   "id": "fecf7d74",
   "metadata": {
    "colab": {
     "base_uri": "https://localhost:8080/",
     "height": 121,
     "referenced_widgets": [
      "55b9de0772634208ab5db7610e7a2fae",
      "0cd0b8b07ea84de6a30a30793471b9b3",
      "09282e5b191e469496ee785bc21c5464",
      "514be13a4dfc4a60a15b64f66b234b17",
      "bb2c250123224c3fa3e7b1d73648e81f",
      "2275f0752c364db2b6b668ffbb39cdd3",
      "52f099a75a8542308babf77513581c35",
      "fc3c516cdb5e43d49bf76c2fbe71f5dc"
     ]
    },
    "id": "_znwNsw8AK8r",
    "outputId": "102f535a-db9e-478a-eed4-d5efb014ccda",
    "scrolled": true
   },
   "outputs": [
    {
     "name": "stderr",
     "output_type": "stream",
     "text": [
      "174304it [00:37, 4691.41it/s]\n"
     ]
    }
   ],
   "source": [
    "data_content = np.zeros((len(train['tokenized_content']), max_content_len), dtype='int32')\n",
    "\n",
    "for i, doc in tqdm(enumerate(train['tokenized_content'])):\n",
    "    wordTokens = text_to_word_sequence(doc)\n",
    "    k=0\n",
    "    for _, word in enumerate(wordTokens):\n",
    "        if k < max_content_len and tokenizer.word_index[word] < max_features:\n",
    "            data_content[i,k] = tokenizer.word_index[word]\n",
    "            k = k+1        "
   ]
  },
  {
   "cell_type": "code",
   "execution_count": 26,
   "id": "ce85fa76",
   "metadata": {},
   "outputs": [
    {
     "name": "stderr",
     "output_type": "stream",
     "text": [
      "174304it [00:02, 60692.80it/s]\n"
     ]
    }
   ],
   "source": [
    "data_keyword = np.zeros((len(train['tokenized_keyword']), max_keyword_len), dtype='int32')\n",
    "\n",
    "for i, doc in tqdm(enumerate(train['tokenized_keyword'])):\n",
    "    wordTokens = text_to_word_sequence(doc)\n",
    "    k=0\n",
    "    for _, word in enumerate(wordTokens):\n",
    "        if k < max_content_len and tokenizer.word_index[word] < max_features:\n",
    "            data_keyword[i,k] = tokenizer.word_index[word]\n",
    "            k = k+1        "
   ]
  },
  {
   "cell_type": "code",
   "execution_count": null,
   "id": "52c3bcdd",
   "metadata": {},
   "outputs": [],
   "source": []
  },
  {
   "cell_type": "code",
   "execution_count": 27,
   "id": "560b737a",
   "metadata": {
    "colab": {
     "base_uri": "https://localhost:8080/"
    },
    "id": "6f0_Kt6EAK8u",
    "outputId": "1e3b26f4-e87c-43d2-9b1e-7de4d559df0e"
   },
   "outputs": [
    {
     "name": "stdout",
     "output_type": "stream",
     "text": [
      "Total 161089 unique tokens.\n"
     ]
    }
   ],
   "source": [
    "word_index = tokenizer.word_index\n",
    "print('Total %s unique tokens.' % len(word_index))"
   ]
  },
  {
   "cell_type": "code",
   "execution_count": null,
   "id": "ffd0e32d",
   "metadata": {},
   "outputs": [],
   "source": []
  },
  {
   "cell_type": "code",
   "execution_count": 28,
   "id": "9c0144be",
   "metadata": {},
   "outputs": [
    {
     "name": "stdout",
     "output_type": "stream",
     "text": [
      "Shape of label tensor: (174304, 46)\n"
     ]
    }
   ],
   "source": [
    "Y = pd.get_dummies(train['label']).values\n",
    "print('Shape of label tensor:', Y.shape)"
   ]
  },
  {
   "cell_type": "code",
   "execution_count": 29,
   "id": "849eeb33",
   "metadata": {},
   "outputs": [
    {
     "data": {
      "text/plain": [
       "array([[0, 0, 0, ..., 0, 0, 0],\n",
       "       [1, 0, 0, ..., 0, 0, 0],\n",
       "       [1, 0, 0, ..., 0, 0, 0],\n",
       "       ...,\n",
       "       [1, 0, 0, ..., 0, 0, 0],\n",
       "       [0, 0, 0, ..., 0, 0, 0],\n",
       "       [1, 0, 0, ..., 0, 0, 0]], dtype=uint8)"
      ]
     },
     "execution_count": 29,
     "metadata": {},
     "output_type": "execute_result"
    }
   ],
   "source": [
    "Y"
   ]
  },
  {
   "cell_type": "code",
   "execution_count": 30,
   "id": "8c92d5ec",
   "metadata": {},
   "outputs": [
    {
     "name": "stdout",
     "output_type": "stream",
     "text": [
      "Number of positive and negative reviews in traing and validation set\n",
      "[85475, 773, 175, 86, 35, 1014, 41, 65, 198, 72, 385, 124, 150, 357, 1030, 101, 297, 89, 925, 2961, 658, 309, 88, 1102, 2106, 487, 180, 379, 263, 595, 131, 527, 167, 311, 321, 172, 648, 178, 165, 111, 272, 37, 33, 231, 65, 694]\n",
      "[57096, 488, 100, 57, 22, 684, 37, 48, 141, 34, 273, 76, 118, 218, 642, 64, 209, 65, 625, 1977, 401, 187, 60, 738, 1414, 323, 136, 241, 186, 433, 103, 395, 93, 222, 202, 119, 412, 88, 97, 91, 169, 30, 18, 120, 26, 443]\n"
     ]
    }
   ],
   "source": [
    "indices = np.arange(data_title.shape[0])\n",
    "np.random.shuffle(indices)\n",
    "data_title = data_title[indices]\n",
    "data_content = data_content[indices]\n",
    "data_keyword = data_keyword[indices]\n",
    "\n",
    "Y = Y[indices]\n",
    "nb_validation_samples = int(VALIDATION_SPLIT * data_title.shape[0])\n",
    "\n",
    "x_train_title = data_title[:-nb_validation_samples]\n",
    "x_train_content = data_content[:-nb_validation_samples]\n",
    "x_train_keyword = data_keyword[:-nb_validation_samples]\n",
    "y_train = Y[:-nb_validation_samples]\n",
    "\n",
    "x_val_title = data_title[-nb_validation_samples:]\n",
    "x_val_content = data_content[-nb_validation_samples:]\n",
    "x_val_keyword = data_keyword[-nb_validation_samples:]\n",
    "y_val = Y[-nb_validation_samples:]\n",
    "\n",
    "print('Number of positive and negative reviews in traing and validation set')\n",
    "print(y_train.sum(axis=0).tolist())\n",
    "print(y_val.sum(axis=0).tolist())"
   ]
  },
  {
   "cell_type": "code",
   "execution_count": null,
   "id": "70f90611",
   "metadata": {},
   "outputs": [],
   "source": []
  },
  {
   "cell_type": "markdown",
   "id": "43a7bf35",
   "metadata": {
    "id": "7CKMy_r-AK8w"
   },
   "source": [
    "### 임베딩 매트릭스 생성(Glove)"
   ]
  },
  {
   "cell_type": "code",
   "execution_count": 36,
   "id": "553a285b",
   "metadata": {
    "id": "6pXrZvhlAK8w"
   },
   "outputs": [
    {
     "name": "stdout",
     "output_type": "stream",
     "text": [
      "Total 358043 word vectors.\n"
     ]
    }
   ],
   "source": [
    "GLOVE_DIR = \"./word-embeddings/glove/glove.txt\"\n",
    "embeddings_index = {}\n",
    "f = open(GLOVE_DIR, encoding='utf-8')\n",
    "for line in f:\n",
    "    try:\n",
    "        values = line.split()\n",
    "        word = values[0]\n",
    "        coefs = np.asarray(values[1:], dtype='float32')\n",
    "        embeddings_index[word] = coefs\n",
    "    except:\n",
    "        print(word)\n",
    "        pass\n",
    "f.close()\n",
    "print('Total %s word vectors.' % len(embeddings_index))"
   ]
  },
  {
   "cell_type": "code",
   "execution_count": 37,
   "id": "617b295e",
   "metadata": {
    "colab": {
     "base_uri": "https://localhost:8080/"
    },
    "id": "4xqcOGzWAK8x",
    "outputId": "ef08d139-fe9c-4422-9a53-a3fca4280689"
   },
   "outputs": [
    {
     "name": "stdout",
     "output_type": "stream",
     "text": [
      "Total absent words are 88358 which is 54.85 % of total words\n"
     ]
    }
   ],
   "source": [
    "embedding_matrix = np.zeros((len(word_index) + 1, embed_size))\n",
    "absent_words = 0\n",
    "for word, i in word_index.items():\n",
    "    embedding_vector = embeddings_index.get(word)\n",
    "    if embedding_vector is not None:\n",
    "        # words not found in embedding index will be all-zeros.\n",
    "        embedding_matrix[i] = embedding_vector\n",
    "    else:\n",
    "        absent_words += 1\n",
    "print('Total absent words are', absent_words, 'which is', \"%0.2f\" % (absent_words * 100 / len(word_index)), '% of total words')"
   ]
  },
  {
   "cell_type": "code",
   "execution_count": 38,
   "id": "5e3437c0",
   "metadata": {
    "id": "9MeeJlb4AK8x"
   },
   "outputs": [],
   "source": [
    "embedding_layer_title = Embedding(len(word_index) + 1,embed_size,weights=[embedding_matrix], input_length=max_title_len, trainable=False)\n",
    "embedding_layer_content = Embedding(len(word_index) + 1,embed_size,weights=[embedding_matrix], input_length=max_content_len, trainable=False)\n",
    "embedding_layer_keyword = Embedding(len(word_index) + 1,embed_size,weights=[embedding_matrix], input_length=max_keyword_len, trainable=False)"
   ]
  },
  {
   "cell_type": "code",
   "execution_count": null,
   "id": "caaf08ce",
   "metadata": {
    "id": "CMPbm2fNAK8y"
   },
   "outputs": [],
   "source": []
  },
  {
   "cell_type": "markdown",
   "id": "995f9439",
   "metadata": {
    "id": "-f5T4pBfAK8y"
   },
   "source": [
    "## Model"
   ]
  },
  {
   "cell_type": "code",
   "execution_count": 39,
   "id": "0ec11ca0",
   "metadata": {
    "id": "809Is1P_AK8y"
   },
   "outputs": [],
   "source": [
    "class AttentionWithContext(Layer):\n",
    "    \"\"\"\n",
    "    Attention operation, with a context/query vector, for temporal data.\n",
    "    Supports Masking.\n",
    "    Follows the work of Yang et al. [https://www.cs.cmu.edu/~diyiy/docs/naacl16.pdf]\n",
    "    \"Hierarchical Attention Networks for Document Classification\"\n",
    "    by using a context vector to assist the attention\n",
    "    # Input shape\n",
    "        3D tensor with shape: `(samples, steps, features)`.\n",
    "    # Output shape\n",
    "        2D tensor with shape: `(samples, features)`.\n",
    "    How to use:\n",
    "    Just put it on top of an RNN Layer (GRU/LSTM/SimpleRNN) with return_sequences=True.\n",
    "    The dimensions are inferred based on the output shape of the RNN.\n",
    "    Note: The layer has been tested with Keras 2.0.6\n",
    "    Example:\n",
    "        model.add(LSTM(64, return_sequences=True))\n",
    "        model.add(AttentionWithContext())\n",
    "        # next add a Dense layer (for classification/regression) or whatever...\n",
    "    \"\"\"\n",
    "\n",
    "    def __init__(self,\n",
    "                 W_regularizer=None, u_regularizer=None, b_regularizer=None,\n",
    "                 W_constraint=None, u_constraint=None, b_constraint=None,\n",
    "                 bias=True, **kwargs):\n",
    "\n",
    "        self.supports_masking = True\n",
    "        self.init = initializers.get('glorot_uniform')\n",
    "\n",
    "        self.W_regularizer = regularizers.get(W_regularizer)\n",
    "        self.u_regularizer = regularizers.get(u_regularizer)\n",
    "        self.b_regularizer = regularizers.get(b_regularizer)\n",
    "\n",
    "        self.W_constraint = constraints.get(W_constraint)\n",
    "        self.u_constraint = constraints.get(u_constraint)\n",
    "        self.b_constraint = constraints.get(b_constraint)\n",
    "\n",
    "        self.bias = bias\n",
    "        super(AttentionWithContext, self).__init__(**kwargs)\n",
    "\n",
    "    def get_config(self):\n",
    "\n",
    "        config = super().get_config().copy()\n",
    "        config.update({\n",
    "            'W_regularizer': self.W_regularizer,\n",
    "            'u_regularizer': self.u_regularizer,\n",
    "            'b_regularizer': self.b_regularizer,\n",
    "            'W_constraint': self.W_constraint,\n",
    "            'u_constraint': self.u_constraint,\n",
    "            'b_constraint': self.b_constraint,\n",
    "            'bias': self.bias\n",
    "        })\n",
    "        return config\n",
    "\n",
    "    def build(self, input_shape):\n",
    "        assert len(input_shape) == 3\n",
    "\n",
    "        self.W = self.add_weight(shape=(input_shape[-1], input_shape[-1],),\n",
    "                                 initializer=self.init,\n",
    "                                 name='{}_W'.format(self.name),\n",
    "                                 regularizer=self.W_regularizer,\n",
    "                                 constraint=self.W_constraint)\n",
    "        if self.bias:\n",
    "            self.b = self.add_weight(shape=(input_shape[-1],),\n",
    "                                     initializer='zero',\n",
    "                                     name='{}_b'.format(self.name),\n",
    "                                     regularizer=self.b_regularizer,\n",
    "                                     constraint=self.b_constraint)\n",
    "\n",
    "        self.u = self.add_weight(shape=(input_shape[-1],),\n",
    "                                 initializer=self.init,\n",
    "                                 name='{}_u'.format(self.name),\n",
    "                                 regularizer=self.u_regularizer,\n",
    "                                 constraint=self.u_constraint)\n",
    "\n",
    "        super(AttentionWithContext, self).build(input_shape)\n",
    "\n",
    "    def compute_mask(self, input, input_mask=None):\n",
    "        # do not pass the mask to the next layers\n",
    "        return None\n",
    "\n",
    "    def call(self, x, mask=None):\n",
    "        uit = dot_product(x, self.W)\n",
    "\n",
    "        if self.bias:\n",
    "            uit += self.b\n",
    "\n",
    "        uit = K.tanh(uit)\n",
    "        ait = dot_product(uit, self.u)\n",
    "\n",
    "        a = K.exp(ait)\n",
    "\n",
    "        # apply mask after the exp. will be re-normalized next\n",
    "        if mask is not None:\n",
    "            # Cast the mask to floatX to avoid float64 upcasting in theano\n",
    "            a *= K.cast(mask, K.floatx())\n",
    "\n",
    "        # in some cases especially in the early stages of training the sum may be almost zero\n",
    "        # and this results in NaN's. A workaround is to add a very small positive number ε to the sum.\n",
    "        # a /= K.cast(K.sum(a, axis=1, keepdims=True), K.floatx())\n",
    "        a /= K.cast(K.sum(a, axis=1, keepdims=True) + K.epsilon(), K.floatx())\n",
    "\n",
    "        a = K.expand_dims(a)\n",
    "        weighted_input = x * a\n",
    "        return K.sum(weighted_input, axis=1)\n",
    "\n",
    "    def compute_output_shape(self, input_shape):\n",
    "        return input_shape[0], input_shape[-1]"
   ]
  },
  {
   "cell_type": "code",
   "execution_count": 40,
   "id": "46e1be2f",
   "metadata": {
    "id": "k4RmOw6wAK8z"
   },
   "outputs": [],
   "source": [
    "def dot_product(x, kernel):\n",
    "    \"\"\"\n",
    "    Wrapper for dot product operation, in order to be compatibl|e with both\n",
    "    Theano and Tensorflow\n",
    "    Args:\n",
    "        x (): input\n",
    "        kernel (): weights\n",
    "    Returns:\n",
    "    \"\"\"\n",
    "    if K.backend() == 'tensorflow':\n",
    "        return K.squeeze(K.dot(x, K.expand_dims(kernel)), axis=-1)\n",
    "    else:\n",
    "        return K.dot(x, kernel)"
   ]
  },
  {
   "cell_type": "code",
   "execution_count": 41,
   "id": "43a8c756",
   "metadata": {
    "id": "iSrfi34kAK8z"
   },
   "outputs": [],
   "source": [
    "REG_PARAM = 1e-13\n",
    "l2_reg = regularizers.l2(REG_PARAM)"
   ]
  },
  {
   "cell_type": "code",
   "execution_count": 42,
   "id": "ed4d6429",
   "metadata": {
    "colab": {
     "base_uri": "https://localhost:8080/"
    },
    "id": "-pR_Y5g2AK8z",
    "outputId": "f4c46456-3aeb-4e50-e577-ccaeb17ff36d",
    "scrolled": true
   },
   "outputs": [
    {
     "name": "stdout",
     "output_type": "stream",
     "text": [
      "Model: \"model_1\"\n",
      "__________________________________________________________________________________________________\n",
      "Layer (type)                    Output Shape         Param #     Connected to                     \n",
      "==================================================================================================\n",
      "input_1 (InputLayer)            (None, 300)          0                                            \n",
      "__________________________________________________________________________________________________\n",
      "input_2 (InputLayer)            (None, 1000)         0                                            \n",
      "__________________________________________________________________________________________________\n",
      "input_3 (InputLayer)            (None, 300)          0                                            \n",
      "__________________________________________________________________________________________________\n",
      "embedding_1 (Embedding)         (None, 300, 100)     16109000    input_1[0][0]                    \n",
      "__________________________________________________________________________________________________\n",
      "embedding_2 (Embedding)         (None, 1000, 100)    16109000    input_2[0][0]                    \n",
      "__________________________________________________________________________________________________\n",
      "embedding_3 (Embedding)         (None, 300, 100)     16109000    input_3[0][0]                    \n",
      "__________________________________________________________________________________________________\n",
      "conv1d_1 (Conv1D)               (None, 294, 64)      44864       embedding_1[0][0]                \n",
      "__________________________________________________________________________________________________\n",
      "conv1d_4 (Conv1D)               (None, 994, 64)      44864       embedding_2[0][0]                \n",
      "__________________________________________________________________________________________________\n",
      "conv1d_7 (Conv1D)               (None, 294, 64)      44864       embedding_3[0][0]                \n",
      "__________________________________________________________________________________________________\n",
      "dropout_1 (Dropout)             (None, 294, 64)      0           conv1d_1[0][0]                   \n",
      "__________________________________________________________________________________________________\n",
      "dropout_3 (Dropout)             (None, 994, 64)      0           conv1d_4[0][0]                   \n",
      "__________________________________________________________________________________________________\n",
      "dropout_5 (Dropout)             (None, 294, 64)      0           conv1d_7[0][0]                   \n",
      "__________________________________________________________________________________________________\n",
      "max_pooling1d_1 (MaxPooling1D)  (None, 147, 64)      0           dropout_1[0][0]                  \n",
      "__________________________________________________________________________________________________\n",
      "max_pooling1d_4 (MaxPooling1D)  (None, 497, 64)      0           dropout_3[0][0]                  \n",
      "__________________________________________________________________________________________________\n",
      "max_pooling1d_7 (MaxPooling1D)  (None, 147, 64)      0           dropout_5[0][0]                  \n",
      "__________________________________________________________________________________________________\n",
      "conv1d_2 (Conv1D)               (None, 143, 64)      20544       max_pooling1d_1[0][0]            \n",
      "__________________________________________________________________________________________________\n",
      "conv1d_5 (Conv1D)               (None, 493, 64)      20544       max_pooling1d_4[0][0]            \n",
      "__________________________________________________________________________________________________\n",
      "conv1d_8 (Conv1D)               (None, 143, 64)      20544       max_pooling1d_7[0][0]            \n",
      "__________________________________________________________________________________________________\n",
      "max_pooling1d_2 (MaxPooling1D)  (None, 71, 64)       0           conv1d_2[0][0]                   \n",
      "__________________________________________________________________________________________________\n",
      "max_pooling1d_5 (MaxPooling1D)  (None, 246, 64)      0           conv1d_5[0][0]                   \n",
      "__________________________________________________________________________________________________\n",
      "max_pooling1d_8 (MaxPooling1D)  (None, 71, 64)       0           conv1d_8[0][0]                   \n",
      "__________________________________________________________________________________________________\n",
      "conv1d_3 (Conv1D)               (None, 67, 128)      41088       max_pooling1d_2[0][0]            \n",
      "__________________________________________________________________________________________________\n",
      "conv1d_6 (Conv1D)               (None, 242, 128)     41088       max_pooling1d_5[0][0]            \n",
      "__________________________________________________________________________________________________\n",
      "conv1d_9 (Conv1D)               (None, 67, 128)      41088       max_pooling1d_8[0][0]            \n",
      "__________________________________________________________________________________________________\n",
      "max_pooling1d_3 (MaxPooling1D)  (None, 33, 128)      0           conv1d_3[0][0]                   \n",
      "__________________________________________________________________________________________________\n",
      "max_pooling1d_6 (MaxPooling1D)  (None, 121, 128)     0           conv1d_6[0][0]                   \n",
      "__________________________________________________________________________________________________\n",
      "max_pooling1d_9 (MaxPooling1D)  (None, 33, 128)      0           conv1d_9[0][0]                   \n",
      "__________________________________________________________________________________________________\n",
      "flatten_1 (Flatten)             (None, 4224)         0           max_pooling1d_3[0][0]            \n",
      "__________________________________________________________________________________________________\n",
      "flatten_2 (Flatten)             (None, 15488)        0           max_pooling1d_6[0][0]            \n",
      "__________________________________________________________________________________________________\n",
      "flatten_3 (Flatten)             (None, 4224)         0           max_pooling1d_9[0][0]            \n",
      "__________________________________________________________________________________________________\n",
      "dense_1 (Dense)                 (None, 128)          540800      flatten_1[0][0]                  \n",
      "__________________________________________________________________________________________________\n",
      "dense_2 (Dense)                 (None, 128)          1982592     flatten_2[0][0]                  \n",
      "__________________________________________________________________________________________________\n",
      "dense_3 (Dense)                 (None, 128)          540800      flatten_3[0][0]                  \n",
      "__________________________________________________________________________________________________\n",
      "dropout_2 (Dropout)             (None, 128)          0           dense_1[0][0]                    \n",
      "__________________________________________________________________________________________________\n",
      "dropout_4 (Dropout)             (None, 128)          0           dense_2[0][0]                    \n",
      "__________________________________________________________________________________________________\n",
      "dropout_6 (Dropout)             (None, 128)          0           dense_3[0][0]                    \n",
      "__________________________________________________________________________________________________\n",
      "concatenate_1 (Concatenate)     (None, 384)          0           dropout_2[0][0]                  \n",
      "                                                                 dropout_4[0][0]                  \n",
      "                                                                 dropout_6[0][0]                  \n",
      "__________________________________________________________________________________________________\n",
      "dense_4 (Dense)                 (None, 128)          49280       concatenate_1[0][0]              \n",
      "__________________________________________________________________________________________________\n",
      "dense_5 (Dense)                 (None, 46)           5934        dense_4[0][0]                    \n",
      "==================================================================================================\n",
      "Total params: 51,765,894\n",
      "Trainable params: 3,438,894\n",
      "Non-trainable params: 48,327,000\n",
      "__________________________________________________________________________________________________\n"
     ]
    }
   ],
   "source": [
    "### input1\n",
    "word_input1 = Input(shape=(max_title_len,), dtype='float32')\n",
    "word_sequences = embedding_layer_title(word_input1)\n",
    "conv_layer = Dropout(0.5)(Conv1D(filters=64, kernel_size=7, activation = 'relu', kernel_regularizer=l2_reg)(word_sequences))\n",
    "pool = MaxPooling1D(2)(conv_layer)\n",
    "conv_layer = Conv1D(filters=64, kernel_size=5, activation = 'relu')(pool)\n",
    "pool = MaxPooling1D(2)(conv_layer)\n",
    "conv_layer = Conv1D(filters=128, kernel_size=5, activation = 'relu')(pool)\n",
    "pool = MaxPooling1D(2)(conv_layer)\n",
    "#pool = GlobalMaxPooling1D()(pool)\n",
    "x1 = Flatten()(pool)\n",
    "x1 = Dropout(0.5)(Dense(128, activation= 'relu',kernel_regularizer=l2_reg)(x1))\n",
    "\n",
    "\n",
    "### input content\n",
    "word_input2 = Input(shape=(max_content_len,), dtype='float32')\n",
    "word_sequences = embedding_layer_content(word_input2)\n",
    "conv_layer = Dropout(0.5)(Conv1D(filters=64, kernel_size=7, activation = 'relu', kernel_regularizer=l2_reg)(word_sequences))\n",
    "pool = MaxPooling1D(2)(conv_layer)\n",
    "conv_layer = Conv1D(filters=64, kernel_size=5, activation = 'relu')(pool)\n",
    "pool = MaxPooling1D(2)(conv_layer)\n",
    "conv_layer = Conv1D(filters=128, kernel_size=5, activation = 'relu')(pool)\n",
    "pool = MaxPooling1D(2)(conv_layer)\n",
    "#pool = GlobalMaxPooling1D()(conv_layer)\n",
    "x2 = Flatten()(pool)\n",
    "x2 = Dropout(0.5)(Dense(128, activation= 'relu',kernel_regularizer=l2_reg)(x2))\n",
    "\n",
    "\n",
    "### input reversed content\n",
    "word_input3 = Input(shape=(max_keyword_len,), dtype='float32')\n",
    "word_sequences = embedding_layer_keyword(word_input3)\n",
    "conv_layer = Dropout(0.5)(Conv1D(filters=64, kernel_size=7, activation = 'relu', kernel_regularizer=l2_reg)(word_sequences))\n",
    "pool = MaxPooling1D(2)(conv_layer)\n",
    "conv_layer = Conv1D(filters=64, kernel_size=5, activation = 'relu')(pool)\n",
    "pool = MaxPooling1D(2)(conv_layer)\n",
    "conv_layer = Conv1D(filters=128, kernel_size=5, activation = 'relu')(pool)\n",
    "pool = MaxPooling1D(2)(conv_layer)\n",
    "#pool = GlobalMaxPooling1D()(conv_layer)\n",
    "x3 = Flatten()(pool)\n",
    "x3 = Dropout(0.5)(Dense(128, activation= 'relu',kernel_regularizer=l2_reg)(x3))\n",
    "\n",
    "\n",
    "concat = Concatenate()([x1, x2, x3])\n",
    "dense = Dense(128, activation= 'relu',kernel_regularizer=l2_reg)(concat)\n",
    "preds = Dense(46, activation='softmax')(dense)\n",
    "\n",
    "\n",
    "model = Model(inputs = [word_input1, word_input2, word_input3], outputs = preds)\n",
    "\n",
    "\n",
    "model.summary()"
   ]
  },
  {
   "cell_type": "code",
   "execution_count": 45,
   "id": "45c133fb",
   "metadata": {},
   "outputs": [],
   "source": [
    "from keras import backend as K\n",
    "\n",
    "def recall_m(y_true, y_pred):\n",
    "    true_positives = K.sum(K.round(K.clip(y_true * y_pred, 0, 1)))\n",
    "    possible_positives = K.sum(K.round(K.clip(y_true, 0, 1)))\n",
    "    recall = true_positives / (possible_positives + K.epsilon())\n",
    "    return recall\n",
    "\n",
    "def precision_m(y_true, y_pred):\n",
    "    true_positives = K.sum(K.round(K.clip(y_true * y_pred, 0, 1)))\n",
    "    predicted_positives = K.sum(K.round(K.clip(y_pred, 0, 1)))\n",
    "    precision = true_positives / (predicted_positives + K.epsilon())\n",
    "    return precision\n",
    "\n",
    "def f1_m(y_true, y_pred):\n",
    "    precision = precision_m(y_true, y_pred)\n",
    "    recall = recall_m(y_true, y_pred)\n",
    "    return 2*((precision*recall)/(precision+recall+K.epsilon()))"
   ]
  },
  {
   "cell_type": "code",
   "execution_count": 46,
   "id": "f62ee4a6",
   "metadata": {
    "id": "_vkKUuGDAK80",
    "scrolled": true
   },
   "outputs": [],
   "source": [
    "model.compile(loss='categorical_crossentropy', optimizer='adam', metrics=['accuracy', f1_m])\n",
    "\n",
    "checkpoint = ModelCheckpoint('./save_models/{}'.format(version) + '_best_{epoch:02d}.h5',\n",
    "                             verbose=0,\n",
    "                             monitor='val_loss',\n",
    "                             save_best_only=False,\n",
    "                             mode='auto')"
   ]
  },
  {
   "cell_type": "code",
   "execution_count": 47,
   "id": "46f3059a",
   "metadata": {
    "colab": {
     "base_uri": "https://localhost:8080/",
     "height": 1000
    },
    "id": "6QHeP9XDAK80",
    "outputId": "538f5009-d13e-4450-c3c0-b562ef692928",
    "scrolled": false
   },
   "outputs": [
    {
     "name": "stdout",
     "output_type": "stream",
     "text": [
      "Train on 104583 samples, validate on 69721 samples\n",
      "Epoch 1/50\n",
      "104583/104583 [==============================] - 76s 731us/step - loss: 0.8980 - accuracy: 0.8175 - f1_m: 0.8132 - val_loss: 0.7923 - val_accuracy: 0.8235 - val_f1_m: 0.8106\n",
      "Epoch 2/50\n",
      "104583/104583 [==============================] - 72s 689us/step - loss: 0.7275 - accuracy: 0.8249 - f1_m: 0.8267 - val_loss: 0.6678 - val_accuracy: 0.8329 - val_f1_m: 0.8372\n",
      "Epoch 3/50\n",
      "104583/104583 [==============================] - 72s 688us/step - loss: 0.6617 - accuracy: 0.8320 - f1_m: 0.8362 - val_loss: 0.6188 - val_accuracy: 0.8413 - val_f1_m: 0.8430\n",
      "Epoch 4/50\n",
      "104583/104583 [==============================] - 72s 691us/step - loss: 0.6182 - accuracy: 0.8392 - f1_m: 0.8438 - val_loss: 0.6011 - val_accuracy: 0.8441 - val_f1_m: 0.8489\n",
      "Epoch 5/50\n",
      "104583/104583 [==============================] - 74s 712us/step - loss: 0.5888 - accuracy: 0.8437 - f1_m: 0.8482 - val_loss: 0.5907 - val_accuracy: 0.8424 - val_f1_m: 0.8468\n",
      "Epoch 6/50\n",
      "104583/104583 [==============================] - 72s 692us/step - loss: 0.5645 - accuracy: 0.8483 - f1_m: 0.8529 - val_loss: 0.5598 - val_accuracy: 0.8508 - val_f1_m: 0.8532\n",
      "Epoch 7/50\n",
      "104583/104583 [==============================] - 72s 687us/step - loss: 0.5437 - accuracy: 0.8521 - f1_m: 0.8569 - val_loss: 0.5381 - val_accuracy: 0.8558 - val_f1_m: 0.8570\n",
      "Epoch 8/50\n",
      "104583/104583 [==============================] - 72s 687us/step - loss: 0.5240 - accuracy: 0.8559 - f1_m: 0.8597 - val_loss: 0.5424 - val_accuracy: 0.8531 - val_f1_m: 0.8578\n",
      "Epoch 9/50\n",
      "104583/104583 [==============================] - 72s 688us/step - loss: 0.5041 - accuracy: 0.8604 - f1_m: 0.8638 - val_loss: 0.5297 - val_accuracy: 0.8573 - val_f1_m: 0.8599\n",
      "Epoch 10/50\n",
      "104583/104583 [==============================] - 72s 687us/step - loss: 0.4937 - accuracy: 0.8617 - f1_m: 0.8661 - val_loss: 0.5357 - val_accuracy: 0.8556 - val_f1_m: 0.8590\n",
      "Epoch 11/50\n",
      "104583/104583 [==============================] - 72s 687us/step - loss: 0.4798 - accuracy: 0.8658 - f1_m: 0.8683 - val_loss: 0.5163 - val_accuracy: 0.8605 - val_f1_m: 0.8634\n",
      "Epoch 12/50\n",
      "104583/104583 [==============================] - 72s 687us/step - loss: 0.4707 - accuracy: 0.8669 - f1_m: 0.8710 - val_loss: 0.5059 - val_accuracy: 0.8608 - val_f1_m: 0.8640\n",
      "Epoch 13/50\n",
      "104583/104583 [==============================] - 72s 687us/step - loss: 0.4638 - accuracy: 0.8684 - f1_m: 0.8720 - val_loss: 0.5001 - val_accuracy: 0.8658 - val_f1_m: 0.8678\n",
      "Epoch 14/50\n",
      "104583/104583 [==============================] - 72s 687us/step - loss: 0.4505 - accuracy: 0.8704 - f1_m: 0.8740 - val_loss: 0.4898 - val_accuracy: 0.8697 - val_f1_m: 0.8690\n",
      "Epoch 15/50\n",
      "104583/104583 [==============================] - 72s 688us/step - loss: 0.4459 - accuracy: 0.8728 - f1_m: 0.8759 - val_loss: 0.4939 - val_accuracy: 0.8665 - val_f1_m: 0.8695\n",
      "Epoch 16/50\n",
      "104583/104583 [==============================] - 72s 688us/step - loss: 0.4341 - accuracy: 0.8751 - f1_m: 0.8788 - val_loss: 0.5015 - val_accuracy: 0.8649 - val_f1_m: 0.8670\n",
      "Epoch 17/50\n",
      "104583/104583 [==============================] - 72s 688us/step - loss: 0.4309 - accuracy: 0.8750 - f1_m: 0.8788 - val_loss: 0.5092 - val_accuracy: 0.8656 - val_f1_m: 0.8689\n",
      "Epoch 18/50\n",
      "104583/104583 [==============================] - 72s 687us/step - loss: 0.4246 - accuracy: 0.8784 - f1_m: 0.8814 - val_loss: 0.4957 - val_accuracy: 0.8678 - val_f1_m: 0.8708\n",
      "Epoch 19/50\n",
      "104583/104583 [==============================] - 72s 687us/step - loss: 0.4161 - accuracy: 0.8802 - f1_m: 0.8838 - val_loss: 0.4949 - val_accuracy: 0.8694 - val_f1_m: 0.8701\n",
      "Epoch 20/50\n",
      "104583/104583 [==============================] - 72s 691us/step - loss: 0.4109 - accuracy: 0.8816 - f1_m: 0.8848 - val_loss: 0.4866 - val_accuracy: 0.8718 - val_f1_m: 0.8736\n",
      "Epoch 21/50\n",
      "104583/104583 [==============================] - 72s 689us/step - loss: 0.4064 - accuracy: 0.8827 - f1_m: 0.8860 - val_loss: 0.4842 - val_accuracy: 0.8726 - val_f1_m: 0.8738\n",
      "Epoch 22/50\n",
      "104583/104583 [==============================] - 72s 690us/step - loss: 0.4044 - accuracy: 0.8823 - f1_m: 0.8860 - val_loss: 0.5034 - val_accuracy: 0.8682 - val_f1_m: 0.8711\n",
      "Epoch 23/50\n",
      "104583/104583 [==============================] - 72s 688us/step - loss: 0.3969 - accuracy: 0.8849 - f1_m: 0.8879 - val_loss: 0.4817 - val_accuracy: 0.8728 - val_f1_m: 0.8745\n",
      "Epoch 24/50\n",
      "104583/104583 [==============================] - 72s 687us/step - loss: 0.3924 - accuracy: 0.8859 - f1_m: 0.8892 - val_loss: 0.4883 - val_accuracy: 0.8715 - val_f1_m: 0.8742\n",
      "Epoch 25/50\n",
      " 10688/104583 [==>...........................] - ETA: 51s - loss: 0.3834 - accuracy: 0.8870 - f1_m: 0.8903"
     ]
    },
    {
     "ename": "KeyboardInterrupt",
     "evalue": "",
     "output_type": "error",
     "traceback": [
      "\u001b[1;31m---------------------------------------------------------------------------\u001b[0m",
      "\u001b[1;31mKeyboardInterrupt\u001b[0m                         Traceback (most recent call last)",
      "\u001b[1;32m<ipython-input-47-5c31e096327e>\u001b[0m in \u001b[0;36m<module>\u001b[1;34m\u001b[0m\n\u001b[0;32m      3\u001b[0m                     \u001b[0mepochs\u001b[0m \u001b[1;33m=\u001b[0m \u001b[1;36m50\u001b[0m\u001b[1;33m,\u001b[0m\u001b[1;33m\u001b[0m\u001b[1;33m\u001b[0m\u001b[0m\n\u001b[0;32m      4\u001b[0m                     \u001b[0mbatch_size\u001b[0m \u001b[1;33m=\u001b[0m \u001b[1;36m64\u001b[0m\u001b[1;33m,\u001b[0m\u001b[1;33m\u001b[0m\u001b[1;33m\u001b[0m\u001b[0m\n\u001b[1;32m----> 5\u001b[1;33m                     callbacks = [checkpoint])\n\u001b[0m",
      "\u001b[1;32m~\\.conda\\envs\\green\\lib\\site-packages\\keras\\engine\\training.py\u001b[0m in \u001b[0;36mfit\u001b[1;34m(self, x, y, batch_size, epochs, verbose, callbacks, validation_split, validation_data, shuffle, class_weight, sample_weight, initial_epoch, steps_per_epoch, validation_steps, validation_freq, max_queue_size, workers, use_multiprocessing, **kwargs)\u001b[0m\n\u001b[0;32m   1237\u001b[0m                                         \u001b[0msteps_per_epoch\u001b[0m\u001b[1;33m=\u001b[0m\u001b[0msteps_per_epoch\u001b[0m\u001b[1;33m,\u001b[0m\u001b[1;33m\u001b[0m\u001b[1;33m\u001b[0m\u001b[0m\n\u001b[0;32m   1238\u001b[0m                                         \u001b[0mvalidation_steps\u001b[0m\u001b[1;33m=\u001b[0m\u001b[0mvalidation_steps\u001b[0m\u001b[1;33m,\u001b[0m\u001b[1;33m\u001b[0m\u001b[1;33m\u001b[0m\u001b[0m\n\u001b[1;32m-> 1239\u001b[1;33m                                         validation_freq=validation_freq)\n\u001b[0m\u001b[0;32m   1240\u001b[0m \u001b[1;33m\u001b[0m\u001b[0m\n\u001b[0;32m   1241\u001b[0m     def evaluate(self,\n",
      "\u001b[1;32m~\\.conda\\envs\\green\\lib\\site-packages\\keras\\engine\\training_arrays.py\u001b[0m in \u001b[0;36mfit_loop\u001b[1;34m(model, fit_function, fit_inputs, out_labels, batch_size, epochs, verbose, callbacks, val_function, val_inputs, shuffle, initial_epoch, steps_per_epoch, validation_steps, validation_freq)\u001b[0m\n\u001b[0;32m    194\u001b[0m                     \u001b[0mins_batch\u001b[0m\u001b[1;33m[\u001b[0m\u001b[0mi\u001b[0m\u001b[1;33m]\u001b[0m \u001b[1;33m=\u001b[0m \u001b[0mins_batch\u001b[0m\u001b[1;33m[\u001b[0m\u001b[0mi\u001b[0m\u001b[1;33m]\u001b[0m\u001b[1;33m.\u001b[0m\u001b[0mtoarray\u001b[0m\u001b[1;33m(\u001b[0m\u001b[1;33m)\u001b[0m\u001b[1;33m\u001b[0m\u001b[1;33m\u001b[0m\u001b[0m\n\u001b[0;32m    195\u001b[0m \u001b[1;33m\u001b[0m\u001b[0m\n\u001b[1;32m--> 196\u001b[1;33m                 \u001b[0mouts\u001b[0m \u001b[1;33m=\u001b[0m \u001b[0mfit_function\u001b[0m\u001b[1;33m(\u001b[0m\u001b[0mins_batch\u001b[0m\u001b[1;33m)\u001b[0m\u001b[1;33m\u001b[0m\u001b[1;33m\u001b[0m\u001b[0m\n\u001b[0m\u001b[0;32m    197\u001b[0m                 \u001b[0mouts\u001b[0m \u001b[1;33m=\u001b[0m \u001b[0mto_list\u001b[0m\u001b[1;33m(\u001b[0m\u001b[0mouts\u001b[0m\u001b[1;33m)\u001b[0m\u001b[1;33m\u001b[0m\u001b[1;33m\u001b[0m\u001b[0m\n\u001b[0;32m    198\u001b[0m                 \u001b[1;32mfor\u001b[0m \u001b[0ml\u001b[0m\u001b[1;33m,\u001b[0m \u001b[0mo\u001b[0m \u001b[1;32min\u001b[0m \u001b[0mzip\u001b[0m\u001b[1;33m(\u001b[0m\u001b[0mout_labels\u001b[0m\u001b[1;33m,\u001b[0m \u001b[0mouts\u001b[0m\u001b[1;33m)\u001b[0m\u001b[1;33m:\u001b[0m\u001b[1;33m\u001b[0m\u001b[1;33m\u001b[0m\u001b[0m\n",
      "\u001b[1;32m~\\.conda\\envs\\green\\lib\\site-packages\\tensorflow\\python\\keras\\backend.py\u001b[0m in \u001b[0;36m__call__\u001b[1;34m(self, inputs)\u001b[0m\n\u001b[0;32m   3790\u001b[0m         \u001b[0mvalue\u001b[0m \u001b[1;33m=\u001b[0m \u001b[0mmath_ops\u001b[0m\u001b[1;33m.\u001b[0m\u001b[0mcast\u001b[0m\u001b[1;33m(\u001b[0m\u001b[0mvalue\u001b[0m\u001b[1;33m,\u001b[0m \u001b[0mtensor\u001b[0m\u001b[1;33m.\u001b[0m\u001b[0mdtype\u001b[0m\u001b[1;33m)\u001b[0m\u001b[1;33m\u001b[0m\u001b[1;33m\u001b[0m\u001b[0m\n\u001b[0;32m   3791\u001b[0m       \u001b[0mconverted_inputs\u001b[0m\u001b[1;33m.\u001b[0m\u001b[0mappend\u001b[0m\u001b[1;33m(\u001b[0m\u001b[0mvalue\u001b[0m\u001b[1;33m)\u001b[0m\u001b[1;33m\u001b[0m\u001b[1;33m\u001b[0m\u001b[0m\n\u001b[1;32m-> 3792\u001b[1;33m     \u001b[0moutputs\u001b[0m \u001b[1;33m=\u001b[0m \u001b[0mself\u001b[0m\u001b[1;33m.\u001b[0m\u001b[0m_graph_fn\u001b[0m\u001b[1;33m(\u001b[0m\u001b[1;33m*\u001b[0m\u001b[0mconverted_inputs\u001b[0m\u001b[1;33m)\u001b[0m\u001b[1;33m\u001b[0m\u001b[1;33m\u001b[0m\u001b[0m\n\u001b[0m\u001b[0;32m   3793\u001b[0m \u001b[1;33m\u001b[0m\u001b[0m\n\u001b[0;32m   3794\u001b[0m     \u001b[1;31m# EagerTensor.numpy() will often make a copy to ensure memory safety.\u001b[0m\u001b[1;33m\u001b[0m\u001b[1;33m\u001b[0m\u001b[1;33m\u001b[0m\u001b[0m\n",
      "\u001b[1;32m~\\.conda\\envs\\green\\lib\\site-packages\\tensorflow\\python\\eager\\function.py\u001b[0m in \u001b[0;36m__call__\u001b[1;34m(self, *args, **kwargs)\u001b[0m\n\u001b[0;32m   1603\u001b[0m       \u001b[0mTypeError\u001b[0m\u001b[1;33m:\u001b[0m \u001b[0mFor\u001b[0m \u001b[0minvalid\u001b[0m \u001b[0mpositional\u001b[0m\u001b[1;33m/\u001b[0m\u001b[0mkeyword\u001b[0m \u001b[0margument\u001b[0m \u001b[0mcombinations\u001b[0m\u001b[1;33m.\u001b[0m\u001b[1;33m\u001b[0m\u001b[1;33m\u001b[0m\u001b[0m\n\u001b[0;32m   1604\u001b[0m     \"\"\"\n\u001b[1;32m-> 1605\u001b[1;33m     \u001b[1;32mreturn\u001b[0m \u001b[0mself\u001b[0m\u001b[1;33m.\u001b[0m\u001b[0m_call_impl\u001b[0m\u001b[1;33m(\u001b[0m\u001b[0margs\u001b[0m\u001b[1;33m,\u001b[0m \u001b[0mkwargs\u001b[0m\u001b[1;33m)\u001b[0m\u001b[1;33m\u001b[0m\u001b[1;33m\u001b[0m\u001b[0m\n\u001b[0m\u001b[0;32m   1606\u001b[0m \u001b[1;33m\u001b[0m\u001b[0m\n\u001b[0;32m   1607\u001b[0m   \u001b[1;32mdef\u001b[0m \u001b[0m_call_impl\u001b[0m\u001b[1;33m(\u001b[0m\u001b[0mself\u001b[0m\u001b[1;33m,\u001b[0m \u001b[0margs\u001b[0m\u001b[1;33m,\u001b[0m \u001b[0mkwargs\u001b[0m\u001b[1;33m,\u001b[0m \u001b[0mcancellation_manager\u001b[0m\u001b[1;33m=\u001b[0m\u001b[1;32mNone\u001b[0m\u001b[1;33m)\u001b[0m\u001b[1;33m:\u001b[0m\u001b[1;33m\u001b[0m\u001b[1;33m\u001b[0m\u001b[0m\n",
      "\u001b[1;32m~\\.conda\\envs\\green\\lib\\site-packages\\tensorflow\\python\\eager\\function.py\u001b[0m in \u001b[0;36m_call_impl\u001b[1;34m(self, args, kwargs, cancellation_manager)\u001b[0m\n\u001b[0;32m   1643\u001b[0m       raise TypeError(\"Keyword arguments {} unknown. Expected {}.\".format(\n\u001b[0;32m   1644\u001b[0m           list(kwargs.keys()), list(self._arg_keywords)))\n\u001b[1;32m-> 1645\u001b[1;33m     \u001b[1;32mreturn\u001b[0m \u001b[0mself\u001b[0m\u001b[1;33m.\u001b[0m\u001b[0m_call_flat\u001b[0m\u001b[1;33m(\u001b[0m\u001b[0margs\u001b[0m\u001b[1;33m,\u001b[0m \u001b[0mself\u001b[0m\u001b[1;33m.\u001b[0m\u001b[0mcaptured_inputs\u001b[0m\u001b[1;33m,\u001b[0m \u001b[0mcancellation_manager\u001b[0m\u001b[1;33m)\u001b[0m\u001b[1;33m\u001b[0m\u001b[1;33m\u001b[0m\u001b[0m\n\u001b[0m\u001b[0;32m   1646\u001b[0m \u001b[1;33m\u001b[0m\u001b[0m\n\u001b[0;32m   1647\u001b[0m   \u001b[1;32mdef\u001b[0m \u001b[0m_filtered_call\u001b[0m\u001b[1;33m(\u001b[0m\u001b[0mself\u001b[0m\u001b[1;33m,\u001b[0m \u001b[0margs\u001b[0m\u001b[1;33m,\u001b[0m \u001b[0mkwargs\u001b[0m\u001b[1;33m)\u001b[0m\u001b[1;33m:\u001b[0m\u001b[1;33m\u001b[0m\u001b[1;33m\u001b[0m\u001b[0m\n",
      "\u001b[1;32m~\\.conda\\envs\\green\\lib\\site-packages\\tensorflow\\python\\eager\\function.py\u001b[0m in \u001b[0;36m_call_flat\u001b[1;34m(self, args, captured_inputs, cancellation_manager)\u001b[0m\n\u001b[0;32m   1744\u001b[0m       \u001b[1;31m# No tape is watching; skip to running the function.\u001b[0m\u001b[1;33m\u001b[0m\u001b[1;33m\u001b[0m\u001b[1;33m\u001b[0m\u001b[0m\n\u001b[0;32m   1745\u001b[0m       return self._build_call_outputs(self._inference_function.call(\n\u001b[1;32m-> 1746\u001b[1;33m           ctx, args, cancellation_manager=cancellation_manager))\n\u001b[0m\u001b[0;32m   1747\u001b[0m     forward_backward = self._select_forward_and_backward_functions(\n\u001b[0;32m   1748\u001b[0m         \u001b[0margs\u001b[0m\u001b[1;33m,\u001b[0m\u001b[1;33m\u001b[0m\u001b[1;33m\u001b[0m\u001b[0m\n",
      "\u001b[1;32m~\\.conda\\envs\\green\\lib\\site-packages\\tensorflow\\python\\eager\\function.py\u001b[0m in \u001b[0;36mcall\u001b[1;34m(self, ctx, args, cancellation_manager)\u001b[0m\n\u001b[0;32m    596\u001b[0m               \u001b[0minputs\u001b[0m\u001b[1;33m=\u001b[0m\u001b[0margs\u001b[0m\u001b[1;33m,\u001b[0m\u001b[1;33m\u001b[0m\u001b[1;33m\u001b[0m\u001b[0m\n\u001b[0;32m    597\u001b[0m               \u001b[0mattrs\u001b[0m\u001b[1;33m=\u001b[0m\u001b[0mattrs\u001b[0m\u001b[1;33m,\u001b[0m\u001b[1;33m\u001b[0m\u001b[1;33m\u001b[0m\u001b[0m\n\u001b[1;32m--> 598\u001b[1;33m               ctx=ctx)\n\u001b[0m\u001b[0;32m    599\u001b[0m         \u001b[1;32melse\u001b[0m\u001b[1;33m:\u001b[0m\u001b[1;33m\u001b[0m\u001b[1;33m\u001b[0m\u001b[0m\n\u001b[0;32m    600\u001b[0m           outputs = execute.execute_with_cancellation(\n",
      "\u001b[1;32m~\\.conda\\envs\\green\\lib\\site-packages\\tensorflow\\python\\eager\\execute.py\u001b[0m in \u001b[0;36mquick_execute\u001b[1;34m(op_name, num_outputs, inputs, attrs, ctx, name)\u001b[0m\n\u001b[0;32m     58\u001b[0m     \u001b[0mctx\u001b[0m\u001b[1;33m.\u001b[0m\u001b[0mensure_initialized\u001b[0m\u001b[1;33m(\u001b[0m\u001b[1;33m)\u001b[0m\u001b[1;33m\u001b[0m\u001b[1;33m\u001b[0m\u001b[0m\n\u001b[0;32m     59\u001b[0m     tensors = pywrap_tfe.TFE_Py_Execute(ctx._handle, device_name, op_name,\n\u001b[1;32m---> 60\u001b[1;33m                                         inputs, attrs, num_outputs)\n\u001b[0m\u001b[0;32m     61\u001b[0m   \u001b[1;32mexcept\u001b[0m \u001b[0mcore\u001b[0m\u001b[1;33m.\u001b[0m\u001b[0m_NotOkStatusException\u001b[0m \u001b[1;32mas\u001b[0m \u001b[0me\u001b[0m\u001b[1;33m:\u001b[0m\u001b[1;33m\u001b[0m\u001b[1;33m\u001b[0m\u001b[0m\n\u001b[0;32m     62\u001b[0m     \u001b[1;32mif\u001b[0m \u001b[0mname\u001b[0m \u001b[1;32mis\u001b[0m \u001b[1;32mnot\u001b[0m \u001b[1;32mNone\u001b[0m\u001b[1;33m:\u001b[0m\u001b[1;33m\u001b[0m\u001b[1;33m\u001b[0m\u001b[0m\n",
      "\u001b[1;31mKeyboardInterrupt\u001b[0m: "
     ]
    }
   ],
   "source": [
    "history = model.fit([x_train_title, x_train_content, x_train_keyword], y_train,\n",
    "                    validation_data = ([x_val_title, x_val_content, x_val_keyword], y_val),\n",
    "                    epochs = 50,\n",
    "                    batch_size = 64,\n",
    "                    callbacks = [checkpoint])"
   ]
  },
  {
   "cell_type": "code",
   "execution_count": null,
   "id": "e9aa3297",
   "metadata": {
    "id": "fHDVpkITAK80"
   },
   "outputs": [],
   "source": []
  },
  {
   "cell_type": "code",
   "execution_count": null,
   "id": "be422cd3",
   "metadata": {
    "id": "cUowA52SAK81"
   },
   "outputs": [],
   "source": [
    "print(history.history.keys())"
   ]
  },
  {
   "cell_type": "code",
   "execution_count": null,
   "id": "bc2280d9",
   "metadata": {
    "id": "VmEj192eAK81"
   },
   "outputs": [],
   "source": [
    "# summarize history for accuracy\n",
    "plt.plot(history.history['accuracy'])\n",
    "plt.plot(history.history['val_accuracy'])\n",
    "plt.title('model accuracy')\n",
    "plt.ylabel('accuracy')\n",
    "plt.xlabel('epoch')\n",
    "plt.legend(['train', 'val'], loc='upper left')\n",
    "plt.show()"
   ]
  },
  {
   "cell_type": "code",
   "execution_count": null,
   "id": "186068e7",
   "metadata": {
    "id": "r81GVf7YAK81"
   },
   "outputs": [],
   "source": [
    "# summarize history for loss\n",
    "plt.plot(history.history['loss'])\n",
    "plt.plot(history.history['val_loss'])\n",
    "plt.title('model loss')\n",
    "plt.ylabel('loss')\n",
    "plt.xlabel('epoch')\n",
    "plt.legend(['train', 'val'], loc='upper left')\n",
    "plt.show()"
   ]
  },
  {
   "cell_type": "code",
   "execution_count": null,
   "id": "ef5a82fa",
   "metadata": {
    "id": "AlIirTwRAK82"
   },
   "outputs": [],
   "source": []
  },
  {
   "cell_type": "markdown",
   "id": "35c7a2a4",
   "metadata": {
    "id": "0JvYIAkbAK82"
   },
   "source": [
    "# Inference"
   ]
  },
  {
   "cell_type": "code",
   "execution_count": 48,
   "id": "f868bf6b",
   "metadata": {},
   "outputs": [],
   "source": [
    "test = pd.read_csv('./data/test.csv')"
   ]
  },
  {
   "cell_type": "code",
   "execution_count": 49,
   "id": "b1d1de5d",
   "metadata": {},
   "outputs": [],
   "source": [
    "from keras.utils import CustomObjectScope\n",
    "from keras.models import load_model"
   ]
  },
  {
   "cell_type": "code",
   "execution_count": 50,
   "id": "dd57b22e",
   "metadata": {
    "scrolled": true
   },
   "outputs": [],
   "source": [
    "with CustomObjectScope({'AttentionWithContext': AttentionWithContext, 'f1_m': f1_m}):\n",
    "    model = load_model('./save_models/v2_best_23.h5')"
   ]
  },
  {
   "cell_type": "code",
   "execution_count": 51,
   "id": "19552bc8",
   "metadata": {},
   "outputs": [],
   "source": [
    "with open('./tokenizer/v2_tokenizer.pkl','rb') as f:\n",
    "    tokenizer = pkl.load(f)"
   ]
  },
  {
   "cell_type": "code",
   "execution_count": 52,
   "id": "e9fb5e60",
   "metadata": {},
   "outputs": [],
   "source": [
    "test = test.fillna('na')"
   ]
  },
  {
   "cell_type": "code",
   "execution_count": 53,
   "id": "1e45ad20",
   "metadata": {},
   "outputs": [
    {
     "name": "stderr",
     "output_type": "stream",
     "text": [
      "[nltk_data] Downloading package punkt to\n",
      "[nltk_data]     C:\\Users\\user\\AppData\\Roaming\\nltk_data...\n",
      "[nltk_data]   Package punkt is already up-to-date!\n"
     ]
    },
    {
     "data": {
      "text/plain": [
       "True"
      ]
     },
     "execution_count": 53,
     "metadata": {},
     "output_type": "execute_result"
    }
   ],
   "source": [
    "nltk.download('punkt')"
   ]
  },
  {
   "cell_type": "code",
   "execution_count": 54,
   "id": "7614e1c3",
   "metadata": {},
   "outputs": [
    {
     "name": "stderr",
     "output_type": "stream",
     "text": [
      "100%|█████████████████████████████████████████████████████████████████████████| 43576/43576 [00:03<00:00, 13058.09it/s]\n",
      "100%|██████████████████████████████████████████████████████████████████████████| 43576/43576 [00:25<00:00, 1683.08it/s]\n",
      "100%|█████████████████████████████████████████████████████████████████████████| 43576/43576 [00:01<00:00, 25420.98it/s]\n"
     ]
    }
   ],
   "source": [
    "test['tokenized_title'] = text_preprocessing(test['과제명'])\n",
    "test['tokenized_content'] = text_preprocessing(test['요약문_연구내용'])\n",
    "test['tokenized_keyword'] = text_preprocessing(test['요약문_한글키워드'])\n",
    "\n",
    "test.tokenized_title = test.tokenized_title.apply(lambda x: ' '.join(x))\n",
    "test.tokenized_content = test.tokenized_content.apply(lambda x: ' '.join(x))\n",
    "test.tokenized_keyword = test.tokenized_keyword.apply(lambda x: ' '.join(x))"
   ]
  },
  {
   "cell_type": "code",
   "execution_count": 55,
   "id": "39d29b1b",
   "metadata": {},
   "outputs": [],
   "source": [
    "title_sent_lens = []\n",
    "title_sent_nums = []\n",
    "title_paras = []\n",
    "title_texts = []\n",
    "for idx in range(test.tokenized_title.shape[0]):\n",
    "    text = test.tokenized_title[idx]\n",
    "    title_texts.append(text)\n",
    "    sentences = tokenize.sent_tokenize(text)\n",
    "    title_sent_nums.append(len(sentences))\n",
    "    for sent in sentences:\n",
    "        title_sent_lens.append(len(text_to_word_sequence(sent)))\n",
    "    title_paras.append(sentences)\n",
    "\n",
    "\n",
    "content_sent_lens = []\n",
    "content_sent_nums = []\n",
    "content_paras = []\n",
    "content_texts = []\n",
    "\n",
    "for idx in range(test.tokenized_content.shape[0]):\n",
    "    text = test.tokenized_content[idx]\n",
    "    content_texts.append(text)\n",
    "    sentences = tokenize.sent_tokenize(text)\n",
    "    content_sent_nums.append(len(sentences))\n",
    "    for sent in sentences:\n",
    "        content_sent_lens.append(len(text_to_word_sequence(sent)))\n",
    "    content_paras.append(sentences)\n",
    "    \n",
    "\n",
    "keyword_sent_lens = []\n",
    "keyword_sent_nums = []\n",
    "keyword_paras = []\n",
    "keyword_texts = []\n",
    "\n",
    "for idx in range(test.tokenized_keyword.shape[0]):\n",
    "    text = test.tokenized_content[idx]\n",
    "    keyword_texts.append(text)\n",
    "    sentences = tokenize.sent_tokenize(text)\n",
    "    keyword_sent_nums.append(len(sentences))\n",
    "    for sent in sentences:\n",
    "        keyword_sent_lens.append(len(text_to_word_sequence(sent)))\n",
    "    keyword_paras.append(sentences)"
   ]
  },
  {
   "cell_type": "code",
   "execution_count": 56,
   "id": "49076d0b",
   "metadata": {},
   "outputs": [],
   "source": [
    "text_title = test.tokenized_title\n",
    "text_content = test.tokenized_content\n",
    "text_keyword = test.tokenized_keyword"
   ]
  },
  {
   "cell_type": "code",
   "execution_count": 57,
   "id": "f43a177a",
   "metadata": {},
   "outputs": [
    {
     "name": "stderr",
     "output_type": "stream",
     "text": [
      "43576it [00:00, 59688.78it/s]\n",
      "43576it [00:09, 4654.31it/s]\n",
      "43576it [00:00, 61022.50it/s]\n"
     ]
    }
   ],
   "source": [
    "data_title = np.zeros((len(text_title), max_title_len), dtype='int32')\n",
    "for i, doc in tqdm(enumerate(text_title)):\n",
    "    wordTokens = text_to_word_sequence(doc)\n",
    "    k=0\n",
    "    for _, word in enumerate(wordTokens):\n",
    "        try:\n",
    "            if k < max_title_len and tokenizer.word_index[word] < max_features:\n",
    "                data_title[i,k] = tokenizer.word_index[word]\n",
    "                k = k+1\n",
    "        except:\n",
    "            pass\n",
    "    \n",
    "    \n",
    "data_content = np.zeros((len(content_texts), max_content_len), dtype='int32')\n",
    "for i, doc in tqdm(enumerate(content_texts)):\n",
    "    wordTokens = text_to_word_sequence(doc)\n",
    "    k=0\n",
    "    for _, word in enumerate(wordTokens):\n",
    "        try:\n",
    "            if k<max_content_len and tokenizer.word_index[word]<max_features:\n",
    "                data_content[i,k] = tokenizer.word_index[word]\n",
    "                k = k+1\n",
    "        except:\n",
    "            pass\n",
    "        \n",
    "        \n",
    "data_keyword = np.zeros((len(keyword_texts), max_keyword_len), dtype='int32')\n",
    "for i, doc in tqdm(enumerate(text_keyword)):\n",
    "    wordTokens = text_to_word_sequence(doc)\n",
    "    k=0\n",
    "    for _, word in enumerate(wordTokens):\n",
    "        try:\n",
    "            if k<max_content_len and tokenizer.word_index[word]<max_features:\n",
    "                data_keyword[i,k] = tokenizer.word_index[word]\n",
    "                k = k+1\n",
    "        except:\n",
    "            pass"
   ]
  },
  {
   "cell_type": "code",
   "execution_count": 58,
   "id": "f86c839b",
   "metadata": {},
   "outputs": [
    {
     "name": "stdout",
     "output_type": "stream",
     "text": [
      "Total 161089 unique tokens.\n"
     ]
    }
   ],
   "source": [
    "word_index = tokenizer.word_index\n",
    "print('Total %s unique tokens.' % len(word_index))"
   ]
  },
  {
   "cell_type": "code",
   "execution_count": 59,
   "id": "4cce7645",
   "metadata": {
    "id": "loc8Yt9CAK83"
   },
   "outputs": [],
   "source": [
    "pred_test = model.predict([data_title, data_content, data_keyword], batch_size = 64)"
   ]
  },
  {
   "cell_type": "code",
   "execution_count": 60,
   "id": "7883602b",
   "metadata": {},
   "outputs": [
    {
     "data": {
      "text/plain": [
       "(43576, 46)"
      ]
     },
     "execution_count": 60,
     "metadata": {},
     "output_type": "execute_result"
    }
   ],
   "source": [
    "pred_test.shape"
   ]
  },
  {
   "cell_type": "code",
   "execution_count": 61,
   "id": "7c4c3a4f",
   "metadata": {},
   "outputs": [],
   "source": [
    "pred = np.argmax(pred_test, axis=1)"
   ]
  },
  {
   "cell_type": "code",
   "execution_count": 62,
   "id": "fd411d11",
   "metadata": {},
   "outputs": [
    {
     "data": {
      "text/plain": [
       "(43576,)"
      ]
     },
     "execution_count": 62,
     "metadata": {},
     "output_type": "execute_result"
    }
   ],
   "source": [
    "pred.shape"
   ]
  },
  {
   "cell_type": "code",
   "execution_count": 63,
   "id": "f2b85fed",
   "metadata": {},
   "outputs": [],
   "source": [
    "sample_submission = pd.read_csv('./submission/sample_submission.csv')"
   ]
  },
  {
   "cell_type": "code",
   "execution_count": 64,
   "id": "162eb2ee",
   "metadata": {},
   "outputs": [],
   "source": [
    "sample_submission['label'] = pred\n",
    "sample_submission.to_csv('./submission/cnn_{}.csv'.format(version),index=False)"
   ]
  },
  {
   "cell_type": "code",
   "execution_count": 65,
   "id": "5ca7a93a",
   "metadata": {},
   "outputs": [
    {
     "data": {
      "text/plain": [
       "0     39254\n",
       "24      667\n",
       "5       394\n",
       "19      369\n",
       "14      302\n",
       "31      257\n",
       "23      240\n",
       "1       233\n",
       "36      186\n",
       "29      162\n",
       "25      133\n",
       "13      130\n",
       "27      122\n",
       "45      120\n",
       "40      112\n",
       "33       91\n",
       "18       86\n",
       "21       85\n",
       "43       75\n",
       "34       70\n",
       "10       65\n",
       "35       63\n",
       "8        58\n",
       "37       38\n",
       "16       34\n",
       "28       33\n",
       "2        33\n",
       "20       29\n",
       "9        27\n",
       "15       23\n",
       "7        15\n",
       "30       11\n",
       "12       10\n",
       "44        9\n",
       "4         7\n",
       "11        5\n",
       "39        5\n",
       "26        5\n",
       "32        5\n",
       "22        4\n",
       "3         4\n",
       "41        3\n",
       "38        2\n",
       "Name: label, dtype: int64"
      ]
     },
     "execution_count": 65,
     "metadata": {},
     "output_type": "execute_result"
    }
   ],
   "source": [
    "sample_submission['label'].value_counts()"
   ]
  },
  {
   "cell_type": "code",
   "execution_count": null,
   "id": "d26cd5ea",
   "metadata": {},
   "outputs": [],
   "source": []
  }
 ],
 "metadata": {
  "kernelspec": {
   "display_name": "Python 3",
   "language": "python",
   "name": "python3"
  },
  "language_info": {
   "codemirror_mode": {
    "name": "ipython",
    "version": 3
   },
   "file_extension": ".py",
   "mimetype": "text/x-python",
   "name": "python",
   "nbconvert_exporter": "python",
   "pygments_lexer": "ipython3",
   "version": "3.7.10"
  }
 },
 "nbformat": 4,
 "nbformat_minor": 5
}
